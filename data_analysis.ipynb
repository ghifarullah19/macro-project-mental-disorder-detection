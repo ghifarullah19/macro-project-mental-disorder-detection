{
  "cells": [
    {
      "cell_type": "code",
      "execution_count": 2,
      "metadata": {},
      "outputs": [
        {
          "name": "stdout",
          "output_type": "stream",
          "text": [
            "Collecting seaborn\n",
            "  Downloading seaborn-0.13.2-py3-none-any.whl (294 kB)\n",
            "     ------------------------------------ 294.9/294.9 kB 958.5 kB/s eta 0:00:00\n",
            "Requirement already satisfied: pandas>=1.2 in c:\\laragon\\bin\\python\\python-3.10\\lib\\site-packages (from seaborn) (2.2.1)\n",
            "Requirement already satisfied: matplotlib!=3.6.1,>=3.4 in c:\\laragon\\bin\\python\\python-3.10\\lib\\site-packages (from seaborn) (3.5.1)\n",
            "Requirement already satisfied: numpy!=1.24.0,>=1.20 in c:\\laragon\\bin\\python\\python-3.10\\lib\\site-packages (from seaborn) (1.26.4)\n",
            "Requirement already satisfied: cycler>=0.10 in c:\\laragon\\bin\\python\\python-3.10\\lib\\site-packages (from matplotlib!=3.6.1,>=3.4->seaborn) (0.12.1)\n",
            "Requirement already satisfied: kiwisolver>=1.0.1 in c:\\laragon\\bin\\python\\python-3.10\\lib\\site-packages (from matplotlib!=3.6.1,>=3.4->seaborn) (1.4.5)\n",
            "Requirement already satisfied: python-dateutil>=2.7 in c:\\users\\ghifarullah19\\appdata\\roaming\\python\\python310\\site-packages (from matplotlib!=3.6.1,>=3.4->seaborn) (2.9.0.post0)\n",
            "Requirement already satisfied: pillow>=6.2.0 in c:\\laragon\\bin\\python\\python-3.10\\lib\\site-packages (from matplotlib!=3.6.1,>=3.4->seaborn) (10.2.0)\n",
            "Requirement already satisfied: fonttools>=4.22.0 in c:\\laragon\\bin\\python\\python-3.10\\lib\\site-packages (from matplotlib!=3.6.1,>=3.4->seaborn) (4.49.0)\n",
            "Requirement already satisfied: packaging>=20.0 in c:\\users\\ghifarullah19\\appdata\\roaming\\python\\python310\\site-packages (from matplotlib!=3.6.1,>=3.4->seaborn) (23.2)\n",
            "Requirement already satisfied: pyparsing>=2.2.1 in c:\\laragon\\bin\\python\\python-3.10\\lib\\site-packages (from matplotlib!=3.6.1,>=3.4->seaborn) (3.1.2)\n",
            "Requirement already satisfied: tzdata>=2022.7 in c:\\laragon\\bin\\python\\python-3.10\\lib\\site-packages (from pandas>=1.2->seaborn) (2024.1)\n",
            "Requirement already satisfied: pytz>=2020.1 in c:\\laragon\\bin\\python\\python-3.10\\lib\\site-packages (from pandas>=1.2->seaborn) (2024.1)\n",
            "Requirement already satisfied: six>=1.5 in c:\\users\\ghifarullah19\\appdata\\roaming\\python\\python310\\site-packages (from python-dateutil>=2.7->matplotlib!=3.6.1,>=3.4->seaborn) (1.16.0)\n",
            "Installing collected packages: seaborn\n",
            "Successfully installed seaborn-0.13.2\n",
            "Note: you may need to restart the kernel to use updated packages.\n"
          ]
        },
        {
          "name": "stderr",
          "output_type": "stream",
          "text": [
            "\n",
            "[notice] A new release of pip available: 22.2.2 -> 24.0\n",
            "[notice] To update, run: python.exe -m pip install --upgrade pip\n"
          ]
        }
      ],
      "source": [
        "%pip install seaborn"
      ]
    },
    {
      "cell_type": "code",
      "execution_count": 3,
      "metadata": {
        "id": "mB26STlC29fJ"
      },
      "outputs": [],
      "source": [
        "import pandas as pd\n",
        "import numpy as np\n",
        "import matplotlib.pyplot as plt\n",
        "import seaborn as sns\n",
        "\n",
        "%matplotlib inline\n",
        "\n",
        "sns.set_style('whitegrid')"
      ]
    },
    {
      "cell_type": "code",
      "execution_count": 6,
      "metadata": {
        "id": "ubD5KqEc7kF_"
      },
      "outputs": [],
      "source": [
        "dataset_path = 'dataset\\mental_health_disorder_symptoms_ver2.csv'\n",
        "df = pd.read_csv(dataset_path)"
      ]
    },
    {
      "cell_type": "code",
      "execution_count": 7,
      "metadata": {
        "colab": {
          "base_uri": "https://localhost:8080/",
          "height": 255
        },
        "id": "AvIEKRRg7q6E",
        "outputId": "d3d45b0a-1bcb-4685-d93c-a6f7170ccc50"
      },
      "outputs": [
        {
          "data": {
            "text/html": [
              "<div>\n",
              "<style scoped>\n",
              "    .dataframe tbody tr th:only-of-type {\n",
              "        vertical-align: middle;\n",
              "    }\n",
              "\n",
              "    .dataframe tbody tr th {\n",
              "        vertical-align: top;\n",
              "    }\n",
              "\n",
              "    .dataframe thead th {\n",
              "        text-align: right;\n",
              "    }\n",
              "</style>\n",
              "<table border=\"1\" class=\"dataframe\">\n",
              "  <thead>\n",
              "    <tr style=\"text-align: right;\">\n",
              "      <th></th>\n",
              "      <th>ag+1:629e</th>\n",
              "      <th>feeling.nervous</th>\n",
              "      <th>panic</th>\n",
              "      <th>breathing.rapidly</th>\n",
              "      <th>sweating</th>\n",
              "      <th>trouble.in.concentration</th>\n",
              "      <th>having.trouble.in.sleeping</th>\n",
              "      <th>having.trouble.with.work</th>\n",
              "      <th>hopelessness</th>\n",
              "      <th>anger</th>\n",
              "      <th>...</th>\n",
              "      <th>having.nightmares</th>\n",
              "      <th>avoids.people.or.activities</th>\n",
              "      <th>feeling.negative</th>\n",
              "      <th>trouble.concentrating</th>\n",
              "      <th>blamming.yourself</th>\n",
              "      <th>hallucinations</th>\n",
              "      <th>repetitive.behaviour</th>\n",
              "      <th>seasonally</th>\n",
              "      <th>increased.energy</th>\n",
              "      <th>Disorder</th>\n",
              "    </tr>\n",
              "  </thead>\n",
              "  <tbody>\n",
              "    <tr>\n",
              "      <th>0</th>\n",
              "      <td>23</td>\n",
              "      <td>1</td>\n",
              "      <td>0</td>\n",
              "      <td>1</td>\n",
              "      <td>0</td>\n",
              "      <td>0</td>\n",
              "      <td>1</td>\n",
              "      <td>0</td>\n",
              "      <td>1</td>\n",
              "      <td>0</td>\n",
              "      <td>...</td>\n",
              "      <td>0</td>\n",
              "      <td>0</td>\n",
              "      <td>1</td>\n",
              "      <td>0</td>\n",
              "      <td>0</td>\n",
              "      <td>0</td>\n",
              "      <td>0</td>\n",
              "      <td>0</td>\n",
              "      <td>0</td>\n",
              "      <td>MDD</td>\n",
              "    </tr>\n",
              "    <tr>\n",
              "      <th>1</th>\n",
              "      <td>14</td>\n",
              "      <td>1</td>\n",
              "      <td>0</td>\n",
              "      <td>1</td>\n",
              "      <td>0</td>\n",
              "      <td>0</td>\n",
              "      <td>1</td>\n",
              "      <td>0</td>\n",
              "      <td>0</td>\n",
              "      <td>1</td>\n",
              "      <td>...</td>\n",
              "      <td>1</td>\n",
              "      <td>1</td>\n",
              "      <td>0</td>\n",
              "      <td>0</td>\n",
              "      <td>0</td>\n",
              "      <td>0</td>\n",
              "      <td>1</td>\n",
              "      <td>0</td>\n",
              "      <td>0</td>\n",
              "      <td>ASD</td>\n",
              "    </tr>\n",
              "    <tr>\n",
              "      <th>2</th>\n",
              "      <td>25</td>\n",
              "      <td>0</td>\n",
              "      <td>0</td>\n",
              "      <td>0</td>\n",
              "      <td>0</td>\n",
              "      <td>0</td>\n",
              "      <td>0</td>\n",
              "      <td>0</td>\n",
              "      <td>0</td>\n",
              "      <td>0</td>\n",
              "      <td>...</td>\n",
              "      <td>0</td>\n",
              "      <td>0</td>\n",
              "      <td>0</td>\n",
              "      <td>0</td>\n",
              "      <td>0</td>\n",
              "      <td>0</td>\n",
              "      <td>0</td>\n",
              "      <td>0</td>\n",
              "      <td>0</td>\n",
              "      <td>Loneliness</td>\n",
              "    </tr>\n",
              "    <tr>\n",
              "      <th>3</th>\n",
              "      <td>29</td>\n",
              "      <td>1</td>\n",
              "      <td>0</td>\n",
              "      <td>0</td>\n",
              "      <td>0</td>\n",
              "      <td>1</td>\n",
              "      <td>1</td>\n",
              "      <td>0</td>\n",
              "      <td>0</td>\n",
              "      <td>0</td>\n",
              "      <td>...</td>\n",
              "      <td>0</td>\n",
              "      <td>0</td>\n",
              "      <td>0</td>\n",
              "      <td>1</td>\n",
              "      <td>1</td>\n",
              "      <td>0</td>\n",
              "      <td>0</td>\n",
              "      <td>0</td>\n",
              "      <td>1</td>\n",
              "      <td>bipolar</td>\n",
              "    </tr>\n",
              "    <tr>\n",
              "      <th>4</th>\n",
              "      <td>32</td>\n",
              "      <td>1</td>\n",
              "      <td>1</td>\n",
              "      <td>1</td>\n",
              "      <td>1</td>\n",
              "      <td>1</td>\n",
              "      <td>1</td>\n",
              "      <td>1</td>\n",
              "      <td>0</td>\n",
              "      <td>0</td>\n",
              "      <td>...</td>\n",
              "      <td>0</td>\n",
              "      <td>1</td>\n",
              "      <td>0</td>\n",
              "      <td>0</td>\n",
              "      <td>0</td>\n",
              "      <td>0</td>\n",
              "      <td>0</td>\n",
              "      <td>0</td>\n",
              "      <td>0</td>\n",
              "      <td>anexiety</td>\n",
              "    </tr>\n",
              "  </tbody>\n",
              "</table>\n",
              "<p>5 rows × 29 columns</p>\n",
              "</div>"
            ],
            "text/plain": [
              "   ag+1:629e  feeling.nervous  panic  breathing.rapidly  sweating  \\\n",
              "0         23                1      0                  1         0   \n",
              "1         14                1      0                  1         0   \n",
              "2         25                0      0                  0         0   \n",
              "3         29                1      0                  0         0   \n",
              "4         32                1      1                  1         1   \n",
              "\n",
              "   trouble.in.concentration  having.trouble.in.sleeping  \\\n",
              "0                         0                           1   \n",
              "1                         0                           1   \n",
              "2                         0                           0   \n",
              "3                         1                           1   \n",
              "4                         1                           1   \n",
              "\n",
              "   having.trouble.with.work  hopelessness  anger  ...  having.nightmares  \\\n",
              "0                         0             1      0  ...                  0   \n",
              "1                         0             0      1  ...                  1   \n",
              "2                         0             0      0  ...                  0   \n",
              "3                         0             0      0  ...                  0   \n",
              "4                         1             0      0  ...                  0   \n",
              "\n",
              "   avoids.people.or.activities  feeling.negative  trouble.concentrating  \\\n",
              "0                            0                 1                      0   \n",
              "1                            1                 0                      0   \n",
              "2                            0                 0                      0   \n",
              "3                            0                 0                      1   \n",
              "4                            1                 0                      0   \n",
              "\n",
              "   blamming.yourself  hallucinations  repetitive.behaviour  seasonally  \\\n",
              "0                  0               0                     0           0   \n",
              "1                  0               0                     1           0   \n",
              "2                  0               0                     0           0   \n",
              "3                  1               0                     0           0   \n",
              "4                  0               0                     0           0   \n",
              "\n",
              "   increased.energy    Disorder  \n",
              "0                 0         MDD  \n",
              "1                 0         ASD  \n",
              "2                 0  Loneliness  \n",
              "3                 1     bipolar  \n",
              "4                 0    anexiety  \n",
              "\n",
              "[5 rows x 29 columns]"
            ]
          },
          "execution_count": 7,
          "metadata": {},
          "output_type": "execute_result"
        }
      ],
      "source": [
        "df.head()"
      ]
    },
    {
      "cell_type": "code",
      "execution_count": 8,
      "metadata": {
        "colab": {
          "base_uri": "https://localhost:8080/"
        },
        "id": "ctF3Pg9E-R2U",
        "outputId": "da31773d-6b5f-4619-fc9a-8f892a7d496b"
      },
      "outputs": [
        {
          "name": "stdout",
          "output_type": "stream",
          "text": [
            "<class 'pandas.core.frame.DataFrame'>\n",
            "RangeIndex: 637 entries, 0 to 636\n",
            "Data columns (total 29 columns):\n",
            " #   Column                       Non-Null Count  Dtype \n",
            "---  ------                       --------------  ----- \n",
            " 0   ag+1:629e                    637 non-null    int64 \n",
            " 1   feeling.nervous              637 non-null    int64 \n",
            " 2   panic                        637 non-null    int64 \n",
            " 3   breathing.rapidly            637 non-null    int64 \n",
            " 4   sweating                     637 non-null    int64 \n",
            " 5   trouble.in.concentration     637 non-null    int64 \n",
            " 6   having.trouble.in.sleeping   637 non-null    int64 \n",
            " 7   having.trouble.with.work     637 non-null    int64 \n",
            " 8   hopelessness                 637 non-null    int64 \n",
            " 9   anger                        637 non-null    int64 \n",
            " 10  over.react                   637 non-null    int64 \n",
            " 11  change.in.eating             637 non-null    int64 \n",
            " 12  suicidal.thought             637 non-null    int64 \n",
            " 13  feeling.tired                637 non-null    int64 \n",
            " 14  close.friend                 637 non-null    int64 \n",
            " 15  social.media.addiction       637 non-null    int64 \n",
            " 16  weight.gain                  637 non-null    int64 \n",
            " 17  introvert                    637 non-null    int64 \n",
            " 18  popping.up.stressful.memory  637 non-null    int64 \n",
            " 19  having.nightmares            637 non-null    int64 \n",
            " 20  avoids.people.or.activities  637 non-null    int64 \n",
            " 21  feeling.negative             637 non-null    int64 \n",
            " 22  trouble.concentrating        637 non-null    int64 \n",
            " 23  blamming.yourself            637 non-null    int64 \n",
            " 24  hallucinations               637 non-null    int64 \n",
            " 25  repetitive.behaviour         637 non-null    int64 \n",
            " 26  seasonally                   637 non-null    int64 \n",
            " 27  increased.energy             637 non-null    int64 \n",
            " 28  Disorder                     637 non-null    object\n",
            "dtypes: int64(28), object(1)\n",
            "memory usage: 144.4+ KB\n"
          ]
        }
      ],
      "source": [
        "df.info()"
      ]
    },
    {
      "cell_type": "code",
      "execution_count": 42,
      "metadata": {
        "colab": {
          "base_uri": "https://localhost:8080/",
          "height": 492
        },
        "id": "bFOvqBxc_YhL",
        "outputId": "49d4e091-3e48-4642-f32a-a472c6f66fff"
      },
      "outputs": [
        {
          "data": {
            "text/html": [
              "<div>\n",
              "<style scoped>\n",
              "    .dataframe tbody tr th:only-of-type {\n",
              "        vertical-align: middle;\n",
              "    }\n",
              "\n",
              "    .dataframe tbody tr th {\n",
              "        vertical-align: top;\n",
              "    }\n",
              "\n",
              "    .dataframe thead th {\n",
              "        text-align: right;\n",
              "    }\n",
              "</style>\n",
              "<table border=\"1\" class=\"dataframe\">\n",
              "  <thead>\n",
              "    <tr style=\"text-align: right;\">\n",
              "      <th></th>\n",
              "      <th>feeling.nervous</th>\n",
              "      <th>panic</th>\n",
              "      <th>breathing.rapidly</th>\n",
              "      <th>sweating</th>\n",
              "      <th>trouble.in.concentration</th>\n",
              "      <th>trouble.sleeping</th>\n",
              "      <th>trouble.with.work</th>\n",
              "      <th>hopelessness</th>\n",
              "      <th>anger</th>\n",
              "      <th>over.react</th>\n",
              "      <th>...</th>\n",
              "      <th>nightmares</th>\n",
              "      <th>avoids.people.or.activities</th>\n",
              "      <th>feeling.negative</th>\n",
              "      <th>trouble.concentrating</th>\n",
              "      <th>blamming.yourself</th>\n",
              "      <th>hallucinations</th>\n",
              "      <th>repetitive.behaviour</th>\n",
              "      <th>seasonally</th>\n",
              "      <th>increased.energy</th>\n",
              "      <th>Disorder</th>\n",
              "    </tr>\n",
              "    <tr>\n",
              "      <th>age</th>\n",
              "      <th></th>\n",
              "      <th></th>\n",
              "      <th></th>\n",
              "      <th></th>\n",
              "      <th></th>\n",
              "      <th></th>\n",
              "      <th></th>\n",
              "      <th></th>\n",
              "      <th></th>\n",
              "      <th></th>\n",
              "      <th></th>\n",
              "      <th></th>\n",
              "      <th></th>\n",
              "      <th></th>\n",
              "      <th></th>\n",
              "      <th></th>\n",
              "      <th></th>\n",
              "      <th></th>\n",
              "      <th></th>\n",
              "      <th></th>\n",
              "      <th></th>\n",
              "    </tr>\n",
              "  </thead>\n",
              "  <tbody>\n",
              "    <tr>\n",
              "      <th>23</th>\n",
              "      <td>1</td>\n",
              "      <td>0</td>\n",
              "      <td>1</td>\n",
              "      <td>0</td>\n",
              "      <td>0</td>\n",
              "      <td>1</td>\n",
              "      <td>0</td>\n",
              "      <td>1</td>\n",
              "      <td>0</td>\n",
              "      <td>0</td>\n",
              "      <td>...</td>\n",
              "      <td>0</td>\n",
              "      <td>0</td>\n",
              "      <td>1</td>\n",
              "      <td>0</td>\n",
              "      <td>0</td>\n",
              "      <td>0</td>\n",
              "      <td>0</td>\n",
              "      <td>0</td>\n",
              "      <td>0</td>\n",
              "      <td>MDD</td>\n",
              "    </tr>\n",
              "    <tr>\n",
              "      <th>14</th>\n",
              "      <td>1</td>\n",
              "      <td>0</td>\n",
              "      <td>1</td>\n",
              "      <td>0</td>\n",
              "      <td>0</td>\n",
              "      <td>1</td>\n",
              "      <td>0</td>\n",
              "      <td>0</td>\n",
              "      <td>1</td>\n",
              "      <td>1</td>\n",
              "      <td>...</td>\n",
              "      <td>1</td>\n",
              "      <td>1</td>\n",
              "      <td>0</td>\n",
              "      <td>0</td>\n",
              "      <td>0</td>\n",
              "      <td>0</td>\n",
              "      <td>1</td>\n",
              "      <td>0</td>\n",
              "      <td>0</td>\n",
              "      <td>ASD</td>\n",
              "    </tr>\n",
              "    <tr>\n",
              "      <th>25</th>\n",
              "      <td>0</td>\n",
              "      <td>0</td>\n",
              "      <td>0</td>\n",
              "      <td>0</td>\n",
              "      <td>0</td>\n",
              "      <td>0</td>\n",
              "      <td>0</td>\n",
              "      <td>0</td>\n",
              "      <td>0</td>\n",
              "      <td>0</td>\n",
              "      <td>...</td>\n",
              "      <td>0</td>\n",
              "      <td>0</td>\n",
              "      <td>0</td>\n",
              "      <td>0</td>\n",
              "      <td>0</td>\n",
              "      <td>0</td>\n",
              "      <td>0</td>\n",
              "      <td>0</td>\n",
              "      <td>0</td>\n",
              "      <td>Loneliness</td>\n",
              "    </tr>\n",
              "    <tr>\n",
              "      <th>29</th>\n",
              "      <td>1</td>\n",
              "      <td>0</td>\n",
              "      <td>0</td>\n",
              "      <td>0</td>\n",
              "      <td>1</td>\n",
              "      <td>1</td>\n",
              "      <td>0</td>\n",
              "      <td>0</td>\n",
              "      <td>0</td>\n",
              "      <td>1</td>\n",
              "      <td>...</td>\n",
              "      <td>0</td>\n",
              "      <td>0</td>\n",
              "      <td>0</td>\n",
              "      <td>1</td>\n",
              "      <td>1</td>\n",
              "      <td>0</td>\n",
              "      <td>0</td>\n",
              "      <td>0</td>\n",
              "      <td>1</td>\n",
              "      <td>bipolar</td>\n",
              "    </tr>\n",
              "    <tr>\n",
              "      <th>32</th>\n",
              "      <td>1</td>\n",
              "      <td>1</td>\n",
              "      <td>1</td>\n",
              "      <td>1</td>\n",
              "      <td>1</td>\n",
              "      <td>1</td>\n",
              "      <td>1</td>\n",
              "      <td>0</td>\n",
              "      <td>0</td>\n",
              "      <td>0</td>\n",
              "      <td>...</td>\n",
              "      <td>0</td>\n",
              "      <td>1</td>\n",
              "      <td>0</td>\n",
              "      <td>0</td>\n",
              "      <td>0</td>\n",
              "      <td>0</td>\n",
              "      <td>0</td>\n",
              "      <td>0</td>\n",
              "      <td>0</td>\n",
              "      <td>anexiety</td>\n",
              "    </tr>\n",
              "    <tr>\n",
              "      <th>...</th>\n",
              "      <td>...</td>\n",
              "      <td>...</td>\n",
              "      <td>...</td>\n",
              "      <td>...</td>\n",
              "      <td>...</td>\n",
              "      <td>...</td>\n",
              "      <td>...</td>\n",
              "      <td>...</td>\n",
              "      <td>...</td>\n",
              "      <td>...</td>\n",
              "      <td>...</td>\n",
              "      <td>...</td>\n",
              "      <td>...</td>\n",
              "      <td>...</td>\n",
              "      <td>...</td>\n",
              "      <td>...</td>\n",
              "      <td>...</td>\n",
              "      <td>...</td>\n",
              "      <td>...</td>\n",
              "      <td>...</td>\n",
              "      <td>...</td>\n",
              "    </tr>\n",
              "    <tr>\n",
              "      <th>23</th>\n",
              "      <td>1</td>\n",
              "      <td>0</td>\n",
              "      <td>1</td>\n",
              "      <td>1</td>\n",
              "      <td>0</td>\n",
              "      <td>0</td>\n",
              "      <td>0</td>\n",
              "      <td>0</td>\n",
              "      <td>0</td>\n",
              "      <td>0</td>\n",
              "      <td>...</td>\n",
              "      <td>0</td>\n",
              "      <td>0</td>\n",
              "      <td>1</td>\n",
              "      <td>0</td>\n",
              "      <td>0</td>\n",
              "      <td>0</td>\n",
              "      <td>0</td>\n",
              "      <td>0</td>\n",
              "      <td>0</td>\n",
              "      <td>eating disorder</td>\n",
              "    </tr>\n",
              "    <tr>\n",
              "      <th>27</th>\n",
              "      <td>1</td>\n",
              "      <td>0</td>\n",
              "      <td>1</td>\n",
              "      <td>0</td>\n",
              "      <td>0</td>\n",
              "      <td>0</td>\n",
              "      <td>0</td>\n",
              "      <td>1</td>\n",
              "      <td>1</td>\n",
              "      <td>0</td>\n",
              "      <td>...</td>\n",
              "      <td>1</td>\n",
              "      <td>0</td>\n",
              "      <td>1</td>\n",
              "      <td>1</td>\n",
              "      <td>1</td>\n",
              "      <td>0</td>\n",
              "      <td>0</td>\n",
              "      <td>0</td>\n",
              "      <td>0</td>\n",
              "      <td>PDD</td>\n",
              "    </tr>\n",
              "    <tr>\n",
              "      <th>19</th>\n",
              "      <td>0</td>\n",
              "      <td>1</td>\n",
              "      <td>0</td>\n",
              "      <td>0</td>\n",
              "      <td>1</td>\n",
              "      <td>0</td>\n",
              "      <td>1</td>\n",
              "      <td>0</td>\n",
              "      <td>0</td>\n",
              "      <td>1</td>\n",
              "      <td>...</td>\n",
              "      <td>0</td>\n",
              "      <td>1</td>\n",
              "      <td>0</td>\n",
              "      <td>1</td>\n",
              "      <td>0</td>\n",
              "      <td>0</td>\n",
              "      <td>1</td>\n",
              "      <td>0</td>\n",
              "      <td>1</td>\n",
              "      <td>ASD</td>\n",
              "    </tr>\n",
              "    <tr>\n",
              "      <th>16</th>\n",
              "      <td>1</td>\n",
              "      <td>0</td>\n",
              "      <td>0</td>\n",
              "      <td>0</td>\n",
              "      <td>0</td>\n",
              "      <td>0</td>\n",
              "      <td>1</td>\n",
              "      <td>0</td>\n",
              "      <td>0</td>\n",
              "      <td>0</td>\n",
              "      <td>...</td>\n",
              "      <td>0</td>\n",
              "      <td>0</td>\n",
              "      <td>0</td>\n",
              "      <td>0</td>\n",
              "      <td>0</td>\n",
              "      <td>0</td>\n",
              "      <td>0</td>\n",
              "      <td>0</td>\n",
              "      <td>0</td>\n",
              "      <td>Loneliness</td>\n",
              "    </tr>\n",
              "    <tr>\n",
              "      <th>14</th>\n",
              "      <td>1</td>\n",
              "      <td>0</td>\n",
              "      <td>1</td>\n",
              "      <td>0</td>\n",
              "      <td>0</td>\n",
              "      <td>1</td>\n",
              "      <td>0</td>\n",
              "      <td>0</td>\n",
              "      <td>1</td>\n",
              "      <td>1</td>\n",
              "      <td>...</td>\n",
              "      <td>1</td>\n",
              "      <td>1</td>\n",
              "      <td>0</td>\n",
              "      <td>0</td>\n",
              "      <td>0</td>\n",
              "      <td>0</td>\n",
              "      <td>1</td>\n",
              "      <td>0</td>\n",
              "      <td>0</td>\n",
              "      <td>ASD</td>\n",
              "    </tr>\n",
              "  </tbody>\n",
              "</table>\n",
              "<p>637 rows × 28 columns</p>\n",
              "</div>"
            ],
            "text/plain": [
              "     feeling.nervous  panic  breathing.rapidly  sweating  \\\n",
              "age                                                        \n",
              "23                 1      0                  1         0   \n",
              "14                 1      0                  1         0   \n",
              "25                 0      0                  0         0   \n",
              "29                 1      0                  0         0   \n",
              "32                 1      1                  1         1   \n",
              "..               ...    ...                ...       ...   \n",
              "23                 1      0                  1         1   \n",
              "27                 1      0                  1         0   \n",
              "19                 0      1                  0         0   \n",
              "16                 1      0                  0         0   \n",
              "14                 1      0                  1         0   \n",
              "\n",
              "     trouble.in.concentration  trouble.sleeping  trouble.with.work  \\\n",
              "age                                                                  \n",
              "23                          0                 1                  0   \n",
              "14                          0                 1                  0   \n",
              "25                          0                 0                  0   \n",
              "29                          1                 1                  0   \n",
              "32                          1                 1                  1   \n",
              "..                        ...               ...                ...   \n",
              "23                          0                 0                  0   \n",
              "27                          0                 0                  0   \n",
              "19                          1                 0                  1   \n",
              "16                          0                 0                  1   \n",
              "14                          0                 1                  0   \n",
              "\n",
              "     hopelessness  anger  over.react  ...  nightmares  \\\n",
              "age                                   ...               \n",
              "23              1      0           0  ...           0   \n",
              "14              0      1           1  ...           1   \n",
              "25              0      0           0  ...           0   \n",
              "29              0      0           1  ...           0   \n",
              "32              0      0           0  ...           0   \n",
              "..            ...    ...         ...  ...         ...   \n",
              "23              0      0           0  ...           0   \n",
              "27              1      1           0  ...           1   \n",
              "19              0      0           1  ...           0   \n",
              "16              0      0           0  ...           0   \n",
              "14              0      1           1  ...           1   \n",
              "\n",
              "     avoids.people.or.activities  feeling.negative  trouble.concentrating  \\\n",
              "age                                                                         \n",
              "23                             0                 1                      0   \n",
              "14                             1                 0                      0   \n",
              "25                             0                 0                      0   \n",
              "29                             0                 0                      1   \n",
              "32                             1                 0                      0   \n",
              "..                           ...               ...                    ...   \n",
              "23                             0                 1                      0   \n",
              "27                             0                 1                      1   \n",
              "19                             1                 0                      1   \n",
              "16                             0                 0                      0   \n",
              "14                             1                 0                      0   \n",
              "\n",
              "     blamming.yourself  hallucinations  repetitive.behaviour  seasonally  \\\n",
              "age                                                                        \n",
              "23                   0               0                     0           0   \n",
              "14                   0               0                     1           0   \n",
              "25                   0               0                     0           0   \n",
              "29                   1               0                     0           0   \n",
              "32                   0               0                     0           0   \n",
              "..                 ...             ...                   ...         ...   \n",
              "23                   0               0                     0           0   \n",
              "27                   1               0                     0           0   \n",
              "19                   0               0                     1           0   \n",
              "16                   0               0                     0           0   \n",
              "14                   0               0                     1           0   \n",
              "\n",
              "     increased.energy         Disorder  \n",
              "age                                     \n",
              "23                  0              MDD  \n",
              "14                  0              ASD  \n",
              "25                  0       Loneliness  \n",
              "29                  1          bipolar  \n",
              "32                  0         anexiety  \n",
              "..                ...              ...  \n",
              "23                  0  eating disorder  \n",
              "27                  0              PDD  \n",
              "19                  1              ASD  \n",
              "16                  0       Loneliness  \n",
              "14                  0              ASD  \n",
              "\n",
              "[637 rows x 28 columns]"
            ]
          },
          "execution_count": 42,
          "metadata": {},
          "output_type": "execute_result"
        }
      ],
      "source": [
        "df = df.rename(columns={'ag+1:629e':'age',\n",
        "                        'having.trouble.in.sleeping':'trouble.sleeping',\n",
        "                        'having.trouble.with.work':'trouble.with.work',\n",
        "                        'having.nightmares':'nightmares'})\n",
        "\n",
        "df.set_index(['age'])"
      ]
    },
    {
      "cell_type": "code",
      "execution_count": 48,
      "metadata": {
        "colab": {
          "base_uri": "https://localhost:8080/",
          "height": 466
        },
        "id": "-JVlCpR37vok",
        "outputId": "6aca1450-c066-4321-ab51-ea5f154d5840"
      },
      "outputs": [
        {
          "ename": "ValueError",
          "evalue": "Multi-dimensional indexing (e.g. `obj[:, None]`) is no longer supported. Convert to a numpy array before indexing instead.",
          "output_type": "error",
          "traceback": [
            "\u001b[1;31m---------------------------------------------------------------------------\u001b[0m",
            "\u001b[1;31mValueError\u001b[0m                                Traceback (most recent call last)",
            "Cell \u001b[1;32mIn[48], line 1\u001b[0m\n\u001b[1;32m----> 1\u001b[0m \u001b[43msns\u001b[49m\u001b[38;5;241;43m.\u001b[39;49m\u001b[43mhistplot\u001b[49m\u001b[43m(\u001b[49m\u001b[43mdata\u001b[49m\u001b[38;5;241;43m=\u001b[39;49m\u001b[43mdf\u001b[49m\u001b[43m,\u001b[49m\u001b[43m \u001b[49m\u001b[43mx\u001b[49m\u001b[38;5;241;43m=\u001b[39;49m\u001b[38;5;124;43m\"\u001b[39;49m\u001b[38;5;124;43mage\u001b[39;49m\u001b[38;5;124;43m\"\u001b[39;49m\u001b[43m,\u001b[49m\u001b[43m \u001b[49m\u001b[43mkde\u001b[49m\u001b[38;5;241;43m=\u001b[39;49m\u001b[38;5;28;43;01mTrue\u001b[39;49;00m\u001b[43m)\u001b[49m\n",
            "File \u001b[1;32mc:\\laragon\\bin\\python\\python-3.10\\lib\\site-packages\\seaborn\\distributions.py:1416\u001b[0m, in \u001b[0;36mhistplot\u001b[1;34m(data, x, y, hue, weights, stat, bins, binwidth, binrange, discrete, cumulative, common_bins, common_norm, multiple, element, fill, shrink, kde, kde_kws, line_kws, thresh, pthresh, pmax, cbar, cbar_ax, cbar_kws, palette, hue_order, hue_norm, color, log_scale, legend, ax, **kwargs)\u001b[0m\n\u001b[0;32m   1405\u001b[0m estimate_kws \u001b[38;5;241m=\u001b[39m \u001b[38;5;28mdict\u001b[39m(\n\u001b[0;32m   1406\u001b[0m     stat\u001b[38;5;241m=\u001b[39mstat,\n\u001b[0;32m   1407\u001b[0m     bins\u001b[38;5;241m=\u001b[39mbins,\n\u001b[1;32m   (...)\u001b[0m\n\u001b[0;32m   1411\u001b[0m     cumulative\u001b[38;5;241m=\u001b[39mcumulative,\n\u001b[0;32m   1412\u001b[0m )\n\u001b[0;32m   1414\u001b[0m \u001b[38;5;28;01mif\u001b[39;00m p\u001b[38;5;241m.\u001b[39munivariate:\n\u001b[1;32m-> 1416\u001b[0m     p\u001b[38;5;241m.\u001b[39mplot_univariate_histogram(\n\u001b[0;32m   1417\u001b[0m         multiple\u001b[38;5;241m=\u001b[39mmultiple,\n\u001b[0;32m   1418\u001b[0m         element\u001b[38;5;241m=\u001b[39melement,\n\u001b[0;32m   1419\u001b[0m         fill\u001b[38;5;241m=\u001b[39mfill,\n\u001b[0;32m   1420\u001b[0m         shrink\u001b[38;5;241m=\u001b[39mshrink,\n\u001b[0;32m   1421\u001b[0m         common_norm\u001b[38;5;241m=\u001b[39mcommon_norm,\n\u001b[0;32m   1422\u001b[0m         common_bins\u001b[38;5;241m=\u001b[39mcommon_bins,\n\u001b[0;32m   1423\u001b[0m         kde\u001b[38;5;241m=\u001b[39mkde,\n\u001b[0;32m   1424\u001b[0m         kde_kws\u001b[38;5;241m=\u001b[39mkde_kws,\n\u001b[0;32m   1425\u001b[0m         color\u001b[38;5;241m=\u001b[39mcolor,\n\u001b[0;32m   1426\u001b[0m         legend\u001b[38;5;241m=\u001b[39mlegend,\n\u001b[0;32m   1427\u001b[0m         estimate_kws\u001b[38;5;241m=\u001b[39mestimate_kws,\n\u001b[0;32m   1428\u001b[0m         line_kws\u001b[38;5;241m=\u001b[39mline_kws,\n\u001b[0;32m   1429\u001b[0m         \u001b[38;5;241m*\u001b[39m\u001b[38;5;241m*\u001b[39mkwargs,\n\u001b[0;32m   1430\u001b[0m     )\n\u001b[0;32m   1432\u001b[0m \u001b[38;5;28;01melse\u001b[39;00m:\n\u001b[0;32m   1434\u001b[0m     p\u001b[38;5;241m.\u001b[39mplot_bivariate_histogram(\n\u001b[0;32m   1435\u001b[0m         common_bins\u001b[38;5;241m=\u001b[39mcommon_bins,\n\u001b[0;32m   1436\u001b[0m         common_norm\u001b[38;5;241m=\u001b[39mcommon_norm,\n\u001b[1;32m   (...)\u001b[0m\n\u001b[0;32m   1446\u001b[0m         \u001b[38;5;241m*\u001b[39m\u001b[38;5;241m*\u001b[39mkwargs,\n\u001b[0;32m   1447\u001b[0m     )\n",
            "File \u001b[1;32mc:\\laragon\\bin\\python\\python-3.10\\lib\\site-packages\\seaborn\\distributions.py:651\u001b[0m, in \u001b[0;36m_DistributionPlotter.plot_univariate_histogram\u001b[1;34m(self, multiple, element, fill, common_norm, common_bins, shrink, kde, kde_kws, color, legend, line_kws, estimate_kws, **plot_kws)\u001b[0m\n\u001b[0;32m    648\u001b[0m     sticky_x, sticky_y \u001b[38;5;241m=\u001b[39m (\u001b[38;5;241m0\u001b[39m, np\u001b[38;5;241m.\u001b[39minf), \u001b[38;5;28;01mNone\u001b[39;00m\n\u001b[0;32m    650\u001b[0m line_kws[\u001b[38;5;124m\"\u001b[39m\u001b[38;5;124mcolor\u001b[39m\u001b[38;5;124m\"\u001b[39m] \u001b[38;5;241m=\u001b[39m to_rgba(sub_color, \u001b[38;5;241m1\u001b[39m)\n\u001b[1;32m--> 651\u001b[0m line, \u001b[38;5;241m=\u001b[39m ax\u001b[38;5;241m.\u001b[39mplot(\n\u001b[0;32m    652\u001b[0m     \u001b[38;5;241m*\u001b[39mline_args, \u001b[38;5;241m*\u001b[39m\u001b[38;5;241m*\u001b[39mline_kws,\n\u001b[0;32m    653\u001b[0m )\n\u001b[0;32m    655\u001b[0m \u001b[38;5;28;01mif\u001b[39;00m sticky_x \u001b[38;5;129;01mis\u001b[39;00m \u001b[38;5;129;01mnot\u001b[39;00m \u001b[38;5;28;01mNone\u001b[39;00m:\n\u001b[0;32m    656\u001b[0m     line\u001b[38;5;241m.\u001b[39msticky_edges\u001b[38;5;241m.\u001b[39mx[:] \u001b[38;5;241m=\u001b[39m sticky_x\n",
            "File \u001b[1;32mc:\\laragon\\bin\\python\\python-3.10\\lib\\site-packages\\matplotlib\\axes\\_axes.py:1632\u001b[0m, in \u001b[0;36mAxes.plot\u001b[1;34m(self, scalex, scaley, data, *args, **kwargs)\u001b[0m\n\u001b[0;32m   1390\u001b[0m \u001b[38;5;250m\u001b[39m\u001b[38;5;124;03m\"\"\"\u001b[39;00m\n\u001b[0;32m   1391\u001b[0m \u001b[38;5;124;03mPlot y versus x as lines and/or markers.\u001b[39;00m\n\u001b[0;32m   1392\u001b[0m \n\u001b[1;32m   (...)\u001b[0m\n\u001b[0;32m   1629\u001b[0m \u001b[38;5;124;03m(``'green'``) or hex strings (``'#008000'``).\u001b[39;00m\n\u001b[0;32m   1630\u001b[0m \u001b[38;5;124;03m\"\"\"\u001b[39;00m\n\u001b[0;32m   1631\u001b[0m kwargs \u001b[38;5;241m=\u001b[39m cbook\u001b[38;5;241m.\u001b[39mnormalize_kwargs(kwargs, mlines\u001b[38;5;241m.\u001b[39mLine2D)\n\u001b[1;32m-> 1632\u001b[0m lines \u001b[38;5;241m=\u001b[39m [\u001b[38;5;241m*\u001b[39m\u001b[38;5;28mself\u001b[39m\u001b[38;5;241m.\u001b[39m_get_lines(\u001b[38;5;241m*\u001b[39margs, data\u001b[38;5;241m=\u001b[39mdata, \u001b[38;5;241m*\u001b[39m\u001b[38;5;241m*\u001b[39mkwargs)]\n\u001b[0;32m   1633\u001b[0m \u001b[38;5;28;01mfor\u001b[39;00m line \u001b[38;5;129;01min\u001b[39;00m lines:\n\u001b[0;32m   1634\u001b[0m     \u001b[38;5;28mself\u001b[39m\u001b[38;5;241m.\u001b[39madd_line(line)\n",
            "File \u001b[1;32mc:\\laragon\\bin\\python\\python-3.10\\lib\\site-packages\\matplotlib\\axes\\_base.py:312\u001b[0m, in \u001b[0;36m_process_plot_var_args.__call__\u001b[1;34m(self, data, *args, **kwargs)\u001b[0m\n\u001b[0;32m    310\u001b[0m     this \u001b[38;5;241m+\u001b[39m\u001b[38;5;241m=\u001b[39m args[\u001b[38;5;241m0\u001b[39m],\n\u001b[0;32m    311\u001b[0m     args \u001b[38;5;241m=\u001b[39m args[\u001b[38;5;241m1\u001b[39m:]\n\u001b[1;32m--> 312\u001b[0m \u001b[38;5;28;01myield from\u001b[39;00m \u001b[38;5;28;43mself\u001b[39;49m\u001b[38;5;241;43m.\u001b[39;49m\u001b[43m_plot_args\u001b[49m\u001b[43m(\u001b[49m\u001b[43mthis\u001b[49m\u001b[43m,\u001b[49m\u001b[43m \u001b[49m\u001b[43mkwargs\u001b[49m\u001b[43m)\u001b[49m\n",
            "File \u001b[1;32mc:\\laragon\\bin\\python\\python-3.10\\lib\\site-packages\\matplotlib\\axes\\_base.py:487\u001b[0m, in \u001b[0;36m_process_plot_var_args._plot_args\u001b[1;34m(self, tup, kwargs, return_kwargs)\u001b[0m\n\u001b[0;32m    484\u001b[0m         kw[prop_name] \u001b[38;5;241m=\u001b[39m val\n\u001b[0;32m    486\u001b[0m \u001b[38;5;28;01mif\u001b[39;00m \u001b[38;5;28mlen\u001b[39m(xy) \u001b[38;5;241m==\u001b[39m \u001b[38;5;241m2\u001b[39m:\n\u001b[1;32m--> 487\u001b[0m     x \u001b[38;5;241m=\u001b[39m \u001b[43m_check_1d\u001b[49m\u001b[43m(\u001b[49m\u001b[43mxy\u001b[49m\u001b[43m[\u001b[49m\u001b[38;5;241;43m0\u001b[39;49m\u001b[43m]\u001b[49m\u001b[43m)\u001b[49m\n\u001b[0;32m    488\u001b[0m     y \u001b[38;5;241m=\u001b[39m _check_1d(xy[\u001b[38;5;241m1\u001b[39m])\n\u001b[0;32m    489\u001b[0m \u001b[38;5;28;01melse\u001b[39;00m:\n",
            "File \u001b[1;32mc:\\laragon\\bin\\python\\python-3.10\\lib\\site-packages\\matplotlib\\cbook\\__init__.py:1327\u001b[0m, in \u001b[0;36m_check_1d\u001b[1;34m(x)\u001b[0m\n\u001b[0;32m   1321\u001b[0m \u001b[38;5;28;01mwith\u001b[39;00m warnings\u001b[38;5;241m.\u001b[39mcatch_warnings(record\u001b[38;5;241m=\u001b[39m\u001b[38;5;28;01mTrue\u001b[39;00m) \u001b[38;5;28;01mas\u001b[39;00m w:\n\u001b[0;32m   1322\u001b[0m     warnings\u001b[38;5;241m.\u001b[39mfilterwarnings(\n\u001b[0;32m   1323\u001b[0m         \u001b[38;5;124m\"\u001b[39m\u001b[38;5;124malways\u001b[39m\u001b[38;5;124m\"\u001b[39m,\n\u001b[0;32m   1324\u001b[0m         category\u001b[38;5;241m=\u001b[39m\u001b[38;5;167;01mWarning\u001b[39;00m,\n\u001b[0;32m   1325\u001b[0m         message\u001b[38;5;241m=\u001b[39m\u001b[38;5;124m'\u001b[39m\u001b[38;5;124mSupport for multi-dimensional indexing\u001b[39m\u001b[38;5;124m'\u001b[39m)\n\u001b[1;32m-> 1327\u001b[0m     ndim \u001b[38;5;241m=\u001b[39m \u001b[43mx\u001b[49m\u001b[43m[\u001b[49m\u001b[43m:\u001b[49m\u001b[43m,\u001b[49m\u001b[43m \u001b[49m\u001b[38;5;28;43;01mNone\u001b[39;49;00m\u001b[43m]\u001b[49m\u001b[38;5;241m.\u001b[39mndim\n\u001b[0;32m   1328\u001b[0m     \u001b[38;5;66;03m# we have definitely hit a pandas index or series object\u001b[39;00m\n\u001b[0;32m   1329\u001b[0m     \u001b[38;5;66;03m# cast to a numpy array.\u001b[39;00m\n\u001b[0;32m   1330\u001b[0m     \u001b[38;5;28;01mif\u001b[39;00m \u001b[38;5;28mlen\u001b[39m(w) \u001b[38;5;241m>\u001b[39m \u001b[38;5;241m0\u001b[39m:\n",
            "File \u001b[1;32mc:\\laragon\\bin\\python\\python-3.10\\lib\\site-packages\\pandas\\core\\indexes\\base.py:5419\u001b[0m, in \u001b[0;36mIndex.__getitem__\u001b[1;34m(self, key)\u001b[0m\n\u001b[0;32m   5417\u001b[0m \u001b[38;5;66;03m# Because we ruled out integer above, we always get an arraylike here\u001b[39;00m\n\u001b[0;32m   5418\u001b[0m \u001b[38;5;28;01mif\u001b[39;00m result\u001b[38;5;241m.\u001b[39mndim \u001b[38;5;241m>\u001b[39m \u001b[38;5;241m1\u001b[39m:\n\u001b[1;32m-> 5419\u001b[0m     \u001b[43mdisallow_ndim_indexing\u001b[49m\u001b[43m(\u001b[49m\u001b[43mresult\u001b[49m\u001b[43m)\u001b[49m\n\u001b[0;32m   5421\u001b[0m \u001b[38;5;66;03m# NB: Using _constructor._simple_new would break if MultiIndex\u001b[39;00m\n\u001b[0;32m   5422\u001b[0m \u001b[38;5;66;03m#  didn't override __getitem__\u001b[39;00m\n\u001b[0;32m   5423\u001b[0m \u001b[38;5;28;01mreturn\u001b[39;00m \u001b[38;5;28mself\u001b[39m\u001b[38;5;241m.\u001b[39m_constructor\u001b[38;5;241m.\u001b[39m_simple_new(result, name\u001b[38;5;241m=\u001b[39m\u001b[38;5;28mself\u001b[39m\u001b[38;5;241m.\u001b[39m_name)\n",
            "File \u001b[1;32mc:\\laragon\\bin\\python\\python-3.10\\lib\\site-packages\\pandas\\core\\indexers\\utils.py:341\u001b[0m, in \u001b[0;36mdisallow_ndim_indexing\u001b[1;34m(result)\u001b[0m\n\u001b[0;32m    333\u001b[0m \u001b[38;5;250m\u001b[39m\u001b[38;5;124;03m\"\"\"\u001b[39;00m\n\u001b[0;32m    334\u001b[0m \u001b[38;5;124;03mHelper function to disallow multi-dimensional indexing on 1D Series/Index.\u001b[39;00m\n\u001b[0;32m    335\u001b[0m \n\u001b[1;32m   (...)\u001b[0m\n\u001b[0;32m    338\u001b[0m \u001b[38;5;124;03min GH#30588.\u001b[39;00m\n\u001b[0;32m    339\u001b[0m \u001b[38;5;124;03m\"\"\"\u001b[39;00m\n\u001b[0;32m    340\u001b[0m \u001b[38;5;28;01mif\u001b[39;00m np\u001b[38;5;241m.\u001b[39mndim(result) \u001b[38;5;241m>\u001b[39m \u001b[38;5;241m1\u001b[39m:\n\u001b[1;32m--> 341\u001b[0m     \u001b[38;5;28;01mraise\u001b[39;00m \u001b[38;5;167;01mValueError\u001b[39;00m(\n\u001b[0;32m    342\u001b[0m         \u001b[38;5;124m\"\u001b[39m\u001b[38;5;124mMulti-dimensional indexing (e.g. `obj[:, None]`) is no longer \u001b[39m\u001b[38;5;124m\"\u001b[39m\n\u001b[0;32m    343\u001b[0m         \u001b[38;5;124m\"\u001b[39m\u001b[38;5;124msupported. Convert to a numpy array before indexing instead.\u001b[39m\u001b[38;5;124m\"\u001b[39m\n\u001b[0;32m    344\u001b[0m     )\n",
            "\u001b[1;31mValueError\u001b[0m: Multi-dimensional indexing (e.g. `obj[:, None]`) is no longer supported. Convert to a numpy array before indexing instead."
          ]
        },
        {
          "data": {
            "image/png": "[encoded data removed]",
            "text/plain": [
              "<Figure size 640x480 with 1 Axes>"
            ]
          },
          "metadata": {},
          "output_type": "display_data"
        }
      ],
      "source": [
        "sns.histplot(data=df, x=\"age\", kde=True)"
      ]
    },
    {
      "cell_type": "code",
      "execution_count": 7,
      "metadata": {
        "colab": {
          "base_uri": "https://localhost:8080/"
        },
        "id": "IN7X7ydKBh-P",
        "outputId": "484a143a-73bc-4d19-a569-4b13b76d0292"
      },
      "outputs": [
        {
          "data": {
            "text/plain": [
              "array(['MDD', 'ASD', 'Loneliness', 'bipolar', 'anexiety', 'PTSD',\n",
              "       'sleeping disorder', 'psychotic deprission', 'eating disorder',\n",
              "       'ADHD', 'PDD', 'OCD'], dtype=object)"
            ]
          },
          "execution_count": 7,
          "metadata": {},
          "output_type": "execute_result"
        }
      ],
      "source": [
        "Disorders = df.Disorder.unique()\n",
        "Disorders"
      ]
    },
    {
      "cell_type": "code",
      "execution_count": 8,
      "metadata": {
        "id": "gqY35JLaByrE"
      },
      "outputs": [],
      "source": [
        "df.Disorder = df.Disorder.str.replace('psychotic deprission', 'psychot depresn')\n",
        "df.Disorder = df.Disorder.str.replace('sleeping disorder', 'sleep disord')\n",
        "df.Disorder = df.Disorder.str.replace('anexiety', 'anxiety')\n",
        "df.Disorder = df.Disorder.str.replace('eating disorder', 'ED')\n",
        "\n",
        "Disorders = df.Disorder.unique().tolist()"
      ]
    },
    {
      "cell_type": "code",
      "execution_count": 9,
      "metadata": {
        "colab": {
          "base_uri": "https://localhost:8080/",
          "height": 816
        },
        "id": "z3crXMUxCd6X",
        "outputId": "a5331d3d-bbf7-462a-dbf6-79aa38784798"
      },
      "outputs": [
        {
          "data": {
            "image/png": "[encoded data removed]",
            "text/plain": [
              "<Figure size 1500x1000 with 1 Axes>"
            ]
          },
          "metadata": {},
          "output_type": "display_data"
        }
      ],
      "source": [
        "plt.figure(figsize=(15,10))\n",
        "sns.barplot(data=df, x='Disorder', y='age', estimator=np.mean).set_title('Rata-rata Umur berdasarkan Gangguan dengan CI 95%')\n",
        "plt.show()"
      ]
    },
    {
      "cell_type": "code",
      "execution_count": 10,
      "metadata": {
        "id": "XEJl-T3eHTZZ"
      },
      "outputs": [],
      "source": [
        "symptom_incidences = df[df.columns[1:27]].sum()"
      ]
    },
    {
      "cell_type": "code",
      "execution_count": 12,
      "metadata": {
        "colab": {
          "base_uri": "https://localhost:8080/",
          "height": 751
        },
        "id": "vHTXRELDHeA-",
        "outputId": "800c3a89-ba50-4b20-c855-a74f6a947d44"
      },
      "outputs": [
        {
          "data": {
            "text/plain": [
              "<Axes: title={'center': 'Gejala dari beberapa Gangguan Kesehatan Mental'}>"
            ]
          },
          "execution_count": 12,
          "metadata": {},
          "output_type": "execute_result"
        },
        {
          "data": {
            "image/png": "[encoded data removed]",
            "text/plain": [
              "<Figure size 1200x600 with 1 Axes>"
            ]
          },
          "metadata": {},
          "output_type": "display_data"
        }
      ],
      "source": [
        "symptom_incidences.plot.bar(figsize=(12,6), title='Gejala dari beberapa Gangguan Kesehatan Mental')"
      ]
    },
    {
      "cell_type": "code",
      "execution_count": 14,
      "metadata": {
        "id": "UgxcXSvbMKdx"
      },
      "outputs": [],
      "source": [
        "symptoms = list(df.columns)\n",
        "\n",
        "symptoms.remove('age')\n",
        "symptoms.remove('Disorder')\n",
        "\n",
        "df = df.rename({'blamming.yourself':'blaming.yourself'}, axis=1)"
      ]
    },
    {
      "cell_type": "code",
      "execution_count": 15,
      "metadata": {
        "colab": {
          "base_uri": "https://localhost:8080/",
          "height": 568
        },
        "id": "no8XBSVRUQCm",
        "outputId": "71a23a48-6be8-4ee1-c27b-e6c29413ae39"
      },
      "outputs": [
        {
          "data": {
            "text/plain": [
              "<Axes: xlabel='Disorder'>"
            ]
          },
          "execution_count": 15,
          "metadata": {},
          "output_type": "execute_result"
        },
        {
          "data": {
            "image/png": "[encoded data removed]",
            "text/plain": [
              "<Figure size 640x480 with 1 Axes>"
            ]
          },
          "metadata": {},
          "output_type": "display_data"
        }
      ],
      "source": [
        "incidences = df.Disorder.value_counts()\n",
        "incidences.plot.bar()"
      ]
    },
    {
      "cell_type": "code",
      "execution_count": 16,
      "metadata": {
        "colab": {
          "base_uri": "https://localhost:8080/",
          "height": 98
        },
        "id": "QEUi7gRVUbXp",
        "outputId": "90a4948c-a298-4b26-81f4-7740fdbe3cfd"
      },
      "outputs": [
        {
          "data": {
            "application/vnd.google.colaboratory.intrinsic+json": {
              "type": "dataframe"
            },
            "text/html": [
              "\n",
              "  <div id=\"df-34297380-3112-4328-8b48-2b5c2bf22437\" class=\"colab-df-container\">\n",
              "    <div>\n",
              "<style scoped>\n",
              "    .dataframe tbody tr th:only-of-type {\n",
              "        vertical-align: middle;\n",
              "    }\n",
              "\n",
              "    .dataframe tbody tr th {\n",
              "        vertical-align: top;\n",
              "    }\n",
              "\n",
              "    .dataframe thead th {\n",
              "        text-align: right;\n",
              "    }\n",
              "</style>\n",
              "<table border=\"1\" class=\"dataframe\">\n",
              "  <thead>\n",
              "    <tr style=\"text-align: right;\">\n",
              "      <th></th>\n",
              "      <th>age</th>\n",
              "      <th>feeling.nervous</th>\n",
              "      <th>panic</th>\n",
              "      <th>breathing.rapidly</th>\n",
              "      <th>sweating</th>\n",
              "      <th>trouble.in.concentration</th>\n",
              "      <th>trouble.sleeping</th>\n",
              "      <th>trouble.with.work</th>\n",
              "      <th>hopelessness</th>\n",
              "      <th>anger</th>\n",
              "      <th>...</th>\n",
              "      <th>nightmares</th>\n",
              "      <th>avoids.people.or.activities</th>\n",
              "      <th>feeling.negative</th>\n",
              "      <th>trouble.concentrating</th>\n",
              "      <th>blaming.yourself</th>\n",
              "      <th>hallucinations</th>\n",
              "      <th>repetitive.behaviour</th>\n",
              "      <th>seasonally</th>\n",
              "      <th>increased.energy</th>\n",
              "      <th>Disorder</th>\n",
              "    </tr>\n",
              "  </thead>\n",
              "  <tbody>\n",
              "  </tbody>\n",
              "</table>\n",
              "<p>0 rows × 29 columns</p>\n",
              "</div>\n",
              "    <div class=\"colab-df-buttons\">\n",
              "\n",
              "  <div class=\"colab-df-container\">\n",
              "    <button class=\"colab-df-convert\" onclick=\"convertToInteractive('df-34297380-3112-4328-8b48-2b5c2bf22437')\"\n",
              "            title=\"Convert this dataframe to an interactive table.\"\n",
              "            style=\"display:none;\">\n",
              "\n",
              "  <svg xmlns=\"http://www.w3.org/2000/svg\" height=\"24px\" viewBox=\"0 -960 960 960\">\n",
              "    <path d=\"M120-120v-720h720v720H120Zm60-500h600v-160H180v160Zm220 220h160v-160H400v160Zm0 220h160v-160H400v160ZM180-400h160v-160H180v160Zm440 0h160v-160H620v160ZM180-180h160v-160H180v160Zm440 0h160v-160H620v160Z\"/>\n",
              "  </svg>\n",
              "    </button>\n",
              "\n",
              "  <style>\n",
              "    .colab-df-container {\n",
              "      display:flex;\n",
              "      gap: 12px;\n",
              "    }\n",
              "\n",
              "    .colab-df-convert {\n",
              "      background-color: #E8F0FE;\n",
              "      border: none;\n",
              "      border-radius: 50%;\n",
              "      cursor: pointer;\n",
              "      display: none;\n",
              "      fill: #1967D2;\n",
              "      height: 32px;\n",
              "      padding: 0 0 0 0;\n",
              "      width: 32px;\n",
              "    }\n",
              "\n",
              "    .colab-df-convert:hover {\n",
              "      background-color: #E2EBFA;\n",
              "      box-shadow: 0px 1px 2px rgba(60, 64, 67, 0.3), 0px 1px 3px 1px rgba(60, 64, 67, 0.15);\n",
              "      fill: #174EA6;\n",
              "    }\n",
              "\n",
              "    .colab-df-buttons div {\n",
              "      margin-bottom: 4px;\n",
              "    }\n",
              "\n",
              "    [theme=dark] .colab-df-convert {\n",
              "      background-color: #3B4455;\n",
              "      fill: #D2E3FC;\n",
              "    }\n",
              "\n",
              "    [theme=dark] .colab-df-convert:hover {\n",
              "      background-color: #434B5C;\n",
              "      box-shadow: 0px 1px 3px 1px rgba(0, 0, 0, 0.15);\n",
              "      filter: drop-shadow(0px 1px 2px rgba(0, 0, 0, 0.3));\n",
              "      fill: #FFFFFF;\n",
              "    }\n",
              "  </style>\n",
              "\n",
              "    <script>\n",
              "      const buttonEl =\n",
              "        document.querySelector('#df-34297380-3112-4328-8b48-2b5c2bf22437 button.colab-df-convert');\n",
              "      buttonEl.style.display =\n",
              "        google.colab.kernel.accessAllowed ? 'block' : 'none';\n",
              "\n",
              "      async function convertToInteractive(key) {\n",
              "        const element = document.querySelector('#df-34297380-3112-4328-8b48-2b5c2bf22437');\n",
              "        const dataTable =\n",
              "          await google.colab.kernel.invokeFunction('convertToInteractive',\n",
              "                                                    [key], {});\n",
              "        if (!dataTable) return;\n",
              "\n",
              "        const docLinkHtml = 'Like what you see? Visit the ' +\n",
              "          '<a target=\"_blank\" href=https://colab.research.google.com/notebooks/data_table.ipynb>data table notebook</a>'\n",
              "          + ' to learn more about interactive tables.';\n",
              "        element.innerHTML = '';\n",
              "        dataTable['output_type'] = 'display_data';\n",
              "        await google.colab.output.renderOutput(dataTable, element);\n",
              "        const docLink = document.createElement('div');\n",
              "        docLink.innerHTML = docLinkHtml;\n",
              "        element.appendChild(docLink);\n",
              "      }\n",
              "    </script>\n",
              "  </div>\n",
              "\n",
              "    </div>\n",
              "  </div>\n"
            ],
            "text/plain": [
              "Empty DataFrame\n",
              "Columns: [age, feeling.nervous, panic, breathing.rapidly, sweating, trouble.in.concentration, trouble.sleeping, trouble.with.work, hopelessness, anger, over.react, change.in.eating, suicidal.thought, feeling.tired, close.friend, social.media.addiction, weight.gain, introvert, popping.up.stressful.memory, nightmares, avoids.people.or.activities, feeling.negative, trouble.concentrating, blaming.yourself, hallucinations, repetitive.behaviour, seasonally, increased.energy, Disorder]\n",
              "Index: []\n",
              "\n",
              "[0 rows x 29 columns]"
            ]
          },
          "execution_count": 16,
          "metadata": {},
          "output_type": "execute_result"
        }
      ],
      "source": [
        "df[df.isna().any(axis=1)]"
      ]
    },
    {
      "cell_type": "code",
      "execution_count": 17,
      "metadata": {
        "colab": {
          "base_uri": "https://localhost:8080/",
          "height": 98
        },
        "id": "nuYciPsoVNiv",
        "outputId": "1c6e0bb1-8c78-4fb7-c054-293fee65e3b4"
      },
      "outputs": [
        {
          "data": {
            "application/vnd.google.colaboratory.intrinsic+json": {
              "type": "dataframe",
              "variable_name": "errors"
            },
            "text/html": [
              "\n",
              "  <div id=\"df-42f1b14c-8631-425a-bff1-bdbef58cd071\" class=\"colab-df-container\">\n",
              "    <div>\n",
              "<style scoped>\n",
              "    .dataframe tbody tr th:only-of-type {\n",
              "        vertical-align: middle;\n",
              "    }\n",
              "\n",
              "    .dataframe tbody tr th {\n",
              "        vertical-align: top;\n",
              "    }\n",
              "\n",
              "    .dataframe thead th {\n",
              "        text-align: right;\n",
              "    }\n",
              "</style>\n",
              "<table border=\"1\" class=\"dataframe\">\n",
              "  <thead>\n",
              "    <tr style=\"text-align: right;\">\n",
              "      <th></th>\n",
              "      <th>age</th>\n",
              "      <th>feeling.nervous</th>\n",
              "      <th>panic</th>\n",
              "      <th>breathing.rapidly</th>\n",
              "      <th>sweating</th>\n",
              "      <th>trouble.in.concentration</th>\n",
              "      <th>trouble.sleeping</th>\n",
              "      <th>trouble.with.work</th>\n",
              "      <th>hopelessness</th>\n",
              "      <th>anger</th>\n",
              "      <th>...</th>\n",
              "      <th>nightmares</th>\n",
              "      <th>avoids.people.or.activities</th>\n",
              "      <th>feeling.negative</th>\n",
              "      <th>trouble.concentrating</th>\n",
              "      <th>blaming.yourself</th>\n",
              "      <th>hallucinations</th>\n",
              "      <th>repetitive.behaviour</th>\n",
              "      <th>seasonally</th>\n",
              "      <th>increased.energy</th>\n",
              "      <th>Disorder</th>\n",
              "    </tr>\n",
              "  </thead>\n",
              "  <tbody>\n",
              "  </tbody>\n",
              "</table>\n",
              "<p>0 rows × 29 columns</p>\n",
              "</div>\n",
              "    <div class=\"colab-df-buttons\">\n",
              "\n",
              "  <div class=\"colab-df-container\">\n",
              "    <button class=\"colab-df-convert\" onclick=\"convertToInteractive('df-42f1b14c-8631-425a-bff1-bdbef58cd071')\"\n",
              "            title=\"Convert this dataframe to an interactive table.\"\n",
              "            style=\"display:none;\">\n",
              "\n",
              "  <svg xmlns=\"http://www.w3.org/2000/svg\" height=\"24px\" viewBox=\"0 -960 960 960\">\n",
              "    <path d=\"M120-120v-720h720v720H120Zm60-500h600v-160H180v160Zm220 220h160v-160H400v160Zm0 220h160v-160H400v160ZM180-400h160v-160H180v160Zm440 0h160v-160H620v160ZM180-180h160v-160H180v160Zm440 0h160v-160H620v160Z\"/>\n",
              "  </svg>\n",
              "    </button>\n",
              "\n",
              "  <style>\n",
              "    .colab-df-container {\n",
              "      display:flex;\n",
              "      gap: 12px;\n",
              "    }\n",
              "\n",
              "    .colab-df-convert {\n",
              "      background-color: #E8F0FE;\n",
              "      border: none;\n",
              "      border-radius: 50%;\n",
              "      cursor: pointer;\n",
              "      display: none;\n",
              "      fill: #1967D2;\n",
              "      height: 32px;\n",
              "      padding: 0 0 0 0;\n",
              "      width: 32px;\n",
              "    }\n",
              "\n",
              "    .colab-df-convert:hover {\n",
              "      background-color: #E2EBFA;\n",
              "      box-shadow: 0px 1px 2px rgba(60, 64, 67, 0.3), 0px 1px 3px 1px rgba(60, 64, 67, 0.15);\n",
              "      fill: #174EA6;\n",
              "    }\n",
              "\n",
              "    .colab-df-buttons div {\n",
              "      margin-bottom: 4px;\n",
              "    }\n",
              "\n",
              "    [theme=dark] .colab-df-convert {\n",
              "      background-color: #3B4455;\n",
              "      fill: #D2E3FC;\n",
              "    }\n",
              "\n",
              "    [theme=dark] .colab-df-convert:hover {\n",
              "      background-color: #434B5C;\n",
              "      box-shadow: 0px 1px 3px 1px rgba(0, 0, 0, 0.15);\n",
              "      filter: drop-shadow(0px 1px 2px rgba(0, 0, 0, 0.3));\n",
              "      fill: #FFFFFF;\n",
              "    }\n",
              "  </style>\n",
              "\n",
              "    <script>\n",
              "      const buttonEl =\n",
              "        document.querySelector('#df-42f1b14c-8631-425a-bff1-bdbef58cd071 button.colab-df-convert');\n",
              "      buttonEl.style.display =\n",
              "        google.colab.kernel.accessAllowed ? 'block' : 'none';\n",
              "\n",
              "      async function convertToInteractive(key) {\n",
              "        const element = document.querySelector('#df-42f1b14c-8631-425a-bff1-bdbef58cd071');\n",
              "        const dataTable =\n",
              "          await google.colab.kernel.invokeFunction('convertToInteractive',\n",
              "                                                    [key], {});\n",
              "        if (!dataTable) return;\n",
              "\n",
              "        const docLinkHtml = 'Like what you see? Visit the ' +\n",
              "          '<a target=\"_blank\" href=https://colab.research.google.com/notebooks/data_table.ipynb>data table notebook</a>'\n",
              "          + ' to learn more about interactive tables.';\n",
              "        element.innerHTML = '';\n",
              "        dataTable['output_type'] = 'display_data';\n",
              "        await google.colab.output.renderOutput(dataTable, element);\n",
              "        const docLink = document.createElement('div');\n",
              "        docLink.innerHTML = docLinkHtml;\n",
              "        element.appendChild(docLink);\n",
              "      }\n",
              "    </script>\n",
              "  </div>\n",
              "\n",
              "    </div>\n",
              "  </div>\n"
            ],
            "text/plain": [
              "Empty DataFrame\n",
              "Columns: [age, feeling.nervous, panic, breathing.rapidly, sweating, trouble.in.concentration, trouble.sleeping, trouble.with.work, hopelessness, anger, over.react, change.in.eating, suicidal.thought, feeling.tired, close.friend, social.media.addiction, weight.gain, introvert, popping.up.stressful.memory, nightmares, avoids.people.or.activities, feeling.negative, trouble.concentrating, blaming.yourself, hallucinations, repetitive.behaviour, seasonally, increased.energy, Disorder]\n",
              "Index: []\n",
              "\n",
              "[0 rows x 29 columns]"
            ]
          },
          "execution_count": 17,
          "metadata": {},
          "output_type": "execute_result"
        }
      ],
      "source": [
        "errors = df[(df.iloc[:, 1:27] > 1).any(axis=1)]\n",
        "errors"
      ]
    },
    {
      "cell_type": "code",
      "execution_count": 18,
      "metadata": {
        "colab": {
          "base_uri": "https://localhost:8080/",
          "height": 541
        },
        "id": "LXau0lxfVcl8",
        "outputId": "164fc58b-3ebd-4fe9-9edc-8d4ae26b75e7"
      },
      "outputs": [
        {
          "data": {
            "application/vnd.google.colaboratory.intrinsic+json": {
              "type": "dataframe",
              "variable_name": "byDisorder"
            },
            "text/html": [
              "\n",
              "  <div id=\"df-401c90f5-f566-4bad-9749-300670ec1c0e\" class=\"colab-df-container\">\n",
              "    <div>\n",
              "<style scoped>\n",
              "    .dataframe tbody tr th:only-of-type {\n",
              "        vertical-align: middle;\n",
              "    }\n",
              "\n",
              "    .dataframe tbody tr th {\n",
              "        vertical-align: top;\n",
              "    }\n",
              "\n",
              "    .dataframe thead th {\n",
              "        text-align: right;\n",
              "    }\n",
              "</style>\n",
              "<table border=\"1\" class=\"dataframe\">\n",
              "  <thead>\n",
              "    <tr style=\"text-align: right;\">\n",
              "      <th></th>\n",
              "      <th>feeling.nervous</th>\n",
              "      <th>panic</th>\n",
              "      <th>breathing.rapidly</th>\n",
              "      <th>sweating</th>\n",
              "      <th>trouble.in.concentration</th>\n",
              "      <th>trouble.sleeping</th>\n",
              "      <th>trouble.with.work</th>\n",
              "      <th>hopelessness</th>\n",
              "      <th>anger</th>\n",
              "      <th>over.react</th>\n",
              "      <th>...</th>\n",
              "      <th>nightmares</th>\n",
              "      <th>avoids.people.or.activities</th>\n",
              "      <th>feeling.negative</th>\n",
              "      <th>trouble.concentrating</th>\n",
              "      <th>blaming.yourself</th>\n",
              "      <th>hallucinations</th>\n",
              "      <th>repetitive.behaviour</th>\n",
              "      <th>seasonally</th>\n",
              "      <th>increased.energy</th>\n",
              "      <th>incidences</th>\n",
              "    </tr>\n",
              "    <tr>\n",
              "      <th>Disorder</th>\n",
              "      <th></th>\n",
              "      <th></th>\n",
              "      <th></th>\n",
              "      <th></th>\n",
              "      <th></th>\n",
              "      <th></th>\n",
              "      <th></th>\n",
              "      <th></th>\n",
              "      <th></th>\n",
              "      <th></th>\n",
              "      <th></th>\n",
              "      <th></th>\n",
              "      <th></th>\n",
              "      <th></th>\n",
              "      <th></th>\n",
              "      <th></th>\n",
              "      <th></th>\n",
              "      <th></th>\n",
              "      <th></th>\n",
              "      <th></th>\n",
              "      <th></th>\n",
              "    </tr>\n",
              "  </thead>\n",
              "  <tbody>\n",
              "    <tr>\n",
              "      <th>ADHD</th>\n",
              "      <td>28</td>\n",
              "      <td>0</td>\n",
              "      <td>0</td>\n",
              "      <td>0</td>\n",
              "      <td>65</td>\n",
              "      <td>37</td>\n",
              "      <td>0</td>\n",
              "      <td>0</td>\n",
              "      <td>0</td>\n",
              "      <td>0</td>\n",
              "      <td>...</td>\n",
              "      <td>0</td>\n",
              "      <td>0</td>\n",
              "      <td>0</td>\n",
              "      <td>65</td>\n",
              "      <td>0</td>\n",
              "      <td>0</td>\n",
              "      <td>28</td>\n",
              "      <td>0</td>\n",
              "      <td>65</td>\n",
              "      <td>65</td>\n",
              "    </tr>\n",
              "    <tr>\n",
              "      <th>ASD</th>\n",
              "      <td>49</td>\n",
              "      <td>50</td>\n",
              "      <td>60</td>\n",
              "      <td>32</td>\n",
              "      <td>18</td>\n",
              "      <td>50</td>\n",
              "      <td>8</td>\n",
              "      <td>0</td>\n",
              "      <td>71</td>\n",
              "      <td>57</td>\n",
              "      <td>...</td>\n",
              "      <td>71</td>\n",
              "      <td>89</td>\n",
              "      <td>0</td>\n",
              "      <td>18</td>\n",
              "      <td>0</td>\n",
              "      <td>0</td>\n",
              "      <td>83</td>\n",
              "      <td>0</td>\n",
              "      <td>8</td>\n",
              "      <td>89</td>\n",
              "    </tr>\n",
              "    <tr>\n",
              "      <th>ED</th>\n",
              "      <td>65</td>\n",
              "      <td>0</td>\n",
              "      <td>65</td>\n",
              "      <td>65</td>\n",
              "      <td>0</td>\n",
              "      <td>0</td>\n",
              "      <td>0</td>\n",
              "      <td>0</td>\n",
              "      <td>0</td>\n",
              "      <td>0</td>\n",
              "      <td>...</td>\n",
              "      <td>0</td>\n",
              "      <td>0</td>\n",
              "      <td>65</td>\n",
              "      <td>0</td>\n",
              "      <td>0</td>\n",
              "      <td>0</td>\n",
              "      <td>0</td>\n",
              "      <td>0</td>\n",
              "      <td>0</td>\n",
              "      <td>65</td>\n",
              "    </tr>\n",
              "    <tr>\n",
              "      <th>Loneliness</th>\n",
              "      <td>8</td>\n",
              "      <td>0</td>\n",
              "      <td>0</td>\n",
              "      <td>0</td>\n",
              "      <td>0</td>\n",
              "      <td>0</td>\n",
              "      <td>14</td>\n",
              "      <td>0</td>\n",
              "      <td>0</td>\n",
              "      <td>0</td>\n",
              "      <td>...</td>\n",
              "      <td>0</td>\n",
              "      <td>0</td>\n",
              "      <td>0</td>\n",
              "      <td>0</td>\n",
              "      <td>0</td>\n",
              "      <td>0</td>\n",
              "      <td>0</td>\n",
              "      <td>0</td>\n",
              "      <td>0</td>\n",
              "      <td>45</td>\n",
              "    </tr>\n",
              "    <tr>\n",
              "      <th>MDD</th>\n",
              "      <td>28</td>\n",
              "      <td>37</td>\n",
              "      <td>28</td>\n",
              "      <td>41</td>\n",
              "      <td>4</td>\n",
              "      <td>61</td>\n",
              "      <td>41</td>\n",
              "      <td>61</td>\n",
              "      <td>41</td>\n",
              "      <td>41</td>\n",
              "      <td>...</td>\n",
              "      <td>41</td>\n",
              "      <td>4</td>\n",
              "      <td>65</td>\n",
              "      <td>37</td>\n",
              "      <td>17</td>\n",
              "      <td>0</td>\n",
              "      <td>0</td>\n",
              "      <td>0</td>\n",
              "      <td>0</td>\n",
              "      <td>65</td>\n",
              "    </tr>\n",
              "    <tr>\n",
              "      <th>OCD</th>\n",
              "      <td>31</td>\n",
              "      <td>0</td>\n",
              "      <td>0</td>\n",
              "      <td>0</td>\n",
              "      <td>3</td>\n",
              "      <td>31</td>\n",
              "      <td>3</td>\n",
              "      <td>0</td>\n",
              "      <td>0</td>\n",
              "      <td>3</td>\n",
              "      <td>...</td>\n",
              "      <td>0</td>\n",
              "      <td>0</td>\n",
              "      <td>0</td>\n",
              "      <td>3</td>\n",
              "      <td>0</td>\n",
              "      <td>3</td>\n",
              "      <td>31</td>\n",
              "      <td>0</td>\n",
              "      <td>31</td>\n",
              "      <td>31</td>\n",
              "    </tr>\n",
              "    <tr>\n",
              "      <th>PDD</th>\n",
              "      <td>60</td>\n",
              "      <td>0</td>\n",
              "      <td>60</td>\n",
              "      <td>0</td>\n",
              "      <td>0</td>\n",
              "      <td>11</td>\n",
              "      <td>0</td>\n",
              "      <td>60</td>\n",
              "      <td>49</td>\n",
              "      <td>0</td>\n",
              "      <td>...</td>\n",
              "      <td>49</td>\n",
              "      <td>0</td>\n",
              "      <td>60</td>\n",
              "      <td>49</td>\n",
              "      <td>60</td>\n",
              "      <td>0</td>\n",
              "      <td>0</td>\n",
              "      <td>0</td>\n",
              "      <td>0</td>\n",
              "      <td>60</td>\n",
              "    </tr>\n",
              "    <tr>\n",
              "      <th>PTSD</th>\n",
              "      <td>24</td>\n",
              "      <td>43</td>\n",
              "      <td>43</td>\n",
              "      <td>21</td>\n",
              "      <td>46</td>\n",
              "      <td>46</td>\n",
              "      <td>22</td>\n",
              "      <td>0</td>\n",
              "      <td>43</td>\n",
              "      <td>21</td>\n",
              "      <td>...</td>\n",
              "      <td>46</td>\n",
              "      <td>22</td>\n",
              "      <td>0</td>\n",
              "      <td>7</td>\n",
              "      <td>43</td>\n",
              "      <td>26</td>\n",
              "      <td>39</td>\n",
              "      <td>0</td>\n",
              "      <td>0</td>\n",
              "      <td>46</td>\n",
              "    </tr>\n",
              "    <tr>\n",
              "      <th>anxiety</th>\n",
              "      <td>67</td>\n",
              "      <td>34</td>\n",
              "      <td>67</td>\n",
              "      <td>67</td>\n",
              "      <td>34</td>\n",
              "      <td>67</td>\n",
              "      <td>34</td>\n",
              "      <td>0</td>\n",
              "      <td>0</td>\n",
              "      <td>0</td>\n",
              "      <td>...</td>\n",
              "      <td>0</td>\n",
              "      <td>67</td>\n",
              "      <td>0</td>\n",
              "      <td>0</td>\n",
              "      <td>0</td>\n",
              "      <td>0</td>\n",
              "      <td>0</td>\n",
              "      <td>0</td>\n",
              "      <td>0</td>\n",
              "      <td>67</td>\n",
              "    </tr>\n",
              "    <tr>\n",
              "      <th>bipolar</th>\n",
              "      <td>20</td>\n",
              "      <td>0</td>\n",
              "      <td>0</td>\n",
              "      <td>0</td>\n",
              "      <td>36</td>\n",
              "      <td>43</td>\n",
              "      <td>0</td>\n",
              "      <td>0</td>\n",
              "      <td>0</td>\n",
              "      <td>43</td>\n",
              "      <td>...</td>\n",
              "      <td>0</td>\n",
              "      <td>23</td>\n",
              "      <td>0</td>\n",
              "      <td>20</td>\n",
              "      <td>36</td>\n",
              "      <td>0</td>\n",
              "      <td>0</td>\n",
              "      <td>0</td>\n",
              "      <td>43</td>\n",
              "      <td>43</td>\n",
              "    </tr>\n",
              "    <tr>\n",
              "      <th>psychot depresn</th>\n",
              "      <td>27</td>\n",
              "      <td>10</td>\n",
              "      <td>27</td>\n",
              "      <td>9</td>\n",
              "      <td>27</td>\n",
              "      <td>27</td>\n",
              "      <td>27</td>\n",
              "      <td>27</td>\n",
              "      <td>3</td>\n",
              "      <td>3</td>\n",
              "      <td>...</td>\n",
              "      <td>3</td>\n",
              "      <td>27</td>\n",
              "      <td>27</td>\n",
              "      <td>27</td>\n",
              "      <td>0</td>\n",
              "      <td>27</td>\n",
              "      <td>3</td>\n",
              "      <td>0</td>\n",
              "      <td>0</td>\n",
              "      <td>27</td>\n",
              "    </tr>\n",
              "    <tr>\n",
              "      <th>sleep disord</th>\n",
              "      <td>0</td>\n",
              "      <td>0</td>\n",
              "      <td>0</td>\n",
              "      <td>0</td>\n",
              "      <td>0</td>\n",
              "      <td>34</td>\n",
              "      <td>25</td>\n",
              "      <td>0</td>\n",
              "      <td>0</td>\n",
              "      <td>0</td>\n",
              "      <td>...</td>\n",
              "      <td>0</td>\n",
              "      <td>0</td>\n",
              "      <td>0</td>\n",
              "      <td>34</td>\n",
              "      <td>0</td>\n",
              "      <td>9</td>\n",
              "      <td>0</td>\n",
              "      <td>0</td>\n",
              "      <td>0</td>\n",
              "      <td>34</td>\n",
              "    </tr>\n",
              "  </tbody>\n",
              "</table>\n",
              "<p>12 rows × 28 columns</p>\n",
              "</div>\n",
              "    <div class=\"colab-df-buttons\">\n",
              "\n",
              "  <div class=\"colab-df-container\">\n",
              "    <button class=\"colab-df-convert\" onclick=\"convertToInteractive('df-401c90f5-f566-4bad-9749-300670ec1c0e')\"\n",
              "            title=\"Convert this dataframe to an interactive table.\"\n",
              "            style=\"display:none;\">\n",
              "\n",
              "  <svg xmlns=\"http://www.w3.org/2000/svg\" height=\"24px\" viewBox=\"0 -960 960 960\">\n",
              "    <path d=\"M120-120v-720h720v720H120Zm60-500h600v-160H180v160Zm220 220h160v-160H400v160Zm0 220h160v-160H400v160ZM180-400h160v-160H180v160Zm440 0h160v-160H620v160ZM180-180h160v-160H180v160Zm440 0h160v-160H620v160Z\"/>\n",
              "  </svg>\n",
              "    </button>\n",
              "\n",
              "  <style>\n",
              "    .colab-df-container {\n",
              "      display:flex;\n",
              "      gap: 12px;\n",
              "    }\n",
              "\n",
              "    .colab-df-convert {\n",
              "      background-color: #E8F0FE;\n",
              "      border: none;\n",
              "      border-radius: 50%;\n",
              "      cursor: pointer;\n",
              "      display: none;\n",
              "      fill: #1967D2;\n",
              "      height: 32px;\n",
              "      padding: 0 0 0 0;\n",
              "      width: 32px;\n",
              "    }\n",
              "\n",
              "    .colab-df-convert:hover {\n",
              "      background-color: #E2EBFA;\n",
              "      box-shadow: 0px 1px 2px rgba(60, 64, 67, 0.3), 0px 1px 3px 1px rgba(60, 64, 67, 0.15);\n",
              "      fill: #174EA6;\n",
              "    }\n",
              "\n",
              "    .colab-df-buttons div {\n",
              "      margin-bottom: 4px;\n",
              "    }\n",
              "\n",
              "    [theme=dark] .colab-df-convert {\n",
              "      background-color: #3B4455;\n",
              "      fill: #D2E3FC;\n",
              "    }\n",
              "\n",
              "    [theme=dark] .colab-df-convert:hover {\n",
              "      background-color: #434B5C;\n",
              "      box-shadow: 0px 1px 3px 1px rgba(0, 0, 0, 0.15);\n",
              "      filter: drop-shadow(0px 1px 2px rgba(0, 0, 0, 0.3));\n",
              "      fill: #FFFFFF;\n",
              "    }\n",
              "  </style>\n",
              "\n",
              "    <script>\n",
              "      const buttonEl =\n",
              "        document.querySelector('#df-401c90f5-f566-4bad-9749-300670ec1c0e button.colab-df-convert');\n",
              "      buttonEl.style.display =\n",
              "        google.colab.kernel.accessAllowed ? 'block' : 'none';\n",
              "\n",
              "      async function convertToInteractive(key) {\n",
              "        const element = document.querySelector('#df-401c90f5-f566-4bad-9749-300670ec1c0e');\n",
              "        const dataTable =\n",
              "          await google.colab.kernel.invokeFunction('convertToInteractive',\n",
              "                                                    [key], {});\n",
              "        if (!dataTable) return;\n",
              "\n",
              "        const docLinkHtml = 'Like what you see? Visit the ' +\n",
              "          '<a target=\"_blank\" href=https://colab.research.google.com/notebooks/data_table.ipynb>data table notebook</a>'\n",
              "          + ' to learn more about interactive tables.';\n",
              "        element.innerHTML = '';\n",
              "        dataTable['output_type'] = 'display_data';\n",
              "        await google.colab.output.renderOutput(dataTable, element);\n",
              "        const docLink = document.createElement('div');\n",
              "        docLink.innerHTML = docLinkHtml;\n",
              "        element.appendChild(docLink);\n",
              "      }\n",
              "    </script>\n",
              "  </div>\n",
              "\n",
              "\n",
              "<div id=\"df-98fa21dc-a0f4-4903-95a6-e5c76cc381db\">\n",
              "  <button class=\"colab-df-quickchart\" onclick=\"quickchart('df-98fa21dc-a0f4-4903-95a6-e5c76cc381db')\"\n",
              "            title=\"Suggest charts\"\n",
              "            style=\"display:none;\">\n",
              "\n",
              "<svg xmlns=\"http://www.w3.org/2000/svg\" height=\"24px\"viewBox=\"0 0 24 24\"\n",
              "     width=\"24px\">\n",
              "    <g>\n",
              "        <path d=\"M19 3H5c-1.1 0-2 .9-2 2v14c0 1.1.9 2 2 2h14c1.1 0 2-.9 2-2V5c0-1.1-.9-2-2-2zM9 17H7v-7h2v7zm4 0h-2V7h2v10zm4 0h-2v-4h2v4z\"/>\n",
              "    </g>\n",
              "</svg>\n",
              "  </button>\n",
              "\n",
              "<style>\n",
              "  .colab-df-quickchart {\n",
              "      --bg-color: #E8F0FE;\n",
              "      --fill-color: #1967D2;\n",
              "      --hover-bg-color: #E2EBFA;\n",
              "      --hover-fill-color: #174EA6;\n",
              "      --disabled-fill-color: #AAA;\n",
              "      --disabled-bg-color: #DDD;\n",
              "  }\n",
              "\n",
              "  [theme=dark] .colab-df-quickchart {\n",
              "      --bg-color: #3B4455;\n",
              "      --fill-color: #D2E3FC;\n",
              "      --hover-bg-color: #434B5C;\n",
              "      --hover-fill-color: #FFFFFF;\n",
              "      --disabled-bg-color: #3B4455;\n",
              "      --disabled-fill-color: #666;\n",
              "  }\n",
              "\n",
              "  .colab-df-quickchart {\n",
              "    background-color: var(--bg-color);\n",
              "    border: none;\n",
              "    border-radius: 50%;\n",
              "    cursor: pointer;\n",
              "    display: none;\n",
              "    fill: var(--fill-color);\n",
              "    height: 32px;\n",
              "    padding: 0;\n",
              "    width: 32px;\n",
              "  }\n",
              "\n",
              "  .colab-df-quickchart:hover {\n",
              "    background-color: var(--hover-bg-color);\n",
              "    box-shadow: 0 1px 2px rgba(60, 64, 67, 0.3), 0 1px 3px 1px rgba(60, 64, 67, 0.15);\n",
              "    fill: var(--button-hover-fill-color);\n",
              "  }\n",
              "\n",
              "  .colab-df-quickchart-complete:disabled,\n",
              "  .colab-df-quickchart-complete:disabled:hover {\n",
              "    background-color: var(--disabled-bg-color);\n",
              "    fill: var(--disabled-fill-color);\n",
              "    box-shadow: none;\n",
              "  }\n",
              "\n",
              "  .colab-df-spinner {\n",
              "    border: 2px solid var(--fill-color);\n",
              "    border-color: transparent;\n",
              "    border-bottom-color: var(--fill-color);\n",
              "    animation:\n",
              "      spin 1s steps(1) infinite;\n",
              "  }\n",
              "\n",
              "  @keyframes spin {\n",
              "    0% {\n",
              "      border-color: transparent;\n",
              "      border-bottom-color: var(--fill-color);\n",
              "      border-left-color: var(--fill-color);\n",
              "    }\n",
              "    20% {\n",
              "      border-color: transparent;\n",
              "      border-left-color: var(--fill-color);\n",
              "      border-top-color: var(--fill-color);\n",
              "    }\n",
              "    30% {\n",
              "      border-color: transparent;\n",
              "      border-left-color: var(--fill-color);\n",
              "      border-top-color: var(--fill-color);\n",
              "      border-right-color: var(--fill-color);\n",
              "    }\n",
              "    40% {\n",
              "      border-color: transparent;\n",
              "      border-right-color: var(--fill-color);\n",
              "      border-top-color: var(--fill-color);\n",
              "    }\n",
              "    60% {\n",
              "      border-color: transparent;\n",
              "      border-right-color: var(--fill-color);\n",
              "    }\n",
              "    80% {\n",
              "      border-color: transparent;\n",
              "      border-right-color: var(--fill-color);\n",
              "      border-bottom-color: var(--fill-color);\n",
              "    }\n",
              "    90% {\n",
              "      border-color: transparent;\n",
              "      border-bottom-color: var(--fill-color);\n",
              "    }\n",
              "  }\n",
              "</style>\n",
              "\n",
              "  <script>\n",
              "    async function quickchart(key) {\n",
              "      const quickchartButtonEl =\n",
              "        document.querySelector('#' + key + ' button');\n",
              "      quickchartButtonEl.disabled = true;  // To prevent multiple clicks.\n",
              "      quickchartButtonEl.classList.add('colab-df-spinner');\n",
              "      try {\n",
              "        const charts = await google.colab.kernel.invokeFunction(\n",
              "            'suggestCharts', [key], {});\n",
              "      } catch (error) {\n",
              "        console.error('Error during call to suggestCharts:', error);\n",
              "      }\n",
              "      quickchartButtonEl.classList.remove('colab-df-spinner');\n",
              "      quickchartButtonEl.classList.add('colab-df-quickchart-complete');\n",
              "    }\n",
              "    (() => {\n",
              "      let quickchartButtonEl =\n",
              "        document.querySelector('#df-98fa21dc-a0f4-4903-95a6-e5c76cc381db button');\n",
              "      quickchartButtonEl.style.display =\n",
              "        google.colab.kernel.accessAllowed ? 'block' : 'none';\n",
              "    })();\n",
              "  </script>\n",
              "</div>\n",
              "    </div>\n",
              "  </div>\n"
            ],
            "text/plain": [
              "                 feeling.nervous  panic  breathing.rapidly  sweating  \\\n",
              "Disorder                                                               \n",
              "ADHD                          28      0                  0         0   \n",
              "ASD                           49     50                 60        32   \n",
              "ED                            65      0                 65        65   \n",
              "Loneliness                     8      0                  0         0   \n",
              "MDD                           28     37                 28        41   \n",
              "OCD                           31      0                  0         0   \n",
              "PDD                           60      0                 60         0   \n",
              "PTSD                          24     43                 43        21   \n",
              "anxiety                       67     34                 67        67   \n",
              "bipolar                       20      0                  0         0   \n",
              "psychot depresn               27     10                 27         9   \n",
              "sleep disord                   0      0                  0         0   \n",
              "\n",
              "                 trouble.in.concentration  trouble.sleeping  \\\n",
              "Disorder                                                      \n",
              "ADHD                                   65                37   \n",
              "ASD                                    18                50   \n",
              "ED                                      0                 0   \n",
              "Loneliness                              0                 0   \n",
              "MDD                                     4                61   \n",
              "OCD                                     3                31   \n",
              "PDD                                     0                11   \n",
              "PTSD                                   46                46   \n",
              "anxiety                                34                67   \n",
              "bipolar                                36                43   \n",
              "psychot depresn                        27                27   \n",
              "sleep disord                            0                34   \n",
              "\n",
              "                 trouble.with.work  hopelessness  anger  over.react  ...  \\\n",
              "Disorder                                                             ...   \n",
              "ADHD                             0             0      0           0  ...   \n",
              "ASD                              8             0     71          57  ...   \n",
              "ED                               0             0      0           0  ...   \n",
              "Loneliness                      14             0      0           0  ...   \n",
              "MDD                             41            61     41          41  ...   \n",
              "OCD                              3             0      0           3  ...   \n",
              "PDD                              0            60     49           0  ...   \n",
              "PTSD                            22             0     43          21  ...   \n",
              "anxiety                         34             0      0           0  ...   \n",
              "bipolar                          0             0      0          43  ...   \n",
              "psychot depresn                 27            27      3           3  ...   \n",
              "sleep disord                    25             0      0           0  ...   \n",
              "\n",
              "                 nightmares  avoids.people.or.activities  feeling.negative  \\\n",
              "Disorder                                                                     \n",
              "ADHD                      0                            0                 0   \n",
              "ASD                      71                           89                 0   \n",
              "ED                        0                            0                65   \n",
              "Loneliness                0                            0                 0   \n",
              "MDD                      41                            4                65   \n",
              "OCD                       0                            0                 0   \n",
              "PDD                      49                            0                60   \n",
              "PTSD                     46                           22                 0   \n",
              "anxiety                   0                           67                 0   \n",
              "bipolar                   0                           23                 0   \n",
              "psychot depresn           3                           27                27   \n",
              "sleep disord              0                            0                 0   \n",
              "\n",
              "                 trouble.concentrating  blaming.yourself  hallucinations  \\\n",
              "Disorder                                                                   \n",
              "ADHD                                65                 0               0   \n",
              "ASD                                 18                 0               0   \n",
              "ED                                   0                 0               0   \n",
              "Loneliness                           0                 0               0   \n",
              "MDD                                 37                17               0   \n",
              "OCD                                  3                 0               3   \n",
              "PDD                                 49                60               0   \n",
              "PTSD                                 7                43              26   \n",
              "anxiety                              0                 0               0   \n",
              "bipolar                             20                36               0   \n",
              "psychot depresn                     27                 0              27   \n",
              "sleep disord                        34                 0               9   \n",
              "\n",
              "                 repetitive.behaviour  seasonally  increased.energy  \\\n",
              "Disorder                                                              \n",
              "ADHD                               28           0                65   \n",
              "ASD                                83           0                 8   \n",
              "ED                                  0           0                 0   \n",
              "Loneliness                          0           0                 0   \n",
              "MDD                                 0           0                 0   \n",
              "OCD                                31           0                31   \n",
              "PDD                                 0           0                 0   \n",
              "PTSD                               39           0                 0   \n",
              "anxiety                             0           0                 0   \n",
              "bipolar                             0           0                43   \n",
              "psychot depresn                     3           0                 0   \n",
              "sleep disord                        0           0                 0   \n",
              "\n",
              "                 incidences  \n",
              "Disorder                     \n",
              "ADHD                     65  \n",
              "ASD                      89  \n",
              "ED                       65  \n",
              "Loneliness               45  \n",
              "MDD                      65  \n",
              "OCD                      31  \n",
              "PDD                      60  \n",
              "PTSD                     46  \n",
              "anxiety                  67  \n",
              "bipolar                  43  \n",
              "psychot depresn          27  \n",
              "sleep disord             34  \n",
              "\n",
              "[12 rows x 28 columns]"
            ]
          },
          "execution_count": 18,
          "metadata": {},
          "output_type": "execute_result"
        }
      ],
      "source": [
        "byDisorder = df.groupby('Disorder').sum()\n",
        "byDisorder.drop('age', axis=1, inplace=True)\n",
        "byDisorder['incidences'] = incidences\n",
        "byDisorder"
      ]
    },
    {
      "cell_type": "code",
      "execution_count": 21,
      "metadata": {
        "colab": {
          "base_uri": "https://localhost:8080/",
          "height": 610
        },
        "id": "g4F7dpquWhyX",
        "outputId": "d3e546ae-6543-454f-ee58-32e2bcc60950"
      },
      "outputs": [
        {
          "data": {
            "application/vnd.google.colaboratory.intrinsic+json": {
              "type": "dataframe",
              "variable_name": "byDisorderRate"
            },
            "text/html": [
              "\n",
              "  <div id=\"df-ff57a856-cb01-4cb0-9df7-d2f94cde3a65\" class=\"colab-df-container\">\n",
              "    <div>\n",
              "<style scoped>\n",
              "    .dataframe tbody tr th:only-of-type {\n",
              "        vertical-align: middle;\n",
              "    }\n",
              "\n",
              "    .dataframe tbody tr th {\n",
              "        vertical-align: top;\n",
              "    }\n",
              "\n",
              "    .dataframe thead th {\n",
              "        text-align: right;\n",
              "    }\n",
              "</style>\n",
              "<table border=\"1\" class=\"dataframe\">\n",
              "  <thead>\n",
              "    <tr style=\"text-align: right;\">\n",
              "      <th></th>\n",
              "      <th>feeling.nervous</th>\n",
              "      <th>panic</th>\n",
              "      <th>breathing.rapidly</th>\n",
              "      <th>sweating</th>\n",
              "      <th>trouble.in.concentration</th>\n",
              "      <th>trouble.sleeping</th>\n",
              "      <th>trouble.with.work</th>\n",
              "      <th>hopelessness</th>\n",
              "      <th>anger</th>\n",
              "      <th>over.react</th>\n",
              "      <th>...</th>\n",
              "      <th>nightmares</th>\n",
              "      <th>avoids.people.or.activities</th>\n",
              "      <th>feeling.negative</th>\n",
              "      <th>trouble.concentrating</th>\n",
              "      <th>blaming.yourself</th>\n",
              "      <th>hallucinations</th>\n",
              "      <th>repetitive.behaviour</th>\n",
              "      <th>seasonally</th>\n",
              "      <th>increased.energy</th>\n",
              "      <th>incidences</th>\n",
              "    </tr>\n",
              "    <tr>\n",
              "      <th>Disorder</th>\n",
              "      <th></th>\n",
              "      <th></th>\n",
              "      <th></th>\n",
              "      <th></th>\n",
              "      <th></th>\n",
              "      <th></th>\n",
              "      <th></th>\n",
              "      <th></th>\n",
              "      <th></th>\n",
              "      <th></th>\n",
              "      <th></th>\n",
              "      <th></th>\n",
              "      <th></th>\n",
              "      <th></th>\n",
              "      <th></th>\n",
              "      <th></th>\n",
              "      <th></th>\n",
              "      <th></th>\n",
              "      <th></th>\n",
              "      <th></th>\n",
              "      <th></th>\n",
              "    </tr>\n",
              "  </thead>\n",
              "  <tbody>\n",
              "    <tr>\n",
              "      <th>ADHD rate</th>\n",
              "      <td>0.430769</td>\n",
              "      <td>0.000000</td>\n",
              "      <td>0.000000</td>\n",
              "      <td>0.000000</td>\n",
              "      <td>1.000000</td>\n",
              "      <td>0.569231</td>\n",
              "      <td>0.000000</td>\n",
              "      <td>0.000000</td>\n",
              "      <td>0.000000</td>\n",
              "      <td>0.000000</td>\n",
              "      <td>...</td>\n",
              "      <td>0.000000</td>\n",
              "      <td>0.000000</td>\n",
              "      <td>0.0</td>\n",
              "      <td>1.000000</td>\n",
              "      <td>0.000000</td>\n",
              "      <td>0.000000</td>\n",
              "      <td>0.430769</td>\n",
              "      <td>0.0</td>\n",
              "      <td>1.000000</td>\n",
              "      <td>65</td>\n",
              "    </tr>\n",
              "    <tr>\n",
              "      <th>ASD rate</th>\n",
              "      <td>0.550562</td>\n",
              "      <td>0.561798</td>\n",
              "      <td>0.674157</td>\n",
              "      <td>0.359551</td>\n",
              "      <td>0.202247</td>\n",
              "      <td>0.561798</td>\n",
              "      <td>0.089888</td>\n",
              "      <td>0.000000</td>\n",
              "      <td>0.797753</td>\n",
              "      <td>0.640449</td>\n",
              "      <td>...</td>\n",
              "      <td>0.797753</td>\n",
              "      <td>1.000000</td>\n",
              "      <td>0.0</td>\n",
              "      <td>0.202247</td>\n",
              "      <td>0.000000</td>\n",
              "      <td>0.000000</td>\n",
              "      <td>0.932584</td>\n",
              "      <td>0.0</td>\n",
              "      <td>0.089888</td>\n",
              "      <td>89</td>\n",
              "    </tr>\n",
              "    <tr>\n",
              "      <th>ED rate</th>\n",
              "      <td>1.000000</td>\n",
              "      <td>0.000000</td>\n",
              "      <td>1.000000</td>\n",
              "      <td>1.000000</td>\n",
              "      <td>0.000000</td>\n",
              "      <td>0.000000</td>\n",
              "      <td>0.000000</td>\n",
              "      <td>0.000000</td>\n",
              "      <td>0.000000</td>\n",
              "      <td>0.000000</td>\n",
              "      <td>...</td>\n",
              "      <td>0.000000</td>\n",
              "      <td>0.000000</td>\n",
              "      <td>1.0</td>\n",
              "      <td>0.000000</td>\n",
              "      <td>0.000000</td>\n",
              "      <td>0.000000</td>\n",
              "      <td>0.000000</td>\n",
              "      <td>0.0</td>\n",
              "      <td>0.000000</td>\n",
              "      <td>65</td>\n",
              "    </tr>\n",
              "    <tr>\n",
              "      <th>Loneliness rate</th>\n",
              "      <td>0.177778</td>\n",
              "      <td>0.000000</td>\n",
              "      <td>0.000000</td>\n",
              "      <td>0.000000</td>\n",
              "      <td>0.000000</td>\n",
              "      <td>0.000000</td>\n",
              "      <td>0.311111</td>\n",
              "      <td>0.000000</td>\n",
              "      <td>0.000000</td>\n",
              "      <td>0.000000</td>\n",
              "      <td>...</td>\n",
              "      <td>0.000000</td>\n",
              "      <td>0.000000</td>\n",
              "      <td>0.0</td>\n",
              "      <td>0.000000</td>\n",
              "      <td>0.000000</td>\n",
              "      <td>0.000000</td>\n",
              "      <td>0.000000</td>\n",
              "      <td>0.0</td>\n",
              "      <td>0.000000</td>\n",
              "      <td>45</td>\n",
              "    </tr>\n",
              "    <tr>\n",
              "      <th>MDD rate</th>\n",
              "      <td>0.430769</td>\n",
              "      <td>0.569231</td>\n",
              "      <td>0.430769</td>\n",
              "      <td>0.630769</td>\n",
              "      <td>0.061538</td>\n",
              "      <td>0.938462</td>\n",
              "      <td>0.630769</td>\n",
              "      <td>0.938462</td>\n",
              "      <td>0.630769</td>\n",
              "      <td>0.630769</td>\n",
              "      <td>...</td>\n",
              "      <td>0.630769</td>\n",
              "      <td>0.061538</td>\n",
              "      <td>1.0</td>\n",
              "      <td>0.569231</td>\n",
              "      <td>0.261538</td>\n",
              "      <td>0.000000</td>\n",
              "      <td>0.000000</td>\n",
              "      <td>0.0</td>\n",
              "      <td>0.000000</td>\n",
              "      <td>65</td>\n",
              "    </tr>\n",
              "    <tr>\n",
              "      <th>OCD rate</th>\n",
              "      <td>1.000000</td>\n",
              "      <td>0.000000</td>\n",
              "      <td>0.000000</td>\n",
              "      <td>0.000000</td>\n",
              "      <td>0.096774</td>\n",
              "      <td>1.000000</td>\n",
              "      <td>0.096774</td>\n",
              "      <td>0.000000</td>\n",
              "      <td>0.000000</td>\n",
              "      <td>0.096774</td>\n",
              "      <td>...</td>\n",
              "      <td>0.000000</td>\n",
              "      <td>0.000000</td>\n",
              "      <td>0.0</td>\n",
              "      <td>0.096774</td>\n",
              "      <td>0.000000</td>\n",
              "      <td>0.096774</td>\n",
              "      <td>1.000000</td>\n",
              "      <td>0.0</td>\n",
              "      <td>1.000000</td>\n",
              "      <td>31</td>\n",
              "    </tr>\n",
              "    <tr>\n",
              "      <th>PDD rate</th>\n",
              "      <td>1.000000</td>\n",
              "      <td>0.000000</td>\n",
              "      <td>1.000000</td>\n",
              "      <td>0.000000</td>\n",
              "      <td>0.000000</td>\n",
              "      <td>0.183333</td>\n",
              "      <td>0.000000</td>\n",
              "      <td>1.000000</td>\n",
              "      <td>0.816667</td>\n",
              "      <td>0.000000</td>\n",
              "      <td>...</td>\n",
              "      <td>0.816667</td>\n",
              "      <td>0.000000</td>\n",
              "      <td>1.0</td>\n",
              "      <td>0.816667</td>\n",
              "      <td>1.000000</td>\n",
              "      <td>0.000000</td>\n",
              "      <td>0.000000</td>\n",
              "      <td>0.0</td>\n",
              "      <td>0.000000</td>\n",
              "      <td>60</td>\n",
              "    </tr>\n",
              "    <tr>\n",
              "      <th>PTSD rate</th>\n",
              "      <td>0.521739</td>\n",
              "      <td>0.934783</td>\n",
              "      <td>0.934783</td>\n",
              "      <td>0.456522</td>\n",
              "      <td>1.000000</td>\n",
              "      <td>1.000000</td>\n",
              "      <td>0.478261</td>\n",
              "      <td>0.000000</td>\n",
              "      <td>0.934783</td>\n",
              "      <td>0.456522</td>\n",
              "      <td>...</td>\n",
              "      <td>1.000000</td>\n",
              "      <td>0.478261</td>\n",
              "      <td>0.0</td>\n",
              "      <td>0.152174</td>\n",
              "      <td>0.934783</td>\n",
              "      <td>0.565217</td>\n",
              "      <td>0.847826</td>\n",
              "      <td>0.0</td>\n",
              "      <td>0.000000</td>\n",
              "      <td>46</td>\n",
              "    </tr>\n",
              "    <tr>\n",
              "      <th>anxiety rate</th>\n",
              "      <td>1.000000</td>\n",
              "      <td>0.507463</td>\n",
              "      <td>1.000000</td>\n",
              "      <td>1.000000</td>\n",
              "      <td>0.507463</td>\n",
              "      <td>1.000000</td>\n",
              "      <td>0.507463</td>\n",
              "      <td>0.000000</td>\n",
              "      <td>0.000000</td>\n",
              "      <td>0.000000</td>\n",
              "      <td>...</td>\n",
              "      <td>0.000000</td>\n",
              "      <td>1.000000</td>\n",
              "      <td>0.0</td>\n",
              "      <td>0.000000</td>\n",
              "      <td>0.000000</td>\n",
              "      <td>0.000000</td>\n",
              "      <td>0.000000</td>\n",
              "      <td>0.0</td>\n",
              "      <td>0.000000</td>\n",
              "      <td>67</td>\n",
              "    </tr>\n",
              "    <tr>\n",
              "      <th>bipolar rate</th>\n",
              "      <td>0.465116</td>\n",
              "      <td>0.000000</td>\n",
              "      <td>0.000000</td>\n",
              "      <td>0.000000</td>\n",
              "      <td>0.837209</td>\n",
              "      <td>1.000000</td>\n",
              "      <td>0.000000</td>\n",
              "      <td>0.000000</td>\n",
              "      <td>0.000000</td>\n",
              "      <td>1.000000</td>\n",
              "      <td>...</td>\n",
              "      <td>0.000000</td>\n",
              "      <td>0.534884</td>\n",
              "      <td>0.0</td>\n",
              "      <td>0.465116</td>\n",
              "      <td>0.837209</td>\n",
              "      <td>0.000000</td>\n",
              "      <td>0.000000</td>\n",
              "      <td>0.0</td>\n",
              "      <td>1.000000</td>\n",
              "      <td>43</td>\n",
              "    </tr>\n",
              "    <tr>\n",
              "      <th>psychot depresn rate</th>\n",
              "      <td>1.000000</td>\n",
              "      <td>0.370370</td>\n",
              "      <td>1.000000</td>\n",
              "      <td>0.333333</td>\n",
              "      <td>1.000000</td>\n",
              "      <td>1.000000</td>\n",
              "      <td>1.000000</td>\n",
              "      <td>1.000000</td>\n",
              "      <td>0.111111</td>\n",
              "      <td>0.111111</td>\n",
              "      <td>...</td>\n",
              "      <td>0.111111</td>\n",
              "      <td>1.000000</td>\n",
              "      <td>1.0</td>\n",
              "      <td>1.000000</td>\n",
              "      <td>0.000000</td>\n",
              "      <td>1.000000</td>\n",
              "      <td>0.111111</td>\n",
              "      <td>0.0</td>\n",
              "      <td>0.000000</td>\n",
              "      <td>27</td>\n",
              "    </tr>\n",
              "    <tr>\n",
              "      <th>sleep disord rate</th>\n",
              "      <td>0.000000</td>\n",
              "      <td>0.000000</td>\n",
              "      <td>0.000000</td>\n",
              "      <td>0.000000</td>\n",
              "      <td>0.000000</td>\n",
              "      <td>1.000000</td>\n",
              "      <td>0.735294</td>\n",
              "      <td>0.000000</td>\n",
              "      <td>0.000000</td>\n",
              "      <td>0.000000</td>\n",
              "      <td>...</td>\n",
              "      <td>0.000000</td>\n",
              "      <td>0.000000</td>\n",
              "      <td>0.0</td>\n",
              "      <td>1.000000</td>\n",
              "      <td>0.000000</td>\n",
              "      <td>0.264706</td>\n",
              "      <td>0.000000</td>\n",
              "      <td>0.0</td>\n",
              "      <td>0.000000</td>\n",
              "      <td>34</td>\n",
              "    </tr>\n",
              "  </tbody>\n",
              "</table>\n",
              "<p>12 rows × 28 columns</p>\n",
              "</div>\n",
              "    <div class=\"colab-df-buttons\">\n",
              "\n",
              "  <div class=\"colab-df-container\">\n",
              "    <button class=\"colab-df-convert\" onclick=\"convertToInteractive('df-ff57a856-cb01-4cb0-9df7-d2f94cde3a65')\"\n",
              "            title=\"Convert this dataframe to an interactive table.\"\n",
              "            style=\"display:none;\">\n",
              "\n",
              "  <svg xmlns=\"http://www.w3.org/2000/svg\" height=\"24px\" viewBox=\"0 -960 960 960\">\n",
              "    <path d=\"M120-120v-720h720v720H120Zm60-500h600v-160H180v160Zm220 220h160v-160H400v160Zm0 220h160v-160H400v160ZM180-400h160v-160H180v160Zm440 0h160v-160H620v160ZM180-180h160v-160H180v160Zm440 0h160v-160H620v160Z\"/>\n",
              "  </svg>\n",
              "    </button>\n",
              "\n",
              "  <style>\n",
              "    .colab-df-container {\n",
              "      display:flex;\n",
              "      gap: 12px;\n",
              "    }\n",
              "\n",
              "    .colab-df-convert {\n",
              "      background-color: #E8F0FE;\n",
              "      border: none;\n",
              "      border-radius: 50%;\n",
              "      cursor: pointer;\n",
              "      display: none;\n",
              "      fill: #1967D2;\n",
              "      height: 32px;\n",
              "      padding: 0 0 0 0;\n",
              "      width: 32px;\n",
              "    }\n",
              "\n",
              "    .colab-df-convert:hover {\n",
              "      background-color: #E2EBFA;\n",
              "      box-shadow: 0px 1px 2px rgba(60, 64, 67, 0.3), 0px 1px 3px 1px rgba(60, 64, 67, 0.15);\n",
              "      fill: #174EA6;\n",
              "    }\n",
              "\n",
              "    .colab-df-buttons div {\n",
              "      margin-bottom: 4px;\n",
              "    }\n",
              "\n",
              "    [theme=dark] .colab-df-convert {\n",
              "      background-color: #3B4455;\n",
              "      fill: #D2E3FC;\n",
              "    }\n",
              "\n",
              "    [theme=dark] .colab-df-convert:hover {\n",
              "      background-color: #434B5C;\n",
              "      box-shadow: 0px 1px 3px 1px rgba(0, 0, 0, 0.15);\n",
              "      filter: drop-shadow(0px 1px 2px rgba(0, 0, 0, 0.3));\n",
              "      fill: #FFFFFF;\n",
              "    }\n",
              "  </style>\n",
              "\n",
              "    <script>\n",
              "      const buttonEl =\n",
              "        document.querySelector('#df-ff57a856-cb01-4cb0-9df7-d2f94cde3a65 button.colab-df-convert');\n",
              "      buttonEl.style.display =\n",
              "        google.colab.kernel.accessAllowed ? 'block' : 'none';\n",
              "\n",
              "      async function convertToInteractive(key) {\n",
              "        const element = document.querySelector('#df-ff57a856-cb01-4cb0-9df7-d2f94cde3a65');\n",
              "        const dataTable =\n",
              "          await google.colab.kernel.invokeFunction('convertToInteractive',\n",
              "                                                    [key], {});\n",
              "        if (!dataTable) return;\n",
              "\n",
              "        const docLinkHtml = 'Like what you see? Visit the ' +\n",
              "          '<a target=\"_blank\" href=https://colab.research.google.com/notebooks/data_table.ipynb>data table notebook</a>'\n",
              "          + ' to learn more about interactive tables.';\n",
              "        element.innerHTML = '';\n",
              "        dataTable['output_type'] = 'display_data';\n",
              "        await google.colab.output.renderOutput(dataTable, element);\n",
              "        const docLink = document.createElement('div');\n",
              "        docLink.innerHTML = docLinkHtml;\n",
              "        element.appendChild(docLink);\n",
              "      }\n",
              "    </script>\n",
              "  </div>\n",
              "\n",
              "\n",
              "<div id=\"df-e2e14bd0-bec3-4f3c-9f0b-0667e338fce0\">\n",
              "  <button class=\"colab-df-quickchart\" onclick=\"quickchart('df-e2e14bd0-bec3-4f3c-9f0b-0667e338fce0')\"\n",
              "            title=\"Suggest charts\"\n",
              "            style=\"display:none;\">\n",
              "\n",
              "<svg xmlns=\"http://www.w3.org/2000/svg\" height=\"24px\"viewBox=\"0 0 24 24\"\n",
              "     width=\"24px\">\n",
              "    <g>\n",
              "        <path d=\"M19 3H5c-1.1 0-2 .9-2 2v14c0 1.1.9 2 2 2h14c1.1 0 2-.9 2-2V5c0-1.1-.9-2-2-2zM9 17H7v-7h2v7zm4 0h-2V7h2v10zm4 0h-2v-4h2v4z\"/>\n",
              "    </g>\n",
              "</svg>\n",
              "  </button>\n",
              "\n",
              "<style>\n",
              "  .colab-df-quickchart {\n",
              "      --bg-color: #E8F0FE;\n",
              "      --fill-color: #1967D2;\n",
              "      --hover-bg-color: #E2EBFA;\n",
              "      --hover-fill-color: #174EA6;\n",
              "      --disabled-fill-color: #AAA;\n",
              "      --disabled-bg-color: #DDD;\n",
              "  }\n",
              "\n",
              "  [theme=dark] .colab-df-quickchart {\n",
              "      --bg-color: #3B4455;\n",
              "      --fill-color: #D2E3FC;\n",
              "      --hover-bg-color: #434B5C;\n",
              "      --hover-fill-color: #FFFFFF;\n",
              "      --disabled-bg-color: #3B4455;\n",
              "      --disabled-fill-color: #666;\n",
              "  }\n",
              "\n",
              "  .colab-df-quickchart {\n",
              "    background-color: var(--bg-color);\n",
              "    border: none;\n",
              "    border-radius: 50%;\n",
              "    cursor: pointer;\n",
              "    display: none;\n",
              "    fill: var(--fill-color);\n",
              "    height: 32px;\n",
              "    padding: 0;\n",
              "    width: 32px;\n",
              "  }\n",
              "\n",
              "  .colab-df-quickchart:hover {\n",
              "    background-color: var(--hover-bg-color);\n",
              "    box-shadow: 0 1px 2px rgba(60, 64, 67, 0.3), 0 1px 3px 1px rgba(60, 64, 67, 0.15);\n",
              "    fill: var(--button-hover-fill-color);\n",
              "  }\n",
              "\n",
              "  .colab-df-quickchart-complete:disabled,\n",
              "  .colab-df-quickchart-complete:disabled:hover {\n",
              "    background-color: var(--disabled-bg-color);\n",
              "    fill: var(--disabled-fill-color);\n",
              "    box-shadow: none;\n",
              "  }\n",
              "\n",
              "  .colab-df-spinner {\n",
              "    border: 2px solid var(--fill-color);\n",
              "    border-color: transparent;\n",
              "    border-bottom-color: var(--fill-color);\n",
              "    animation:\n",
              "      spin 1s steps(1) infinite;\n",
              "  }\n",
              "\n",
              "  @keyframes spin {\n",
              "    0% {\n",
              "      border-color: transparent;\n",
              "      border-bottom-color: var(--fill-color);\n",
              "      border-left-color: var(--fill-color);\n",
              "    }\n",
              "    20% {\n",
              "      border-color: transparent;\n",
              "      border-left-color: var(--fill-color);\n",
              "      border-top-color: var(--fill-color);\n",
              "    }\n",
              "    30% {\n",
              "      border-color: transparent;\n",
              "      border-left-color: var(--fill-color);\n",
              "      border-top-color: var(--fill-color);\n",
              "      border-right-color: var(--fill-color);\n",
              "    }\n",
              "    40% {\n",
              "      border-color: transparent;\n",
              "      border-right-color: var(--fill-color);\n",
              "      border-top-color: var(--fill-color);\n",
              "    }\n",
              "    60% {\n",
              "      border-color: transparent;\n",
              "      border-right-color: var(--fill-color);\n",
              "    }\n",
              "    80% {\n",
              "      border-color: transparent;\n",
              "      border-right-color: var(--fill-color);\n",
              "      border-bottom-color: var(--fill-color);\n",
              "    }\n",
              "    90% {\n",
              "      border-color: transparent;\n",
              "      border-bottom-color: var(--fill-color);\n",
              "    }\n",
              "  }\n",
              "</style>\n",
              "\n",
              "  <script>\n",
              "    async function quickchart(key) {\n",
              "      const quickchartButtonEl =\n",
              "        document.querySelector('#' + key + ' button');\n",
              "      quickchartButtonEl.disabled = true;  // To prevent multiple clicks.\n",
              "      quickchartButtonEl.classList.add('colab-df-spinner');\n",
              "      try {\n",
              "        const charts = await google.colab.kernel.invokeFunction(\n",
              "            'suggestCharts', [key], {});\n",
              "      } catch (error) {\n",
              "        console.error('Error during call to suggestCharts:', error);\n",
              "      }\n",
              "      quickchartButtonEl.classList.remove('colab-df-spinner');\n",
              "      quickchartButtonEl.classList.add('colab-df-quickchart-complete');\n",
              "    }\n",
              "    (() => {\n",
              "      let quickchartButtonEl =\n",
              "        document.querySelector('#df-e2e14bd0-bec3-4f3c-9f0b-0667e338fce0 button');\n",
              "      quickchartButtonEl.style.display =\n",
              "        google.colab.kernel.accessAllowed ? 'block' : 'none';\n",
              "    })();\n",
              "  </script>\n",
              "</div>\n",
              "    </div>\n",
              "  </div>\n"
            ],
            "text/plain": [
              "                      feeling.nervous     panic  breathing.rapidly  sweating  \\\n",
              "Disorder                                                                       \n",
              "ADHD rate                    0.430769  0.000000           0.000000  0.000000   \n",
              "ASD rate                     0.550562  0.561798           0.674157  0.359551   \n",
              "ED rate                      1.000000  0.000000           1.000000  1.000000   \n",
              "Loneliness rate              0.177778  0.000000           0.000000  0.000000   \n",
              "MDD rate                     0.430769  0.569231           0.430769  0.630769   \n",
              "OCD rate                     1.000000  0.000000           0.000000  0.000000   \n",
              "PDD rate                     1.000000  0.000000           1.000000  0.000000   \n",
              "PTSD rate                    0.521739  0.934783           0.934783  0.456522   \n",
              "anxiety rate                 1.000000  0.507463           1.000000  1.000000   \n",
              "bipolar rate                 0.465116  0.000000           0.000000  0.000000   \n",
              "psychot depresn rate         1.000000  0.370370           1.000000  0.333333   \n",
              "sleep disord rate            0.000000  0.000000           0.000000  0.000000   \n",
              "\n",
              "                      trouble.in.concentration  trouble.sleeping  \\\n",
              "Disorder                                                           \n",
              "ADHD rate                             1.000000          0.569231   \n",
              "ASD rate                              0.202247          0.561798   \n",
              "ED rate                               0.000000          0.000000   \n",
              "Loneliness rate                       0.000000          0.000000   \n",
              "MDD rate                              0.061538          0.938462   \n",
              "OCD rate                              0.096774          1.000000   \n",
              "PDD rate                              0.000000          0.183333   \n",
              "PTSD rate                             1.000000          1.000000   \n",
              "anxiety rate                          0.507463          1.000000   \n",
              "bipolar rate                          0.837209          1.000000   \n",
              "psychot depresn rate                  1.000000          1.000000   \n",
              "sleep disord rate                     0.000000          1.000000   \n",
              "\n",
              "                      trouble.with.work  hopelessness     anger  over.react  \\\n",
              "Disorder                                                                      \n",
              "ADHD rate                      0.000000      0.000000  0.000000    0.000000   \n",
              "ASD rate                       0.089888      0.000000  0.797753    0.640449   \n",
              "ED rate                        0.000000      0.000000  0.000000    0.000000   \n",
              "Loneliness rate                0.311111      0.000000  0.000000    0.000000   \n",
              "MDD rate                       0.630769      0.938462  0.630769    0.630769   \n",
              "OCD rate                       0.096774      0.000000  0.000000    0.096774   \n",
              "PDD rate                       0.000000      1.000000  0.816667    0.000000   \n",
              "PTSD rate                      0.478261      0.000000  0.934783    0.456522   \n",
              "anxiety rate                   0.507463      0.000000  0.000000    0.000000   \n",
              "bipolar rate                   0.000000      0.000000  0.000000    1.000000   \n",
              "psychot depresn rate           1.000000      1.000000  0.111111    0.111111   \n",
              "sleep disord rate              0.735294      0.000000  0.000000    0.000000   \n",
              "\n",
              "                      ...  nightmares  avoids.people.or.activities  \\\n",
              "Disorder              ...                                            \n",
              "ADHD rate             ...    0.000000                     0.000000   \n",
              "ASD rate              ...    0.797753                     1.000000   \n",
              "ED rate               ...    0.000000                     0.000000   \n",
              "Loneliness rate       ...    0.000000                     0.000000   \n",
              "MDD rate              ...    0.630769                     0.061538   \n",
              "OCD rate              ...    0.000000                     0.000000   \n",
              "PDD rate              ...    0.816667                     0.000000   \n",
              "PTSD rate             ...    1.000000                     0.478261   \n",
              "anxiety rate          ...    0.000000                     1.000000   \n",
              "bipolar rate          ...    0.000000                     0.534884   \n",
              "psychot depresn rate  ...    0.111111                     1.000000   \n",
              "sleep disord rate     ...    0.000000                     0.000000   \n",
              "\n",
              "                      feeling.negative  trouble.concentrating  \\\n",
              "Disorder                                                        \n",
              "ADHD rate                          0.0               1.000000   \n",
              "ASD rate                           0.0               0.202247   \n",
              "ED rate                            1.0               0.000000   \n",
              "Loneliness rate                    0.0               0.000000   \n",
              "MDD rate                           1.0               0.569231   \n",
              "OCD rate                           0.0               0.096774   \n",
              "PDD rate                           1.0               0.816667   \n",
              "PTSD rate                          0.0               0.152174   \n",
              "anxiety rate                       0.0               0.000000   \n",
              "bipolar rate                       0.0               0.465116   \n",
              "psychot depresn rate               1.0               1.000000   \n",
              "sleep disord rate                  0.0               1.000000   \n",
              "\n",
              "                      blaming.yourself  hallucinations  repetitive.behaviour  \\\n",
              "Disorder                                                                       \n",
              "ADHD rate                     0.000000        0.000000              0.430769   \n",
              "ASD rate                      0.000000        0.000000              0.932584   \n",
              "ED rate                       0.000000        0.000000              0.000000   \n",
              "Loneliness rate               0.000000        0.000000              0.000000   \n",
              "MDD rate                      0.261538        0.000000              0.000000   \n",
              "OCD rate                      0.000000        0.096774              1.000000   \n",
              "PDD rate                      1.000000        0.000000              0.000000   \n",
              "PTSD rate                     0.934783        0.565217              0.847826   \n",
              "anxiety rate                  0.000000        0.000000              0.000000   \n",
              "bipolar rate                  0.837209        0.000000              0.000000   \n",
              "psychot depresn rate          0.000000        1.000000              0.111111   \n",
              "sleep disord rate             0.000000        0.264706              0.000000   \n",
              "\n",
              "                      seasonally  increased.energy  incidences  \n",
              "Disorder                                                        \n",
              "ADHD rate                    0.0          1.000000          65  \n",
              "ASD rate                     0.0          0.089888          89  \n",
              "ED rate                      0.0          0.000000          65  \n",
              "Loneliness rate              0.0          0.000000          45  \n",
              "MDD rate                     0.0          0.000000          65  \n",
              "OCD rate                     0.0          1.000000          31  \n",
              "PDD rate                     0.0          0.000000          60  \n",
              "PTSD rate                    0.0          0.000000          46  \n",
              "anxiety rate                 0.0          0.000000          67  \n",
              "bipolar rate                 0.0          1.000000          43  \n",
              "psychot depresn rate         0.0          0.000000          27  \n",
              "sleep disord rate            0.0          0.000000          34  \n",
              "\n",
              "[12 rows x 28 columns]"
            ]
          },
          "execution_count": 21,
          "metadata": {},
          "output_type": "execute_result"
        }
      ],
      "source": [
        "d = byDisorder['incidences']\n",
        "byDisorderRate = byDisorder._append(byDisorder.div(d, axis=0).assign(incidences=d).rename(lambda x: x+' rate'))\n",
        "byDisorderRate.drop(byDisorderRate.index[0:12], axis=0, inplace=True)\n",
        "byDisorderRate"
      ]
    },
    {
      "cell_type": "code",
      "execution_count": 22,
      "metadata": {
        "colab": {
          "base_uri": "https://localhost:8080/",
          "height": 17
        },
        "id": "izgCxXQWZarW",
        "outputId": "fdcb2bdb-b709-439c-8488-5c31d8087214"
      },
      "outputs": [
        {
          "data": {
            "text/html": [
              "        <script type=\"text/javascript\">\n",
              "        window.PlotlyConfig = {MathJaxConfig: 'local'};\n",
              "        if (window.MathJax && window.MathJax.Hub && window.MathJax.Hub.Config) {window.MathJax.Hub.Config({SVG: {font: \"STIX-Web\"}});}\n",
              "        if (typeof require !== 'undefined') {\n",
              "        require.undef(\"plotly\");\n",
              "        requirejs.config({\n",
              "            paths: {\n",
              "                'plotly': ['https://cdn.plot.ly/plotly-2.24.1.min']\n",
              "            }\n",
              "        });\n",
              "        require(['plotly'], function(Plotly) {\n",
              "            window._Plotly = Plotly;\n",
              "        });\n",
              "        }\n",
              "        </script>\n",
              "        "
            ]
          },
          "metadata": {},
          "output_type": "display_data"
        }
      ],
      "source": [
        "import plotly\n",
        "import cufflinks as cf\n",
        "cf.go_offline()"
      ]
    },
    {
      "cell_type": "code",
      "execution_count": 23,
      "metadata": {
        "colab": {
          "base_uri": "https://localhost:8080/",
          "height": 542
        },
        "id": "RW4IVfefZhaQ",
        "outputId": "079b9069-ee94-4bcf-a720-6db9dd2f50da"
      },
      "outputs": [
        {
          "data": {
            "application/vnd.plotly.v1+json": {
              "config": {
                "linkText": "Export to plot.ly",
                "plotlyServerURL": "https://plot.ly",
                "showLink": true
              },
              "data": [
                {
                  "marker": {
                    "color": "rgba(255, 153, 51, 0.6)",
                    "line": {
                      "color": "rgba(255, 153, 51, 1.0)",
                      "width": 1
                    }
                  },
                  "name": "panic",
                  "orientation": "v",
                  "text": "",
                  "type": "bar",
                  "x": [
                    "ADHD rate",
                    "ASD rate",
                    "ED rate",
                    "Loneliness rate",
                    "MDD rate",
                    "OCD rate",
                    "PDD rate",
                    "PTSD rate",
                    "anxiety rate",
                    "bipolar rate",
                    "psychot depresn rate",
                    "sleep disord rate"
                  ],
                  "y": [
                    0,
                    0.5617977528089888,
                    0,
                    0,
                    0.5692307692307692,
                    0,
                    0,
                    0.9347826086956522,
                    0.5074626865671642,
                    0,
                    0.37037037037037035,
                    0
                  ]
                },
                {
                  "marker": {
                    "color": "rgba(55, 128, 191, 0.6)",
                    "line": {
                      "color": "rgba(55, 128, 191, 1.0)",
                      "width": 1
                    }
                  },
                  "name": "breathing.rapidly",
                  "orientation": "v",
                  "text": "",
                  "type": "bar",
                  "x": [
                    "ADHD rate",
                    "ASD rate",
                    "ED rate",
                    "Loneliness rate",
                    "MDD rate",
                    "OCD rate",
                    "PDD rate",
                    "PTSD rate",
                    "anxiety rate",
                    "bipolar rate",
                    "psychot depresn rate",
                    "sleep disord rate"
                  ],
                  "y": [
                    0,
                    0.6741573033707865,
                    1,
                    0,
                    0.4307692307692308,
                    0,
                    1,
                    0.9347826086956522,
                    1,
                    0,
                    1,
                    0
                  ]
                },
                {
                  "marker": {
                    "color": "rgba(50, 171, 96, 0.6)",
                    "line": {
                      "color": "rgba(50, 171, 96, 1.0)",
                      "width": 1
                    }
                  },
                  "name": "sweating",
                  "orientation": "v",
                  "text": "",
                  "type": "bar",
                  "x": [
                    "ADHD rate",
                    "ASD rate",
                    "ED rate",
                    "Loneliness rate",
                    "MDD rate",
                    "OCD rate",
                    "PDD rate",
                    "PTSD rate",
                    "anxiety rate",
                    "bipolar rate",
                    "psychot depresn rate",
                    "sleep disord rate"
                  ],
                  "y": [
                    0,
                    0.3595505617977528,
                    1,
                    0,
                    0.6307692307692307,
                    0,
                    0,
                    0.45652173913043476,
                    1,
                    0,
                    0.3333333333333333,
                    0
                  ]
                },
                {
                  "marker": {
                    "color": "rgba(128, 0, 128, 0.6)",
                    "line": {
                      "color": "rgba(128, 0, 128, 1.0)",
                      "width": 1
                    }
                  },
                  "name": "trouble.in.concentration",
                  "orientation": "v",
                  "text": "",
                  "type": "bar",
                  "x": [
                    "ADHD rate",
                    "ASD rate",
                    "ED rate",
                    "Loneliness rate",
                    "MDD rate",
                    "OCD rate",
                    "PDD rate",
                    "PTSD rate",
                    "anxiety rate",
                    "bipolar rate",
                    "psychot depresn rate",
                    "sleep disord rate"
                  ],
                  "y": [
                    1,
                    0.20224719101123595,
                    0,
                    0,
                    0.06153846153846154,
                    0.0967741935483871,
                    0,
                    1,
                    0.5074626865671642,
                    0.8372093023255814,
                    1,
                    0
                  ]
                },
                {
                  "marker": {
                    "color": "rgba(219, 64, 82, 0.6)",
                    "line": {
                      "color": "rgba(219, 64, 82, 1.0)",
                      "width": 1
                    }
                  },
                  "name": "trouble.sleeping",
                  "orientation": "v",
                  "text": "",
                  "type": "bar",
                  "x": [
                    "ADHD rate",
                    "ASD rate",
                    "ED rate",
                    "Loneliness rate",
                    "MDD rate",
                    "OCD rate",
                    "PDD rate",
                    "PTSD rate",
                    "anxiety rate",
                    "bipolar rate",
                    "psychot depresn rate",
                    "sleep disord rate"
                  ],
                  "y": [
                    0.5692307692307692,
                    0.5617977528089888,
                    0,
                    0,
                    0.9384615384615385,
                    1,
                    0.18333333333333332,
                    1,
                    1,
                    1,
                    1,
                    1
                  ]
                },
                {
                  "marker": {
                    "color": "rgba(0, 128, 128, 0.6)",
                    "line": {
                      "color": "rgba(0, 128, 128, 1.0)",
                      "width": 1
                    }
                  },
                  "name": "trouble.with.work",
                  "orientation": "v",
                  "text": "",
                  "type": "bar",
                  "x": [
                    "ADHD rate",
                    "ASD rate",
                    "ED rate",
                    "Loneliness rate",
                    "MDD rate",
                    "OCD rate",
                    "PDD rate",
                    "PTSD rate",
                    "anxiety rate",
                    "bipolar rate",
                    "psychot depresn rate",
                    "sleep disord rate"
                  ],
                  "y": [
                    0,
                    0.0898876404494382,
                    0,
                    0.3111111111111111,
                    0.6307692307692307,
                    0.0967741935483871,
                    0,
                    0.4782608695652174,
                    0.5074626865671642,
                    0,
                    1,
                    0.7352941176470589
                  ]
                },
                {
                  "marker": {
                    "color": "rgba(255, 255, 51, 0.6)",
                    "line": {
                      "color": "rgba(255, 255, 51, 1.0)",
                      "width": 1
                    }
                  },
                  "name": "hopelessness",
                  "orientation": "v",
                  "text": "",
                  "type": "bar",
                  "x": [
                    "ADHD rate",
                    "ASD rate",
                    "ED rate",
                    "Loneliness rate",
                    "MDD rate",
                    "OCD rate",
                    "PDD rate",
                    "PTSD rate",
                    "anxiety rate",
                    "bipolar rate",
                    "psychot depresn rate",
                    "sleep disord rate"
                  ],
                  "y": [
                    0,
                    0,
                    0,
                    0,
                    0.9384615384615385,
                    0,
                    1,
                    0,
                    0,
                    0,
                    1,
                    0
                  ]
                },
                {
                  "marker": {
                    "color": "rgba(128, 128, 0, 0.6)",
                    "line": {
                      "color": "rgba(128, 128, 0, 1.0)",
                      "width": 1
                    }
                  },
                  "name": "anger",
                  "orientation": "v",
                  "text": "",
                  "type": "bar",
                  "x": [
                    "ADHD rate",
                    "ASD rate",
                    "ED rate",
                    "Loneliness rate",
                    "MDD rate",
                    "OCD rate",
                    "PDD rate",
                    "PTSD rate",
                    "anxiety rate",
                    "bipolar rate",
                    "psychot depresn rate",
                    "sleep disord rate"
                  ],
                  "y": [
                    0,
                    0.797752808988764,
                    0,
                    0,
                    0.6307692307692307,
                    0,
                    0.8166666666666667,
                    0.9347826086956522,
                    0,
                    0,
                    0.1111111111111111,
                    0
                  ]
                },
                {
                  "marker": {
                    "color": "rgba(251, 128, 114, 0.6)",
                    "line": {
                      "color": "rgba(251, 128, 114, 1.0)",
                      "width": 1
                    }
                  },
                  "name": "over.react",
                  "orientation": "v",
                  "text": "",
                  "type": "bar",
                  "x": [
                    "ADHD rate",
                    "ASD rate",
                    "ED rate",
                    "Loneliness rate",
                    "MDD rate",
                    "OCD rate",
                    "PDD rate",
                    "PTSD rate",
                    "anxiety rate",
                    "bipolar rate",
                    "psychot depresn rate",
                    "sleep disord rate"
                  ],
                  "y": [
                    0,
                    0.6404494382022472,
                    0,
                    0,
                    0.6307692307692307,
                    0.0967741935483871,
                    0,
                    0.45652173913043476,
                    0,
                    1,
                    0.1111111111111111,
                    0
                  ]
                },
                {
                  "marker": {
                    "color": "rgba(128, 177, 211, 0.6)",
                    "line": {
                      "color": "rgba(128, 177, 211, 1.0)",
                      "width": 1
                    }
                  },
                  "name": "change.in.eating",
                  "orientation": "v",
                  "text": "",
                  "type": "bar",
                  "x": [
                    "ADHD rate",
                    "ASD rate",
                    "ED rate",
                    "Loneliness rate",
                    "MDD rate",
                    "OCD rate",
                    "PDD rate",
                    "PTSD rate",
                    "anxiety rate",
                    "bipolar rate",
                    "psychot depresn rate",
                    "sleep disord rate"
                  ],
                  "y": [
                    0,
                    0.3595505617977528,
                    1,
                    0,
                    0.5692307692307692,
                    0,
                    0,
                    0.4782608695652174,
                    0,
                    0,
                    0,
                    0
                  ]
                },
                {
                  "marker": {
                    "color": "rgba(128, 177, 211, 0.6)",
                    "line": {
                      "color": "rgba(128, 177, 211, 0.8999999999999999)",
                      "width": 1
                    }
                  },
                  "name": "suicidal.thought",
                  "orientation": "v",
                  "text": "",
                  "type": "bar",
                  "x": [
                    "ADHD rate",
                    "ASD rate",
                    "ED rate",
                    "Loneliness rate",
                    "MDD rate",
                    "OCD rate",
                    "PDD rate",
                    "PTSD rate",
                    "anxiety rate",
                    "bipolar rate",
                    "psychot depresn rate",
                    "sleep disord rate"
                  ],
                  "y": [
                    0,
                    0,
                    0,
                    0,
                    0.4307692307692308,
                    0,
                    1,
                    0,
                    0,
                    0,
                    1,
                    0
                  ]
                },
                {
                  "marker": {
                    "color": "rgba(255, 153, 51, 0.6)",
                    "line": {
                      "color": "rgba(255, 153, 51, 0.8999999999999999)",
                      "width": 1
                    }
                  },
                  "name": "feeling.tired",
                  "orientation": "v",
                  "text": "",
                  "type": "bar",
                  "x": [
                    "ADHD rate",
                    "ASD rate",
                    "ED rate",
                    "Loneliness rate",
                    "MDD rate",
                    "OCD rate",
                    "PDD rate",
                    "PTSD rate",
                    "anxiety rate",
                    "bipolar rate",
                    "psychot depresn rate",
                    "sleep disord rate"
                  ],
                  "y": [
                    0,
                    0,
                    0,
                    0.8222222222222222,
                    0.6307692307692307,
                    1,
                    0,
                    0.06521739130434782,
                    0.4925373134328358,
                    0,
                    1,
                    1
                  ]
                },
                {
                  "marker": {
                    "color": "rgba(55, 128, 191, 0.6)",
                    "line": {
                      "color": "rgba(55, 128, 191, 0.8999999999999999)",
                      "width": 1
                    }
                  },
                  "name": "close.friend",
                  "orientation": "v",
                  "text": "",
                  "type": "bar",
                  "x": [
                    "ADHD rate",
                    "ASD rate",
                    "ED rate",
                    "Loneliness rate",
                    "MDD rate",
                    "OCD rate",
                    "PDD rate",
                    "PTSD rate",
                    "anxiety rate",
                    "bipolar rate",
                    "psychot depresn rate",
                    "sleep disord rate"
                  ],
                  "y": [
                    0,
                    0,
                    1,
                    0.6222222222222222,
                    1,
                    1,
                    1,
                    1,
                    1,
                    1,
                    0,
                    1
                  ]
                },
                {
                  "marker": {
                    "color": "rgba(50, 171, 96, 0.6)",
                    "line": {
                      "color": "rgba(50, 171, 96, 0.8999999999999999)",
                      "width": 1
                    }
                  },
                  "name": "social.media.addiction",
                  "orientation": "v",
                  "text": "",
                  "type": "bar",
                  "x": [
                    "ADHD rate",
                    "ASD rate",
                    "ED rate",
                    "Loneliness rate",
                    "MDD rate",
                    "OCD rate",
                    "PDD rate",
                    "PTSD rate",
                    "anxiety rate",
                    "bipolar rate",
                    "psychot depresn rate",
                    "sleep disord rate"
                  ],
                  "y": [
                    0,
                    0.797752808988764,
                    1,
                    1,
                    0.5692307692307692,
                    0.0967741935483871,
                    0,
                    1,
                    1,
                    1,
                    0.1111111111111111,
                    0.2647058823529412
                  ]
                },
                {
                  "marker": {
                    "color": "rgba(128, 0, 128, 0.6)",
                    "line": {
                      "color": "rgba(128, 0, 128, 0.8999999999999999)",
                      "width": 1
                    }
                  },
                  "name": "weight.gain",
                  "orientation": "v",
                  "text": "",
                  "type": "bar",
                  "x": [
                    "ADHD rate",
                    "ASD rate",
                    "ED rate",
                    "Loneliness rate",
                    "MDD rate",
                    "OCD rate",
                    "PDD rate",
                    "PTSD rate",
                    "anxiety rate",
                    "bipolar rate",
                    "psychot depresn rate",
                    "sleep disord rate"
                  ],
                  "y": [
                    0,
                    0,
                    1,
                    0.8222222222222222,
                    0,
                    0,
                    0,
                    0,
                    0.4925373134328358,
                    0,
                    0,
                    0
                  ]
                },
                {
                  "marker": {
                    "color": "rgba(219, 64, 82, 0.6)",
                    "line": {
                      "color": "rgba(219, 64, 82, 0.8999999999999999)",
                      "width": 1
                    }
                  },
                  "name": "introvert",
                  "orientation": "v",
                  "text": "",
                  "type": "bar",
                  "x": [
                    "ADHD rate",
                    "ASD rate",
                    "ED rate",
                    "Loneliness rate",
                    "MDD rate",
                    "OCD rate",
                    "PDD rate",
                    "PTSD rate",
                    "anxiety rate",
                    "bipolar rate",
                    "psychot depresn rate",
                    "sleep disord rate"
                  ],
                  "y": [
                    0,
                    1,
                    0,
                    1,
                    0,
                    0,
                    0,
                    0,
                    0,
                    0,
                    1,
                    0
                  ]
                },
                {
                  "marker": {
                    "color": "rgba(0, 128, 128, 0.6)",
                    "line": {
                      "color": "rgba(0, 128, 128, 0.8999999999999999)",
                      "width": 1
                    }
                  },
                  "name": "popping.up.stressful.memory",
                  "orientation": "v",
                  "text": "",
                  "type": "bar",
                  "x": [
                    "ADHD rate",
                    "ASD rate",
                    "ED rate",
                    "Loneliness rate",
                    "MDD rate",
                    "OCD rate",
                    "PDD rate",
                    "PTSD rate",
                    "anxiety rate",
                    "bipolar rate",
                    "psychot depresn rate",
                    "sleep disord rate"
                  ],
                  "y": [
                    0,
                    0,
                    0,
                    0,
                    1,
                    1,
                    1,
                    1,
                    0.4925373134328358,
                    0,
                    0.8888888888888888,
                    1
                  ]
                },
                {
                  "marker": {
                    "color": "rgba(255, 255, 51, 0.6)",
                    "line": {
                      "color": "rgba(255, 255, 51, 0.8999999999999999)",
                      "width": 1
                    }
                  },
                  "name": "nightmares",
                  "orientation": "v",
                  "text": "",
                  "type": "bar",
                  "x": [
                    "ADHD rate",
                    "ASD rate",
                    "ED rate",
                    "Loneliness rate",
                    "MDD rate",
                    "OCD rate",
                    "PDD rate",
                    "PTSD rate",
                    "anxiety rate",
                    "bipolar rate",
                    "psychot depresn rate",
                    "sleep disord rate"
                  ],
                  "y": [
                    0,
                    0.797752808988764,
                    0,
                    0,
                    0.6307692307692307,
                    0,
                    0.8166666666666667,
                    1,
                    0,
                    0,
                    0.1111111111111111,
                    0
                  ]
                },
                {
                  "marker": {
                    "color": "rgba(128, 128, 0, 0.6)",
                    "line": {
                      "color": "rgba(128, 128, 0, 0.8999999999999999)",
                      "width": 1
                    }
                  },
                  "name": "avoids.people.or.activities",
                  "orientation": "v",
                  "text": "",
                  "type": "bar",
                  "x": [
                    "ADHD rate",
                    "ASD rate",
                    "ED rate",
                    "Loneliness rate",
                    "MDD rate",
                    "OCD rate",
                    "PDD rate",
                    "PTSD rate",
                    "anxiety rate",
                    "bipolar rate",
                    "psychot depresn rate",
                    "sleep disord rate"
                  ],
                  "y": [
                    0,
                    1,
                    0,
                    0,
                    0.06153846153846154,
                    0,
                    0,
                    0.4782608695652174,
                    1,
                    0.5348837209302325,
                    1,
                    0
                  ]
                },
                {
                  "marker": {
                    "color": "rgba(251, 128, 114, 0.6)",
                    "line": {
                      "color": "rgba(251, 128, 114, 0.8999999999999999)",
                      "width": 1
                    }
                  },
                  "name": "feeling.negative",
                  "orientation": "v",
                  "text": "",
                  "type": "bar",
                  "x": [
                    "ADHD rate",
                    "ASD rate",
                    "ED rate",
                    "Loneliness rate",
                    "MDD rate",
                    "OCD rate",
                    "PDD rate",
                    "PTSD rate",
                    "anxiety rate",
                    "bipolar rate",
                    "psychot depresn rate",
                    "sleep disord rate"
                  ],
                  "y": [
                    0,
                    0,
                    1,
                    0,
                    1,
                    0,
                    1,
                    0,
                    0,
                    0,
                    1,
                    0
                  ]
                },
                {
                  "marker": {
                    "color": "rgba(251, 128, 114, 0.6)",
                    "line": {
                      "color": "rgba(251, 128, 114, 0.7999999999999998)",
                      "width": 1
                    }
                  },
                  "name": "trouble.concentrating",
                  "orientation": "v",
                  "text": "",
                  "type": "bar",
                  "x": [
                    "ADHD rate",
                    "ASD rate",
                    "ED rate",
                    "Loneliness rate",
                    "MDD rate",
                    "OCD rate",
                    "PDD rate",
                    "PTSD rate",
                    "anxiety rate",
                    "bipolar rate",
                    "psychot depresn rate",
                    "sleep disord rate"
                  ],
                  "y": [
                    1,
                    0.20224719101123595,
                    0,
                    0,
                    0.5692307692307692,
                    0.0967741935483871,
                    0.8166666666666667,
                    0.15217391304347827,
                    0,
                    0.46511627906976744,
                    1,
                    1
                  ]
                },
                {
                  "marker": {
                    "color": "rgba(128, 177, 211, 0.6)",
                    "line": {
                      "color": "rgba(128, 177, 211, 0.7999999999999998)",
                      "width": 1
                    }
                  },
                  "name": "blaming.yourself",
                  "orientation": "v",
                  "text": "",
                  "type": "bar",
                  "x": [
                    "ADHD rate",
                    "ASD rate",
                    "ED rate",
                    "Loneliness rate",
                    "MDD rate",
                    "OCD rate",
                    "PDD rate",
                    "PTSD rate",
                    "anxiety rate",
                    "bipolar rate",
                    "psychot depresn rate",
                    "sleep disord rate"
                  ],
                  "y": [
                    0,
                    0,
                    0,
                    0,
                    0.26153846153846155,
                    0,
                    1,
                    0.9347826086956522,
                    0,
                    0.8372093023255814,
                    0,
                    0
                  ]
                },
                {
                  "marker": {
                    "color": "rgba(255, 153, 51, 0.6)",
                    "line": {
                      "color": "rgba(255, 153, 51, 0.7999999999999998)",
                      "width": 1
                    }
                  },
                  "name": "hallucinations",
                  "orientation": "v",
                  "text": "",
                  "type": "bar",
                  "x": [
                    "ADHD rate",
                    "ASD rate",
                    "ED rate",
                    "Loneliness rate",
                    "MDD rate",
                    "OCD rate",
                    "PDD rate",
                    "PTSD rate",
                    "anxiety rate",
                    "bipolar rate",
                    "psychot depresn rate",
                    "sleep disord rate"
                  ],
                  "y": [
                    0,
                    0,
                    0,
                    0,
                    0,
                    0.0967741935483871,
                    0,
                    0.5652173913043478,
                    0,
                    0,
                    1,
                    0.2647058823529412
                  ]
                },
                {
                  "marker": {
                    "color": "rgba(55, 128, 191, 0.6)",
                    "line": {
                      "color": "rgba(55, 128, 191, 0.7999999999999998)",
                      "width": 1
                    }
                  },
                  "name": "repetitive.behaviour",
                  "orientation": "v",
                  "text": "",
                  "type": "bar",
                  "x": [
                    "ADHD rate",
                    "ASD rate",
                    "ED rate",
                    "Loneliness rate",
                    "MDD rate",
                    "OCD rate",
                    "PDD rate",
                    "PTSD rate",
                    "anxiety rate",
                    "bipolar rate",
                    "psychot depresn rate",
                    "sleep disord rate"
                  ],
                  "y": [
                    0.4307692307692308,
                    0.9325842696629213,
                    0,
                    0,
                    0,
                    1,
                    0,
                    0.8478260869565217,
                    0,
                    0,
                    0.1111111111111111,
                    0
                  ]
                },
                {
                  "marker": {
                    "color": "rgba(50, 171, 96, 0.6)",
                    "line": {
                      "color": "rgba(50, 171, 96, 0.7999999999999998)",
                      "width": 1
                    }
                  },
                  "name": "seasonally",
                  "orientation": "v",
                  "text": "",
                  "type": "bar",
                  "x": [
                    "ADHD rate",
                    "ASD rate",
                    "ED rate",
                    "Loneliness rate",
                    "MDD rate",
                    "OCD rate",
                    "PDD rate",
                    "PTSD rate",
                    "anxiety rate",
                    "bipolar rate",
                    "psychot depresn rate",
                    "sleep disord rate"
                  ],
                  "y": [
                    0,
                    0,
                    0,
                    0,
                    0,
                    0,
                    0,
                    0,
                    0,
                    0,
                    0,
                    0
                  ]
                },
                {
                  "marker": {
                    "color": "rgba(128, 0, 128, 0.6)",
                    "line": {
                      "color": "rgba(128, 0, 128, 0.7999999999999998)",
                      "width": 1
                    }
                  },
                  "name": "increased.energy",
                  "orientation": "v",
                  "text": "",
                  "type": "bar",
                  "x": [
                    "ADHD rate",
                    "ASD rate",
                    "ED rate",
                    "Loneliness rate",
                    "MDD rate",
                    "OCD rate",
                    "PDD rate",
                    "PTSD rate",
                    "anxiety rate",
                    "bipolar rate",
                    "psychot depresn rate",
                    "sleep disord rate"
                  ],
                  "y": [
                    1,
                    0.0898876404494382,
                    0,
                    0,
                    0,
                    1,
                    0,
                    0,
                    0,
                    1,
                    0,
                    0
                  ]
                }
              ],
              "layout": {
                "legend": {
                  "bgcolor": "#F5F6F9",
                  "font": {
                    "color": "#4D5663"
                  }
                },
                "paper_bgcolor": "#F5F6F9",
                "plot_bgcolor": "#F5F6F9",
                "template": {
                  "data": {
                    "bar": [
                      {
                        "error_x": {
                          "color": "#2a3f5f"
                        },
                        "error_y": {
                          "color": "#2a3f5f"
                        },
                        "marker": {
                          "line": {
                            "color": "#E5ECF6",
                            "width": 0.5
                          },
                          "pattern": {
                            "fillmode": "overlay",
                            "size": 10,
                            "solidity": 0.2
                          }
                        },
                        "type": "bar"
                      }
                    ],
                    "barpolar": [
                      {
                        "marker": {
                          "line": {
                            "color": "#E5ECF6",
                            "width": 0.5
                          },
                          "pattern": {
                            "fillmode": "overlay",
                            "size": 10,
                            "solidity": 0.2
                          }
                        },
                        "type": "barpolar"
                      }
                    ],
                    "carpet": [
                      {
                        "aaxis": {
                          "endlinecolor": "#2a3f5f",
                          "gridcolor": "white",
                          "linecolor": "white",
                          "minorgridcolor": "white",
                          "startlinecolor": "#2a3f5f"
                        },
                        "baxis": {
                          "endlinecolor": "#2a3f5f",
                          "gridcolor": "white",
                          "linecolor": "white",
                          "minorgridcolor": "white",
                          "startlinecolor": "#2a3f5f"
                        },
                        "type": "carpet"
                      }
                    ],
                    "choropleth": [
                      {
                        "colorbar": {
                          "outlinewidth": 0,
                          "ticks": ""
                        },
                        "type": "choropleth"
                      }
                    ],
                    "contour": [
                      {
                        "colorbar": {
                          "outlinewidth": 0,
                          "ticks": ""
                        },
                        "colorscale": [
                          [
                            0,
                            "#0d0887"
                          ],
                          [
                            0.1111111111111111,
                            "#46039f"
                          ],
                          [
                            0.2222222222222222,
                            "#7201a8"
                          ],
                          [
                            0.3333333333333333,
                            "#9c179e"
                          ],
                          [
                            0.4444444444444444,
                            "#bd3786"
                          ],
                          [
                            0.5555555555555556,
                            "#d8576b"
                          ],
                          [
                            0.6666666666666666,
                            "#ed7953"
                          ],
                          [
                            0.7777777777777778,
                            "#fb9f3a"
                          ],
                          [
                            0.8888888888888888,
                            "#fdca26"
                          ],
                          [
                            1,
                            "#f0f921"
                          ]
                        ],
                        "type": "contour"
                      }
                    ],
                    "contourcarpet": [
                      {
                        "colorbar": {
                          "outlinewidth": 0,
                          "ticks": ""
                        },
                        "type": "contourcarpet"
                      }
                    ],
                    "heatmap": [
                      {
                        "colorbar": {
                          "outlinewidth": 0,
                          "ticks": ""
                        },
                        "colorscale": [
                          [
                            0,
                            "#0d0887"
                          ],
                          [
                            0.1111111111111111,
                            "#46039f"
                          ],
                          [
                            0.2222222222222222,
                            "#7201a8"
                          ],
                          [
                            0.3333333333333333,
                            "#9c179e"
                          ],
                          [
                            0.4444444444444444,
                            "#bd3786"
                          ],
                          [
                            0.5555555555555556,
                            "#d8576b"
                          ],
                          [
                            0.6666666666666666,
                            "#ed7953"
                          ],
                          [
                            0.7777777777777778,
                            "#fb9f3a"
                          ],
                          [
                            0.8888888888888888,
                            "#fdca26"
                          ],
                          [
                            1,
                            "#f0f921"
                          ]
                        ],
                        "type": "heatmap"
                      }
                    ],
                    "heatmapgl": [
                      {
                        "colorbar": {
                          "outlinewidth": 0,
                          "ticks": ""
                        },
                        "colorscale": [
                          [
                            0,
                            "#0d0887"
                          ],
                          [
                            0.1111111111111111,
                            "#46039f"
                          ],
                          [
                            0.2222222222222222,
                            "#7201a8"
                          ],
                          [
                            0.3333333333333333,
                            "#9c179e"
                          ],
                          [
                            0.4444444444444444,
                            "#bd3786"
                          ],
                          [
                            0.5555555555555556,
                            "#d8576b"
                          ],
                          [
                            0.6666666666666666,
                            "#ed7953"
                          ],
                          [
                            0.7777777777777778,
                            "#fb9f3a"
                          ],
                          [
                            0.8888888888888888,
                            "#fdca26"
                          ],
                          [
                            1,
                            "#f0f921"
                          ]
                        ],
                        "type": "heatmapgl"
                      }
                    ],
                    "histogram": [
                      {
                        "marker": {
                          "pattern": {
                            "fillmode": "overlay",
                            "size": 10,
                            "solidity": 0.2
                          }
                        },
                        "type": "histogram"
                      }
                    ],
                    "histogram2d": [
                      {
                        "colorbar": {
                          "outlinewidth": 0,
                          "ticks": ""
                        },
                        "colorscale": [
                          [
                            0,
                            "#0d0887"
                          ],
                          [
                            0.1111111111111111,
                            "#46039f"
                          ],
                          [
                            0.2222222222222222,
                            "#7201a8"
                          ],
                          [
                            0.3333333333333333,
                            "#9c179e"
                          ],
                          [
                            0.4444444444444444,
                            "#bd3786"
                          ],
                          [
                            0.5555555555555556,
                            "#d8576b"
                          ],
                          [
                            0.6666666666666666,
                            "#ed7953"
                          ],
                          [
                            0.7777777777777778,
                            "#fb9f3a"
                          ],
                          [
                            0.8888888888888888,
                            "#fdca26"
                          ],
                          [
                            1,
                            "#f0f921"
                          ]
                        ],
                        "type": "histogram2d"
                      }
                    ],
                    "histogram2dcontour": [
                      {
                        "colorbar": {
                          "outlinewidth": 0,
                          "ticks": ""
                        },
                        "colorscale": [
                          [
                            0,
                            "#0d0887"
                          ],
                          [
                            0.1111111111111111,
                            "#46039f"
                          ],
                          [
                            0.2222222222222222,
                            "#7201a8"
                          ],
                          [
                            0.3333333333333333,
                            "#9c179e"
                          ],
                          [
                            0.4444444444444444,
                            "#bd3786"
                          ],
                          [
                            0.5555555555555556,
                            "#d8576b"
                          ],
                          [
                            0.6666666666666666,
                            "#ed7953"
                          ],
                          [
                            0.7777777777777778,
                            "#fb9f3a"
                          ],
                          [
                            0.8888888888888888,
                            "#fdca26"
                          ],
                          [
                            1,
                            "#f0f921"
                          ]
                        ],
                        "type": "histogram2dcontour"
                      }
                    ],
                    "mesh3d": [
                      {
                        "colorbar": {
                          "outlinewidth": 0,
                          "ticks": ""
                        },
                        "type": "mesh3d"
                      }
                    ],
                    "parcoords": [
                      {
                        "line": {
                          "colorbar": {
                            "outlinewidth": 0,
                            "ticks": ""
                          }
                        },
                        "type": "parcoords"
                      }
                    ],
                    "pie": [
                      {
                        "automargin": true,
                        "type": "pie"
                      }
                    ],
                    "scatter": [
                      {
                        "fillpattern": {
                          "fillmode": "overlay",
                          "size": 10,
                          "solidity": 0.2
                        },
                        "type": "scatter"
                      }
                    ],
                    "scatter3d": [
                      {
                        "line": {
                          "colorbar": {
                            "outlinewidth": 0,
                            "ticks": ""
                          }
                        },
                        "marker": {
                          "colorbar": {
                            "outlinewidth": 0,
                            "ticks": ""
                          }
                        },
                        "type": "scatter3d"
                      }
                    ],
                    "scattercarpet": [
                      {
                        "marker": {
                          "colorbar": {
                            "outlinewidth": 0,
                            "ticks": ""
                          }
                        },
                        "type": "scattercarpet"
                      }
                    ],
                    "scattergeo": [
                      {
                        "marker": {
                          "colorbar": {
                            "outlinewidth": 0,
                            "ticks": ""
                          }
                        },
                        "type": "scattergeo"
                      }
                    ],
                    "scattergl": [
                      {
                        "marker": {
                          "colorbar": {
                            "outlinewidth": 0,
                            "ticks": ""
                          }
                        },
                        "type": "scattergl"
                      }
                    ],
                    "scattermapbox": [
                      {
                        "marker": {
                          "colorbar": {
                            "outlinewidth": 0,
                            "ticks": ""
                          }
                        },
                        "type": "scattermapbox"
                      }
                    ],
                    "scatterpolar": [
                      {
                        "marker": {
                          "colorbar": {
                            "outlinewidth": 0,
                            "ticks": ""
                          }
                        },
                        "type": "scatterpolar"
                      }
                    ],
                    "scatterpolargl": [
                      {
                        "marker": {
                          "colorbar": {
                            "outlinewidth": 0,
                            "ticks": ""
                          }
                        },
                        "type": "scatterpolargl"
                      }
                    ],
                    "scatterternary": [
                      {
                        "marker": {
                          "colorbar": {
                            "outlinewidth": 0,
                            "ticks": ""
                          }
                        },
                        "type": "scatterternary"
                      }
                    ],
                    "surface": [
                      {
                        "colorbar": {
                          "outlinewidth": 0,
                          "ticks": ""
                        },
                        "colorscale": [
                          [
                            0,
                            "#0d0887"
                          ],
                          [
                            0.1111111111111111,
                            "#46039f"
                          ],
                          [
                            0.2222222222222222,
                            "#7201a8"
                          ],
                          [
                            0.3333333333333333,
                            "#9c179e"
                          ],
                          [
                            0.4444444444444444,
                            "#bd3786"
                          ],
                          [
                            0.5555555555555556,
                            "#d8576b"
                          ],
                          [
                            0.6666666666666666,
                            "#ed7953"
                          ],
                          [
                            0.7777777777777778,
                            "#fb9f3a"
                          ],
                          [
                            0.8888888888888888,
                            "#fdca26"
                          ],
                          [
                            1,
                            "#f0f921"
                          ]
                        ],
                        "type": "surface"
                      }
                    ],
                    "table": [
                      {
                        "cells": {
                          "fill": {
                            "color": "#EBF0F8"
                          },
                          "line": {
                            "color": "white"
                          }
                        },
                        "header": {
                          "fill": {
                            "color": "#C8D4E3"
                          },
                          "line": {
                            "color": "white"
                          }
                        },
                        "type": "table"
                      }
                    ]
                  },
                  "layout": {
                    "annotationdefaults": {
                      "arrowcolor": "#2a3f5f",
                      "arrowhead": 0,
                      "arrowwidth": 1
                    },
                    "autotypenumbers": "strict",
                    "coloraxis": {
                      "colorbar": {
                        "outlinewidth": 0,
                        "ticks": ""
                      }
                    },
                    "colorscale": {
                      "diverging": [
                        [
                          0,
                          "#8e0152"
                        ],
                        [
                          0.1,
                          "#c51b7d"
                        ],
                        [
                          0.2,
                          "#de77ae"
                        ],
                        [
                          0.3,
                          "#f1b6da"
                        ],
                        [
                          0.4,
                          "#fde0ef"
                        ],
                        [
                          0.5,
                          "#f7f7f7"
                        ],
                        [
                          0.6,
                          "#e6f5d0"
                        ],
                        [
                          0.7,
                          "#b8e186"
                        ],
                        [
                          0.8,
                          "#7fbc41"
                        ],
                        [
                          0.9,
                          "#4d9221"
                        ],
                        [
                          1,
                          "#276419"
                        ]
                      ],
                      "sequential": [
                        [
                          0,
                          "#0d0887"
                        ],
                        [
                          0.1111111111111111,
                          "#46039f"
                        ],
                        [
                          0.2222222222222222,
                          "#7201a8"
                        ],
                        [
                          0.3333333333333333,
                          "#9c179e"
                        ],
                        [
                          0.4444444444444444,
                          "#bd3786"
                        ],
                        [
                          0.5555555555555556,
                          "#d8576b"
                        ],
                        [
                          0.6666666666666666,
                          "#ed7953"
                        ],
                        [
                          0.7777777777777778,
                          "#fb9f3a"
                        ],
                        [
                          0.8888888888888888,
                          "#fdca26"
                        ],
                        [
                          1,
                          "#f0f921"
                        ]
                      ],
                      "sequentialminus": [
                        [
                          0,
                          "#0d0887"
                        ],
                        [
                          0.1111111111111111,
                          "#46039f"
                        ],
                        [
                          0.2222222222222222,
                          "#7201a8"
                        ],
                        [
                          0.3333333333333333,
                          "#9c179e"
                        ],
                        [
                          0.4444444444444444,
                          "#bd3786"
                        ],
                        [
                          0.5555555555555556,
                          "#d8576b"
                        ],
                        [
                          0.6666666666666666,
                          "#ed7953"
                        ],
                        [
                          0.7777777777777778,
                          "#fb9f3a"
                        ],
                        [
                          0.8888888888888888,
                          "#fdca26"
                        ],
                        [
                          1,
                          "#f0f921"
                        ]
                      ]
                    },
                    "colorway": [
                      "#636efa",
                      "#EF553B",
                      "#00cc96",
                      "#ab63fa",
                      "#FFA15A",
                      "#19d3f3",
                      "#FF6692",
                      "#B6E880",
                      "#FF97FF",
                      "#FECB52"
                    ],
                    "font": {
                      "color": "#2a3f5f"
                    },
                    "geo": {
                      "bgcolor": "white",
                      "lakecolor": "white",
                      "landcolor": "#E5ECF6",
                      "showlakes": true,
                      "showland": true,
                      "subunitcolor": "white"
                    },
                    "hoverlabel": {
                      "align": "left"
                    },
                    "hovermode": "closest",
                    "mapbox": {
                      "style": "light"
                    },
                    "paper_bgcolor": "white",
                    "plot_bgcolor": "#E5ECF6",
                    "polar": {
                      "angularaxis": {
                        "gridcolor": "white",
                        "linecolor": "white",
                        "ticks": ""
                      },
                      "bgcolor": "#E5ECF6",
                      "radialaxis": {
                        "gridcolor": "white",
                        "linecolor": "white",
                        "ticks": ""
                      }
                    },
                    "scene": {
                      "xaxis": {
                        "backgroundcolor": "#E5ECF6",
                        "gridcolor": "white",
                        "gridwidth": 2,
                        "linecolor": "white",
                        "showbackground": true,
                        "ticks": "",
                        "zerolinecolor": "white"
                      },
                      "yaxis": {
                        "backgroundcolor": "#E5ECF6",
                        "gridcolor": "white",
                        "gridwidth": 2,
                        "linecolor": "white",
                        "showbackground": true,
                        "ticks": "",
                        "zerolinecolor": "white"
                      },
                      "zaxis": {
                        "backgroundcolor": "#E5ECF6",
                        "gridcolor": "white",
                        "gridwidth": 2,
                        "linecolor": "white",
                        "showbackground": true,
                        "ticks": "",
                        "zerolinecolor": "white"
                      }
                    },
                    "shapedefaults": {
                      "line": {
                        "color": "#2a3f5f"
                      }
                    },
                    "ternary": {
                      "aaxis": {
                        "gridcolor": "white",
                        "linecolor": "white",
                        "ticks": ""
                      },
                      "baxis": {
                        "gridcolor": "white",
                        "linecolor": "white",
                        "ticks": ""
                      },
                      "bgcolor": "#E5ECF6",
                      "caxis": {
                        "gridcolor": "white",
                        "linecolor": "white",
                        "ticks": ""
                      }
                    },
                    "title": {
                      "x": 0.05
                    },
                    "xaxis": {
                      "automargin": true,
                      "gridcolor": "white",
                      "linecolor": "white",
                      "ticks": "",
                      "title": {
                        "standoff": 15
                      },
                      "zerolinecolor": "white",
                      "zerolinewidth": 2
                    },
                    "yaxis": {
                      "automargin": true,
                      "gridcolor": "white",
                      "linecolor": "white",
                      "ticks": "",
                      "title": {
                        "standoff": 15
                      },
                      "zerolinecolor": "white",
                      "zerolinewidth": 2
                    }
                  }
                },
                "title": {
                  "font": {
                    "color": "#4D5663"
                  },
                  "text": "Gejala yang berkaitan dengn Gangguan"
                },
                "xaxis": {
                  "gridcolor": "#E1E5ED",
                  "showgrid": true,
                  "tickfont": {
                    "color": "#4D5663"
                  },
                  "title": {
                    "font": {
                      "color": "#4D5663"
                    },
                    "text": ""
                  },
                  "zerolinecolor": "#E1E5ED"
                },
                "yaxis": {
                  "gridcolor": "#E1E5ED",
                  "showgrid": true,
                  "tickfont": {
                    "color": "#4D5663"
                  },
                  "title": {
                    "font": {
                      "color": "#4D5663"
                    },
                    "text": ""
                  },
                  "zerolinecolor": "#E1E5ED"
                }
              }
            },
            "text/html": [
              "<div>                            <div id=\"fb650efc-44cd-44df-8f33-6cf5334976b0\" class=\"plotly-graph-div\" style=\"height:525px; width:100%;\"></div>            <script type=\"text/javascript\">                require([\"plotly\"], function(Plotly) {                    window.PLOTLYENV=window.PLOTLYENV || {};\n",
              "                    window.PLOTLYENV.BASE_URL='https://plot.ly';                                    if (document.getElementById(\"fb650efc-44cd-44df-8f33-6cf5334976b0\")) {                    Plotly.newPlot(                        \"fb650efc-44cd-44df-8f33-6cf5334976b0\",                        [{\"marker\":{\"color\":\"rgba(255, 153, 51, 0.6)\",\"line\":{\"color\":\"rgba(255, 153, 51, 1.0)\",\"width\":1}},\"name\":\"panic\",\"orientation\":\"v\",\"text\":\"\",\"x\":[\"ADHD rate\",\"ASD rate\",\"ED rate\",\"Loneliness rate\",\"MDD rate\",\"OCD rate\",\"PDD rate\",\"PTSD rate\",\"anxiety rate\",\"bipolar rate\",\"psychot depresn rate\",\"sleep disord rate\"],\"y\":[0.0,0.5617977528089888,0.0,0.0,0.5692307692307692,0.0,0.0,0.9347826086956522,0.5074626865671642,0.0,0.37037037037037035,0.0],\"type\":\"bar\"},{\"marker\":{\"color\":\"rgba(55, 128, 191, 0.6)\",\"line\":{\"color\":\"rgba(55, 128, 191, 1.0)\",\"width\":1}},\"name\":\"breathing.rapidly\",\"orientation\":\"v\",\"text\":\"\",\"x\":[\"ADHD rate\",\"ASD rate\",\"ED rate\",\"Loneliness rate\",\"MDD rate\",\"OCD rate\",\"PDD rate\",\"PTSD rate\",\"anxiety rate\",\"bipolar rate\",\"psychot depresn rate\",\"sleep disord rate\"],\"y\":[0.0,0.6741573033707865,1.0,0.0,0.4307692307692308,0.0,1.0,0.9347826086956522,1.0,0.0,1.0,0.0],\"type\":\"bar\"},{\"marker\":{\"color\":\"rgba(50, 171, 96, 0.6)\",\"line\":{\"color\":\"rgba(50, 171, 96, 1.0)\",\"width\":1}},\"name\":\"sweating\",\"orientation\":\"v\",\"text\":\"\",\"x\":[\"ADHD rate\",\"ASD rate\",\"ED rate\",\"Loneliness rate\",\"MDD rate\",\"OCD rate\",\"PDD rate\",\"PTSD rate\",\"anxiety rate\",\"bipolar rate\",\"psychot depresn rate\",\"sleep disord rate\"],\"y\":[0.0,0.3595505617977528,1.0,0.0,0.6307692307692307,0.0,0.0,0.45652173913043476,1.0,0.0,0.3333333333333333,0.0],\"type\":\"bar\"},{\"marker\":{\"color\":\"rgba(128, 0, 128, 0.6)\",\"line\":{\"color\":\"rgba(128, 0, 128, 1.0)\",\"width\":1}},\"name\":\"trouble.in.concentration\",\"orientation\":\"v\",\"text\":\"\",\"x\":[\"ADHD rate\",\"ASD rate\",\"ED rate\",\"Loneliness rate\",\"MDD rate\",\"OCD rate\",\"PDD rate\",\"PTSD rate\",\"anxiety rate\",\"bipolar rate\",\"psychot depresn rate\",\"sleep disord rate\"],\"y\":[1.0,0.20224719101123595,0.0,0.0,0.06153846153846154,0.0967741935483871,0.0,1.0,0.5074626865671642,0.8372093023255814,1.0,0.0],\"type\":\"bar\"},{\"marker\":{\"color\":\"rgba(219, 64, 82, 0.6)\",\"line\":{\"color\":\"rgba(219, 64, 82, 1.0)\",\"width\":1}},\"name\":\"trouble.sleeping\",\"orientation\":\"v\",\"text\":\"\",\"x\":[\"ADHD rate\",\"ASD rate\",\"ED rate\",\"Loneliness rate\",\"MDD rate\",\"OCD rate\",\"PDD rate\",\"PTSD rate\",\"anxiety rate\",\"bipolar rate\",\"psychot depresn rate\",\"sleep disord rate\"],\"y\":[0.5692307692307692,0.5617977528089888,0.0,0.0,0.9384615384615385,1.0,0.18333333333333332,1.0,1.0,1.0,1.0,1.0],\"type\":\"bar\"},{\"marker\":{\"color\":\"rgba(0, 128, 128, 0.6)\",\"line\":{\"color\":\"rgba(0, 128, 128, 1.0)\",\"width\":1}},\"name\":\"trouble.with.work\",\"orientation\":\"v\",\"text\":\"\",\"x\":[\"ADHD rate\",\"ASD rate\",\"ED rate\",\"Loneliness rate\",\"MDD rate\",\"OCD rate\",\"PDD rate\",\"PTSD rate\",\"anxiety rate\",\"bipolar rate\",\"psychot depresn rate\",\"sleep disord rate\"],\"y\":[0.0,0.0898876404494382,0.0,0.3111111111111111,0.6307692307692307,0.0967741935483871,0.0,0.4782608695652174,0.5074626865671642,0.0,1.0,0.7352941176470589],\"type\":\"bar\"},{\"marker\":{\"color\":\"rgba(255, 255, 51, 0.6)\",\"line\":{\"color\":\"rgba(255, 255, 51, 1.0)\",\"width\":1}},\"name\":\"hopelessness\",\"orientation\":\"v\",\"text\":\"\",\"x\":[\"ADHD rate\",\"ASD rate\",\"ED rate\",\"Loneliness rate\",\"MDD rate\",\"OCD rate\",\"PDD rate\",\"PTSD rate\",\"anxiety rate\",\"bipolar rate\",\"psychot depresn rate\",\"sleep disord rate\"],\"y\":[0.0,0.0,0.0,0.0,0.9384615384615385,0.0,1.0,0.0,0.0,0.0,1.0,0.0],\"type\":\"bar\"},{\"marker\":{\"color\":\"rgba(128, 128, 0, 0.6)\",\"line\":{\"color\":\"rgba(128, 128, 0, 1.0)\",\"width\":1}},\"name\":\"anger\",\"orientation\":\"v\",\"text\":\"\",\"x\":[\"ADHD rate\",\"ASD rate\",\"ED rate\",\"Loneliness rate\",\"MDD rate\",\"OCD rate\",\"PDD rate\",\"PTSD rate\",\"anxiety rate\",\"bipolar rate\",\"psychot depresn rate\",\"sleep disord rate\"],\"y\":[0.0,0.797752808988764,0.0,0.0,0.6307692307692307,0.0,0.8166666666666667,0.9347826086956522,0.0,0.0,0.1111111111111111,0.0],\"type\":\"bar\"},{\"marker\":{\"color\":\"rgba(251, 128, 114, 0.6)\",\"line\":{\"color\":\"rgba(251, 128, 114, 1.0)\",\"width\":1}},\"name\":\"over.react\",\"orientation\":\"v\",\"text\":\"\",\"x\":[\"ADHD rate\",\"ASD rate\",\"ED rate\",\"Loneliness rate\",\"MDD rate\",\"OCD rate\",\"PDD rate\",\"PTSD rate\",\"anxiety rate\",\"bipolar rate\",\"psychot depresn rate\",\"sleep disord rate\"],\"y\":[0.0,0.6404494382022472,0.0,0.0,0.6307692307692307,0.0967741935483871,0.0,0.45652173913043476,0.0,1.0,0.1111111111111111,0.0],\"type\":\"bar\"},{\"marker\":{\"color\":\"rgba(128, 177, 211, 0.6)\",\"line\":{\"color\":\"rgba(128, 177, 211, 1.0)\",\"width\":1}},\"name\":\"change.in.eating\",\"orientation\":\"v\",\"text\":\"\",\"x\":[\"ADHD rate\",\"ASD rate\",\"ED rate\",\"Loneliness rate\",\"MDD rate\",\"OCD rate\",\"PDD rate\",\"PTSD rate\",\"anxiety rate\",\"bipolar rate\",\"psychot depresn rate\",\"sleep disord rate\"],\"y\":[0.0,0.3595505617977528,1.0,0.0,0.5692307692307692,0.0,0.0,0.4782608695652174,0.0,0.0,0.0,0.0],\"type\":\"bar\"},{\"marker\":{\"color\":\"rgba(128, 177, 211, 0.6)\",\"line\":{\"color\":\"rgba(128, 177, 211, 0.8999999999999999)\",\"width\":1}},\"name\":\"suicidal.thought\",\"orientation\":\"v\",\"text\":\"\",\"x\":[\"ADHD rate\",\"ASD rate\",\"ED rate\",\"Loneliness rate\",\"MDD rate\",\"OCD rate\",\"PDD rate\",\"PTSD rate\",\"anxiety rate\",\"bipolar rate\",\"psychot depresn rate\",\"sleep disord rate\"],\"y\":[0.0,0.0,0.0,0.0,0.4307692307692308,0.0,1.0,0.0,0.0,0.0,1.0,0.0],\"type\":\"bar\"},{\"marker\":{\"color\":\"rgba(255, 153, 51, 0.6)\",\"line\":{\"color\":\"rgba(255, 153, 51, 0.8999999999999999)\",\"width\":1}},\"name\":\"feeling.tired\",\"orientation\":\"v\",\"text\":\"\",\"x\":[\"ADHD rate\",\"ASD rate\",\"ED rate\",\"Loneliness rate\",\"MDD rate\",\"OCD rate\",\"PDD rate\",\"PTSD rate\",\"anxiety rate\",\"bipolar rate\",\"psychot depresn rate\",\"sleep disord rate\"],\"y\":[0.0,0.0,0.0,0.8222222222222222,0.6307692307692307,1.0,0.0,0.06521739130434782,0.4925373134328358,0.0,1.0,1.0],\"type\":\"bar\"},{\"marker\":{\"color\":\"rgba(55, 128, 191, 0.6)\",\"line\":{\"color\":\"rgba(55, 128, 191, 0.8999999999999999)\",\"width\":1}},\"name\":\"close.friend\",\"orientation\":\"v\",\"text\":\"\",\"x\":[\"ADHD rate\",\"ASD rate\",\"ED rate\",\"Loneliness rate\",\"MDD rate\",\"OCD rate\",\"PDD rate\",\"PTSD rate\",\"anxiety rate\",\"bipolar rate\",\"psychot depresn rate\",\"sleep disord rate\"],\"y\":[0.0,0.0,1.0,0.6222222222222222,1.0,1.0,1.0,1.0,1.0,1.0,0.0,1.0],\"type\":\"bar\"},{\"marker\":{\"color\":\"rgba(50, 171, 96, 0.6)\",\"line\":{\"color\":\"rgba(50, 171, 96, 0.8999999999999999)\",\"width\":1}},\"name\":\"social.media.addiction\",\"orientation\":\"v\",\"text\":\"\",\"x\":[\"ADHD rate\",\"ASD rate\",\"ED rate\",\"Loneliness rate\",\"MDD rate\",\"OCD rate\",\"PDD rate\",\"PTSD rate\",\"anxiety rate\",\"bipolar rate\",\"psychot depresn rate\",\"sleep disord rate\"],\"y\":[0.0,0.797752808988764,1.0,1.0,0.5692307692307692,0.0967741935483871,0.0,1.0,1.0,1.0,0.1111111111111111,0.2647058823529412],\"type\":\"bar\"},{\"marker\":{\"color\":\"rgba(128, 0, 128, 0.6)\",\"line\":{\"color\":\"rgba(128, 0, 128, 0.8999999999999999)\",\"width\":1}},\"name\":\"weight.gain\",\"orientation\":\"v\",\"text\":\"\",\"x\":[\"ADHD rate\",\"ASD rate\",\"ED rate\",\"Loneliness rate\",\"MDD rate\",\"OCD rate\",\"PDD rate\",\"PTSD rate\",\"anxiety rate\",\"bipolar rate\",\"psychot depresn rate\",\"sleep disord rate\"],\"y\":[0.0,0.0,1.0,0.8222222222222222,0.0,0.0,0.0,0.0,0.4925373134328358,0.0,0.0,0.0],\"type\":\"bar\"},{\"marker\":{\"color\":\"rgba(219, 64, 82, 0.6)\",\"line\":{\"color\":\"rgba(219, 64, 82, 0.8999999999999999)\",\"width\":1}},\"name\":\"introvert\",\"orientation\":\"v\",\"text\":\"\",\"x\":[\"ADHD rate\",\"ASD rate\",\"ED rate\",\"Loneliness rate\",\"MDD rate\",\"OCD rate\",\"PDD rate\",\"PTSD rate\",\"anxiety rate\",\"bipolar rate\",\"psychot depresn rate\",\"sleep disord rate\"],\"y\":[0.0,1.0,0.0,1.0,0.0,0.0,0.0,0.0,0.0,0.0,1.0,0.0],\"type\":\"bar\"},{\"marker\":{\"color\":\"rgba(0, 128, 128, 0.6)\",\"line\":{\"color\":\"rgba(0, 128, 128, 0.8999999999999999)\",\"width\":1}},\"name\":\"popping.up.stressful.memory\",\"orientation\":\"v\",\"text\":\"\",\"x\":[\"ADHD rate\",\"ASD rate\",\"ED rate\",\"Loneliness rate\",\"MDD rate\",\"OCD rate\",\"PDD rate\",\"PTSD rate\",\"anxiety rate\",\"bipolar rate\",\"psychot depresn rate\",\"sleep disord rate\"],\"y\":[0.0,0.0,0.0,0.0,1.0,1.0,1.0,1.0,0.4925373134328358,0.0,0.8888888888888888,1.0],\"type\":\"bar\"},{\"marker\":{\"color\":\"rgba(255, 255, 51, 0.6)\",\"line\":{\"color\":\"rgba(255, 255, 51, 0.8999999999999999)\",\"width\":1}},\"name\":\"nightmares\",\"orientation\":\"v\",\"text\":\"\",\"x\":[\"ADHD rate\",\"ASD rate\",\"ED rate\",\"Loneliness rate\",\"MDD rate\",\"OCD rate\",\"PDD rate\",\"PTSD rate\",\"anxiety rate\",\"bipolar rate\",\"psychot depresn rate\",\"sleep disord rate\"],\"y\":[0.0,0.797752808988764,0.0,0.0,0.6307692307692307,0.0,0.8166666666666667,1.0,0.0,0.0,0.1111111111111111,0.0],\"type\":\"bar\"},{\"marker\":{\"color\":\"rgba(128, 128, 0, 0.6)\",\"line\":{\"color\":\"rgba(128, 128, 0, 0.8999999999999999)\",\"width\":1}},\"name\":\"avoids.people.or.activities\",\"orientation\":\"v\",\"text\":\"\",\"x\":[\"ADHD rate\",\"ASD rate\",\"ED rate\",\"Loneliness rate\",\"MDD rate\",\"OCD rate\",\"PDD rate\",\"PTSD rate\",\"anxiety rate\",\"bipolar rate\",\"psychot depresn rate\",\"sleep disord rate\"],\"y\":[0.0,1.0,0.0,0.0,0.06153846153846154,0.0,0.0,0.4782608695652174,1.0,0.5348837209302325,1.0,0.0],\"type\":\"bar\"},{\"marker\":{\"color\":\"rgba(251, 128, 114, 0.6)\",\"line\":{\"color\":\"rgba(251, 128, 114, 0.8999999999999999)\",\"width\":1}},\"name\":\"feeling.negative\",\"orientation\":\"v\",\"text\":\"\",\"x\":[\"ADHD rate\",\"ASD rate\",\"ED rate\",\"Loneliness rate\",\"MDD rate\",\"OCD rate\",\"PDD rate\",\"PTSD rate\",\"anxiety rate\",\"bipolar rate\",\"psychot depresn rate\",\"sleep disord rate\"],\"y\":[0.0,0.0,1.0,0.0,1.0,0.0,1.0,0.0,0.0,0.0,1.0,0.0],\"type\":\"bar\"},{\"marker\":{\"color\":\"rgba(251, 128, 114, 0.6)\",\"line\":{\"color\":\"rgba(251, 128, 114, 0.7999999999999998)\",\"width\":1}},\"name\":\"trouble.concentrating\",\"orientation\":\"v\",\"text\":\"\",\"x\":[\"ADHD rate\",\"ASD rate\",\"ED rate\",\"Loneliness rate\",\"MDD rate\",\"OCD rate\",\"PDD rate\",\"PTSD rate\",\"anxiety rate\",\"bipolar rate\",\"psychot depresn rate\",\"sleep disord rate\"],\"y\":[1.0,0.20224719101123595,0.0,0.0,0.5692307692307692,0.0967741935483871,0.8166666666666667,0.15217391304347827,0.0,0.46511627906976744,1.0,1.0],\"type\":\"bar\"},{\"marker\":{\"color\":\"rgba(128, 177, 211, 0.6)\",\"line\":{\"color\":\"rgba(128, 177, 211, 0.7999999999999998)\",\"width\":1}},\"name\":\"blaming.yourself\",\"orientation\":\"v\",\"text\":\"\",\"x\":[\"ADHD rate\",\"ASD rate\",\"ED rate\",\"Loneliness rate\",\"MDD rate\",\"OCD rate\",\"PDD rate\",\"PTSD rate\",\"anxiety rate\",\"bipolar rate\",\"psychot depresn rate\",\"sleep disord rate\"],\"y\":[0.0,0.0,0.0,0.0,0.26153846153846155,0.0,1.0,0.9347826086956522,0.0,0.8372093023255814,0.0,0.0],\"type\":\"bar\"},{\"marker\":{\"color\":\"rgba(255, 153, 51, 0.6)\",\"line\":{\"color\":\"rgba(255, 153, 51, 0.7999999999999998)\",\"width\":1}},\"name\":\"hallucinations\",\"orientation\":\"v\",\"text\":\"\",\"x\":[\"ADHD rate\",\"ASD rate\",\"ED rate\",\"Loneliness rate\",\"MDD rate\",\"OCD rate\",\"PDD rate\",\"PTSD rate\",\"anxiety rate\",\"bipolar rate\",\"psychot depresn rate\",\"sleep disord rate\"],\"y\":[0.0,0.0,0.0,0.0,0.0,0.0967741935483871,0.0,0.5652173913043478,0.0,0.0,1.0,0.2647058823529412],\"type\":\"bar\"},{\"marker\":{\"color\":\"rgba(55, 128, 191, 0.6)\",\"line\":{\"color\":\"rgba(55, 128, 191, 0.7999999999999998)\",\"width\":1}},\"name\":\"repetitive.behaviour\",\"orientation\":\"v\",\"text\":\"\",\"x\":[\"ADHD rate\",\"ASD rate\",\"ED rate\",\"Loneliness rate\",\"MDD rate\",\"OCD rate\",\"PDD rate\",\"PTSD rate\",\"anxiety rate\",\"bipolar rate\",\"psychot depresn rate\",\"sleep disord rate\"],\"y\":[0.4307692307692308,0.9325842696629213,0.0,0.0,0.0,1.0,0.0,0.8478260869565217,0.0,0.0,0.1111111111111111,0.0],\"type\":\"bar\"},{\"marker\":{\"color\":\"rgba(50, 171, 96, 0.6)\",\"line\":{\"color\":\"rgba(50, 171, 96, 0.7999999999999998)\",\"width\":1}},\"name\":\"seasonally\",\"orientation\":\"v\",\"text\":\"\",\"x\":[\"ADHD rate\",\"ASD rate\",\"ED rate\",\"Loneliness rate\",\"MDD rate\",\"OCD rate\",\"PDD rate\",\"PTSD rate\",\"anxiety rate\",\"bipolar rate\",\"psychot depresn rate\",\"sleep disord rate\"],\"y\":[0.0,0.0,0.0,0.0,0.0,0.0,0.0,0.0,0.0,0.0,0.0,0.0],\"type\":\"bar\"},{\"marker\":{\"color\":\"rgba(128, 0, 128, 0.6)\",\"line\":{\"color\":\"rgba(128, 0, 128, 0.7999999999999998)\",\"width\":1}},\"name\":\"increased.energy\",\"orientation\":\"v\",\"text\":\"\",\"x\":[\"ADHD rate\",\"ASD rate\",\"ED rate\",\"Loneliness rate\",\"MDD rate\",\"OCD rate\",\"PDD rate\",\"PTSD rate\",\"anxiety rate\",\"bipolar rate\",\"psychot depresn rate\",\"sleep disord rate\"],\"y\":[1.0,0.0898876404494382,0.0,0.0,0.0,1.0,0.0,0.0,0.0,1.0,0.0,0.0],\"type\":\"bar\"}],                        {\"legend\":{\"bgcolor\":\"#F5F6F9\",\"font\":{\"color\":\"#4D5663\"}},\"paper_bgcolor\":\"#F5F6F9\",\"plot_bgcolor\":\"#F5F6F9\",\"template\":{\"data\":{\"barpolar\":[{\"marker\":{\"line\":{\"color\":\"#E5ECF6\",\"width\":0.5},\"pattern\":{\"fillmode\":\"overlay\",\"size\":10,\"solidity\":0.2}},\"type\":\"barpolar\"}],\"bar\":[{\"error_x\":{\"color\":\"#2a3f5f\"},\"error_y\":{\"color\":\"#2a3f5f\"},\"marker\":{\"line\":{\"color\":\"#E5ECF6\",\"width\":0.5},\"pattern\":{\"fillmode\":\"overlay\",\"size\":10,\"solidity\":0.2}},\"type\":\"bar\"}],\"carpet\":[{\"aaxis\":{\"endlinecolor\":\"#2a3f5f\",\"gridcolor\":\"white\",\"linecolor\":\"white\",\"minorgridcolor\":\"white\",\"startlinecolor\":\"#2a3f5f\"},\"baxis\":{\"endlinecolor\":\"#2a3f5f\",\"gridcolor\":\"white\",\"linecolor\":\"white\",\"minorgridcolor\":\"white\",\"startlinecolor\":\"#2a3f5f\"},\"type\":\"carpet\"}],\"choropleth\":[{\"colorbar\":{\"outlinewidth\":0,\"ticks\":\"\"},\"type\":\"choropleth\"}],\"contourcarpet\":[{\"colorbar\":{\"outlinewidth\":0,\"ticks\":\"\"},\"type\":\"contourcarpet\"}],\"contour\":[{\"colorbar\":{\"outlinewidth\":0,\"ticks\":\"\"},\"colorscale\":[[0.0,\"#0d0887\"],[0.1111111111111111,\"#46039f\"],[0.2222222222222222,\"#7201a8\"],[0.3333333333333333,\"#9c179e\"],[0.4444444444444444,\"#bd3786\"],[0.5555555555555556,\"#d8576b\"],[0.6666666666666666,\"#ed7953\"],[0.7777777777777778,\"#fb9f3a\"],[0.8888888888888888,\"#fdca26\"],[1.0,\"#f0f921\"]],\"type\":\"contour\"}],\"heatmapgl\":[{\"colorbar\":{\"outlinewidth\":0,\"ticks\":\"\"},\"colorscale\":[[0.0,\"#0d0887\"],[0.1111111111111111,\"#46039f\"],[0.2222222222222222,\"#7201a8\"],[0.3333333333333333,\"#9c179e\"],[0.4444444444444444,\"#bd3786\"],[0.5555555555555556,\"#d8576b\"],[0.6666666666666666,\"#ed7953\"],[0.7777777777777778,\"#fb9f3a\"],[0.8888888888888888,\"#fdca26\"],[1.0,\"#f0f921\"]],\"type\":\"heatmapgl\"}],\"heatmap\":[{\"colorbar\":{\"outlinewidth\":0,\"ticks\":\"\"},\"colorscale\":[[0.0,\"#0d0887\"],[0.1111111111111111,\"#46039f\"],[0.2222222222222222,\"#7201a8\"],[0.3333333333333333,\"#9c179e\"],[0.4444444444444444,\"#bd3786\"],[0.5555555555555556,\"#d8576b\"],[0.6666666666666666,\"#ed7953\"],[0.7777777777777778,\"#fb9f3a\"],[0.8888888888888888,\"#fdca26\"],[1.0,\"#f0f921\"]],\"type\":\"heatmap\"}],\"histogram2dcontour\":[{\"colorbar\":{\"outlinewidth\":0,\"ticks\":\"\"},\"colorscale\":[[0.0,\"#0d0887\"],[0.1111111111111111,\"#46039f\"],[0.2222222222222222,\"#7201a8\"],[0.3333333333333333,\"#9c179e\"],[0.4444444444444444,\"#bd3786\"],[0.5555555555555556,\"#d8576b\"],[0.6666666666666666,\"#ed7953\"],[0.7777777777777778,\"#fb9f3a\"],[0.8888888888888888,\"#fdca26\"],[1.0,\"#f0f921\"]],\"type\":\"histogram2dcontour\"}],\"histogram2d\":[{\"colorbar\":{\"outlinewidth\":0,\"ticks\":\"\"},\"colorscale\":[[0.0,\"#0d0887\"],[0.1111111111111111,\"#46039f\"],[0.2222222222222222,\"#7201a8\"],[0.3333333333333333,\"#9c179e\"],[0.4444444444444444,\"#bd3786\"],[0.5555555555555556,\"#d8576b\"],[0.6666666666666666,\"#ed7953\"],[0.7777777777777778,\"#fb9f3a\"],[0.8888888888888888,\"#fdca26\"],[1.0,\"#f0f921\"]],\"type\":\"histogram2d\"}],\"histogram\":[{\"marker\":{\"pattern\":{\"fillmode\":\"overlay\",\"size\":10,\"solidity\":0.2}},\"type\":\"histogram\"}],\"mesh3d\":[{\"colorbar\":{\"outlinewidth\":0,\"ticks\":\"\"},\"type\":\"mesh3d\"}],\"parcoords\":[{\"line\":{\"colorbar\":{\"outlinewidth\":0,\"ticks\":\"\"}},\"type\":\"parcoords\"}],\"pie\":[{\"automargin\":true,\"type\":\"pie\"}],\"scatter3d\":[{\"line\":{\"colorbar\":{\"outlinewidth\":0,\"ticks\":\"\"}},\"marker\":{\"colorbar\":{\"outlinewidth\":0,\"ticks\":\"\"}},\"type\":\"scatter3d\"}],\"scattercarpet\":[{\"marker\":{\"colorbar\":{\"outlinewidth\":0,\"ticks\":\"\"}},\"type\":\"scattercarpet\"}],\"scattergeo\":[{\"marker\":{\"colorbar\":{\"outlinewidth\":0,\"ticks\":\"\"}},\"type\":\"scattergeo\"}],\"scattergl\":[{\"marker\":{\"colorbar\":{\"outlinewidth\":0,\"ticks\":\"\"}},\"type\":\"scattergl\"}],\"scattermapbox\":[{\"marker\":{\"colorbar\":{\"outlinewidth\":0,\"ticks\":\"\"}},\"type\":\"scattermapbox\"}],\"scatterpolargl\":[{\"marker\":{\"colorbar\":{\"outlinewidth\":0,\"ticks\":\"\"}},\"type\":\"scatterpolargl\"}],\"scatterpolar\":[{\"marker\":{\"colorbar\":{\"outlinewidth\":0,\"ticks\":\"\"}},\"type\":\"scatterpolar\"}],\"scatter\":[{\"fillpattern\":{\"fillmode\":\"overlay\",\"size\":10,\"solidity\":0.2},\"type\":\"scatter\"}],\"scatterternary\":[{\"marker\":{\"colorbar\":{\"outlinewidth\":0,\"ticks\":\"\"}},\"type\":\"scatterternary\"}],\"surface\":[{\"colorbar\":{\"outlinewidth\":0,\"ticks\":\"\"},\"colorscale\":[[0.0,\"#0d0887\"],[0.1111111111111111,\"#46039f\"],[0.2222222222222222,\"#7201a8\"],[0.3333333333333333,\"#9c179e\"],[0.4444444444444444,\"#bd3786\"],[0.5555555555555556,\"#d8576b\"],[0.6666666666666666,\"#ed7953\"],[0.7777777777777778,\"#fb9f3a\"],[0.8888888888888888,\"#fdca26\"],[1.0,\"#f0f921\"]],\"type\":\"surface\"}],\"table\":[{\"cells\":{\"fill\":{\"color\":\"#EBF0F8\"},\"line\":{\"color\":\"white\"}},\"header\":{\"fill\":{\"color\":\"#C8D4E3\"},\"line\":{\"color\":\"white\"}},\"type\":\"table\"}]},\"layout\":{\"annotationdefaults\":{\"arrowcolor\":\"#2a3f5f\",\"arrowhead\":0,\"arrowwidth\":1},\"autotypenumbers\":\"strict\",\"coloraxis\":{\"colorbar\":{\"outlinewidth\":0,\"ticks\":\"\"}},\"colorscale\":{\"diverging\":[[0,\"#8e0152\"],[0.1,\"#c51b7d\"],[0.2,\"#de77ae\"],[0.3,\"#f1b6da\"],[0.4,\"#fde0ef\"],[0.5,\"#f7f7f7\"],[0.6,\"#e6f5d0\"],[0.7,\"#b8e186\"],[0.8,\"#7fbc41\"],[0.9,\"#4d9221\"],[1,\"#276419\"]],\"sequential\":[[0.0,\"#0d0887\"],[0.1111111111111111,\"#46039f\"],[0.2222222222222222,\"#7201a8\"],[0.3333333333333333,\"#9c179e\"],[0.4444444444444444,\"#bd3786\"],[0.5555555555555556,\"#d8576b\"],[0.6666666666666666,\"#ed7953\"],[0.7777777777777778,\"#fb9f3a\"],[0.8888888888888888,\"#fdca26\"],[1.0,\"#f0f921\"]],\"sequentialminus\":[[0.0,\"#0d0887\"],[0.1111111111111111,\"#46039f\"],[0.2222222222222222,\"#7201a8\"],[0.3333333333333333,\"#9c179e\"],[0.4444444444444444,\"#bd3786\"],[0.5555555555555556,\"#d8576b\"],[0.6666666666666666,\"#ed7953\"],[0.7777777777777778,\"#fb9f3a\"],[0.8888888888888888,\"#fdca26\"],[1.0,\"#f0f921\"]]},\"colorway\":[\"#636efa\",\"#EF553B\",\"#00cc96\",\"#ab63fa\",\"#FFA15A\",\"#19d3f3\",\"#FF6692\",\"#B6E880\",\"#FF97FF\",\"#FECB52\"],\"font\":{\"color\":\"#2a3f5f\"},\"geo\":{\"bgcolor\":\"white\",\"lakecolor\":\"white\",\"landcolor\":\"#E5ECF6\",\"showlakes\":true,\"showland\":true,\"subunitcolor\":\"white\"},\"hoverlabel\":{\"align\":\"left\"},\"hovermode\":\"closest\",\"mapbox\":{\"style\":\"light\"},\"paper_bgcolor\":\"white\",\"plot_bgcolor\":\"#E5ECF6\",\"polar\":{\"angularaxis\":{\"gridcolor\":\"white\",\"linecolor\":\"white\",\"ticks\":\"\"},\"bgcolor\":\"#E5ECF6\",\"radialaxis\":{\"gridcolor\":\"white\",\"linecolor\":\"white\",\"ticks\":\"\"}},\"scene\":{\"xaxis\":{\"backgroundcolor\":\"#E5ECF6\",\"gridcolor\":\"white\",\"gridwidth\":2,\"linecolor\":\"white\",\"showbackground\":true,\"ticks\":\"\",\"zerolinecolor\":\"white\"},\"yaxis\":{\"backgroundcolor\":\"#E5ECF6\",\"gridcolor\":\"white\",\"gridwidth\":2,\"linecolor\":\"white\",\"showbackground\":true,\"ticks\":\"\",\"zerolinecolor\":\"white\"},\"zaxis\":{\"backgroundcolor\":\"#E5ECF6\",\"gridcolor\":\"white\",\"gridwidth\":2,\"linecolor\":\"white\",\"showbackground\":true,\"ticks\":\"\",\"zerolinecolor\":\"white\"}},\"shapedefaults\":{\"line\":{\"color\":\"#2a3f5f\"}},\"ternary\":{\"aaxis\":{\"gridcolor\":\"white\",\"linecolor\":\"white\",\"ticks\":\"\"},\"baxis\":{\"gridcolor\":\"white\",\"linecolor\":\"white\",\"ticks\":\"\"},\"bgcolor\":\"#E5ECF6\",\"caxis\":{\"gridcolor\":\"white\",\"linecolor\":\"white\",\"ticks\":\"\"}},\"title\":{\"x\":0.05},\"xaxis\":{\"automargin\":true,\"gridcolor\":\"white\",\"linecolor\":\"white\",\"ticks\":\"\",\"title\":{\"standoff\":15},\"zerolinecolor\":\"white\",\"zerolinewidth\":2},\"yaxis\":{\"automargin\":true,\"gridcolor\":\"white\",\"linecolor\":\"white\",\"ticks\":\"\",\"title\":{\"standoff\":15},\"zerolinecolor\":\"white\",\"zerolinewidth\":2}}},\"title\":{\"font\":{\"color\":\"#4D5663\"},\"text\":\"Gejala yang berkaitan dengn Gangguan\"},\"xaxis\":{\"gridcolor\":\"#E1E5ED\",\"showgrid\":true,\"tickfont\":{\"color\":\"#4D5663\"},\"title\":{\"font\":{\"color\":\"#4D5663\"},\"text\":\"\"},\"zerolinecolor\":\"#E1E5ED\"},\"yaxis\":{\"gridcolor\":\"#E1E5ED\",\"showgrid\":true,\"tickfont\":{\"color\":\"#4D5663\"},\"title\":{\"font\":{\"color\":\"#4D5663\"},\"text\":\"\"},\"zerolinecolor\":\"#E1E5ED\"}},                        {\"showLink\": true, \"linkText\": \"Export to plot.ly\", \"plotlyServerURL\": \"https://plot.ly\", \"responsive\": true}                    ).then(function(){\n",
              "                            \n",
              "var gd = document.getElementById('fb650efc-44cd-44df-8f33-6cf5334976b0');\n",
              "var x = new MutationObserver(function (mutations, observer) {{\n",
              "        var display = window.getComputedStyle(gd).display;\n",
              "        if (!display || display === 'none') {{\n",
              "            console.log([gd, 'removed!']);\n",
              "            Plotly.purge(gd);\n",
              "            observer.disconnect();\n",
              "        }}\n",
              "}});\n",
              "\n",
              "// Listen for the removal of the full notebook cells\n",
              "var notebookContainer = gd.closest('#notebook-container');\n",
              "if (notebookContainer) {{\n",
              "    x.observe(notebookContainer, {childList: true});\n",
              "}}\n",
              "\n",
              "// Listen for the clearing of the current output cell\n",
              "var outputEl = gd.closest('.output');\n",
              "if (outputEl) {{\n",
              "    x.observe(outputEl, {childList: true});\n",
              "}}\n",
              "\n",
              "                        })                };                });            </script>        </div>"
            ]
          },
          "metadata": {},
          "output_type": "display_data"
        }
      ],
      "source": [
        "byDisorderRate.iloc[:, 1:27].iplot(kind='bar', title='Gejala yang berkaitan dengn Gangguan')"
      ]
    },
    {
      "cell_type": "code",
      "execution_count": 24,
      "metadata": {
        "colab": {
          "base_uri": "https://localhost:8080/",
          "height": 542
        },
        "id": "66fCOStSZw80",
        "outputId": "d48b2ac2-872a-4221-daca-4264c4e858c0"
      },
      "outputs": [
        {
          "data": {
            "application/vnd.plotly.v1+json": {
              "config": {
                "linkText": "Export to plot.ly",
                "plotlyServerURL": "https://plot.ly",
                "showLink": true
              },
              "data": [
                {
                  "marker": {
                    "color": "rgba(255, 153, 51, 0.6)",
                    "line": {
                      "color": "rgba(255, 153, 51, 1.0)",
                      "width": 1
                    }
                  },
                  "name": "panic",
                  "orientation": "v",
                  "text": "",
                  "type": "bar",
                  "x": [
                    "ADHD rate",
                    "ASD rate",
                    "ED rate",
                    "Loneliness rate",
                    "MDD rate",
                    "OCD rate",
                    "PDD rate"
                  ],
                  "y": [
                    0,
                    0.5617977528089888,
                    0,
                    0,
                    0.5692307692307692,
                    0,
                    0
                  ]
                },
                {
                  "marker": {
                    "color": "rgba(55, 128, 191, 0.6)",
                    "line": {
                      "color": "rgba(55, 128, 191, 1.0)",
                      "width": 1
                    }
                  },
                  "name": "breathing.rapidly",
                  "orientation": "v",
                  "text": "",
                  "type": "bar",
                  "x": [
                    "ADHD rate",
                    "ASD rate",
                    "ED rate",
                    "Loneliness rate",
                    "MDD rate",
                    "OCD rate",
                    "PDD rate"
                  ],
                  "y": [
                    0,
                    0.6741573033707865,
                    1,
                    0,
                    0.4307692307692308,
                    0,
                    1
                  ]
                },
                {
                  "marker": {
                    "color": "rgba(50, 171, 96, 0.6)",
                    "line": {
                      "color": "rgba(50, 171, 96, 1.0)",
                      "width": 1
                    }
                  },
                  "name": "sweating",
                  "orientation": "v",
                  "text": "",
                  "type": "bar",
                  "x": [
                    "ADHD rate",
                    "ASD rate",
                    "ED rate",
                    "Loneliness rate",
                    "MDD rate",
                    "OCD rate",
                    "PDD rate"
                  ],
                  "y": [
                    0,
                    0.3595505617977528,
                    1,
                    0,
                    0.6307692307692307,
                    0,
                    0
                  ]
                },
                {
                  "marker": {
                    "color": "rgba(128, 0, 128, 0.6)",
                    "line": {
                      "color": "rgba(128, 0, 128, 1.0)",
                      "width": 1
                    }
                  },
                  "name": "trouble.in.concentration",
                  "orientation": "v",
                  "text": "",
                  "type": "bar",
                  "x": [
                    "ADHD rate",
                    "ASD rate",
                    "ED rate",
                    "Loneliness rate",
                    "MDD rate",
                    "OCD rate",
                    "PDD rate"
                  ],
                  "y": [
                    1,
                    0.20224719101123595,
                    0,
                    0,
                    0.06153846153846154,
                    0.0967741935483871,
                    0
                  ]
                },
                {
                  "marker": {
                    "color": "rgba(219, 64, 82, 0.6)",
                    "line": {
                      "color": "rgba(219, 64, 82, 1.0)",
                      "width": 1
                    }
                  },
                  "name": "trouble.sleeping",
                  "orientation": "v",
                  "text": "",
                  "type": "bar",
                  "x": [
                    "ADHD rate",
                    "ASD rate",
                    "ED rate",
                    "Loneliness rate",
                    "MDD rate",
                    "OCD rate",
                    "PDD rate"
                  ],
                  "y": [
                    0.5692307692307692,
                    0.5617977528089888,
                    0,
                    0,
                    0.9384615384615385,
                    1,
                    0.18333333333333332
                  ]
                },
                {
                  "marker": {
                    "color": "rgba(0, 128, 128, 0.6)",
                    "line": {
                      "color": "rgba(0, 128, 128, 1.0)",
                      "width": 1
                    }
                  },
                  "name": "trouble.with.work",
                  "orientation": "v",
                  "text": "",
                  "type": "bar",
                  "x": [
                    "ADHD rate",
                    "ASD rate",
                    "ED rate",
                    "Loneliness rate",
                    "MDD rate",
                    "OCD rate",
                    "PDD rate"
                  ],
                  "y": [
                    0,
                    0.0898876404494382,
                    0,
                    0.3111111111111111,
                    0.6307692307692307,
                    0.0967741935483871,
                    0
                  ]
                },
                {
                  "marker": {
                    "color": "rgba(255, 255, 51, 0.6)",
                    "line": {
                      "color": "rgba(255, 255, 51, 1.0)",
                      "width": 1
                    }
                  },
                  "name": "hopelessness",
                  "orientation": "v",
                  "text": "",
                  "type": "bar",
                  "x": [
                    "ADHD rate",
                    "ASD rate",
                    "ED rate",
                    "Loneliness rate",
                    "MDD rate",
                    "OCD rate",
                    "PDD rate"
                  ],
                  "y": [
                    0,
                    0,
                    0,
                    0,
                    0.9384615384615385,
                    0,
                    1
                  ]
                },
                {
                  "marker": {
                    "color": "rgba(128, 128, 0, 0.6)",
                    "line": {
                      "color": "rgba(128, 128, 0, 1.0)",
                      "width": 1
                    }
                  },
                  "name": "anger",
                  "orientation": "v",
                  "text": "",
                  "type": "bar",
                  "x": [
                    "ADHD rate",
                    "ASD rate",
                    "ED rate",
                    "Loneliness rate",
                    "MDD rate",
                    "OCD rate",
                    "PDD rate"
                  ],
                  "y": [
                    0,
                    0.797752808988764,
                    0,
                    0,
                    0.6307692307692307,
                    0,
                    0.8166666666666667
                  ]
                },
                {
                  "marker": {
                    "color": "rgba(251, 128, 114, 0.6)",
                    "line": {
                      "color": "rgba(251, 128, 114, 1.0)",
                      "width": 1
                    }
                  },
                  "name": "over.react",
                  "orientation": "v",
                  "text": "",
                  "type": "bar",
                  "x": [
                    "ADHD rate",
                    "ASD rate",
                    "ED rate",
                    "Loneliness rate",
                    "MDD rate",
                    "OCD rate",
                    "PDD rate"
                  ],
                  "y": [
                    0,
                    0.6404494382022472,
                    0,
                    0,
                    0.6307692307692307,
                    0.0967741935483871,
                    0
                  ]
                },
                {
                  "marker": {
                    "color": "rgba(128, 177, 211, 0.6)",
                    "line": {
                      "color": "rgba(128, 177, 211, 1.0)",
                      "width": 1
                    }
                  },
                  "name": "change.in.eating",
                  "orientation": "v",
                  "text": "",
                  "type": "bar",
                  "x": [
                    "ADHD rate",
                    "ASD rate",
                    "ED rate",
                    "Loneliness rate",
                    "MDD rate",
                    "OCD rate",
                    "PDD rate"
                  ],
                  "y": [
                    0,
                    0.3595505617977528,
                    1,
                    0,
                    0.5692307692307692,
                    0,
                    0
                  ]
                },
                {
                  "marker": {
                    "color": "rgba(128, 177, 211, 0.6)",
                    "line": {
                      "color": "rgba(128, 177, 211, 0.8999999999999999)",
                      "width": 1
                    }
                  },
                  "name": "suicidal.thought",
                  "orientation": "v",
                  "text": "",
                  "type": "bar",
                  "x": [
                    "ADHD rate",
                    "ASD rate",
                    "ED rate",
                    "Loneliness rate",
                    "MDD rate",
                    "OCD rate",
                    "PDD rate"
                  ],
                  "y": [
                    0,
                    0,
                    0,
                    0,
                    0.4307692307692308,
                    0,
                    1
                  ]
                },
                {
                  "marker": {
                    "color": "rgba(255, 153, 51, 0.6)",
                    "line": {
                      "color": "rgba(255, 153, 51, 0.8999999999999999)",
                      "width": 1
                    }
                  },
                  "name": "feeling.tired",
                  "orientation": "v",
                  "text": "",
                  "type": "bar",
                  "x": [
                    "ADHD rate",
                    "ASD rate",
                    "ED rate",
                    "Loneliness rate",
                    "MDD rate",
                    "OCD rate",
                    "PDD rate"
                  ],
                  "y": [
                    0,
                    0,
                    0,
                    0.8222222222222222,
                    0.6307692307692307,
                    1,
                    0
                  ]
                },
                {
                  "marker": {
                    "color": "rgba(55, 128, 191, 0.6)",
                    "line": {
                      "color": "rgba(55, 128, 191, 0.8999999999999999)",
                      "width": 1
                    }
                  },
                  "name": "close.friend",
                  "orientation": "v",
                  "text": "",
                  "type": "bar",
                  "x": [
                    "ADHD rate",
                    "ASD rate",
                    "ED rate",
                    "Loneliness rate",
                    "MDD rate",
                    "OCD rate",
                    "PDD rate"
                  ],
                  "y": [
                    0,
                    0,
                    1,
                    0.6222222222222222,
                    1,
                    1,
                    1
                  ]
                },
                {
                  "marker": {
                    "color": "rgba(50, 171, 96, 0.6)",
                    "line": {
                      "color": "rgba(50, 171, 96, 0.8999999999999999)",
                      "width": 1
                    }
                  },
                  "name": "social.media.addiction",
                  "orientation": "v",
                  "text": "",
                  "type": "bar",
                  "x": [
                    "ADHD rate",
                    "ASD rate",
                    "ED rate",
                    "Loneliness rate",
                    "MDD rate",
                    "OCD rate",
                    "PDD rate"
                  ],
                  "y": [
                    0,
                    0.797752808988764,
                    1,
                    1,
                    0.5692307692307692,
                    0.0967741935483871,
                    0
                  ]
                },
                {
                  "marker": {
                    "color": "rgba(128, 0, 128, 0.6)",
                    "line": {
                      "color": "rgba(128, 0, 128, 0.8999999999999999)",
                      "width": 1
                    }
                  },
                  "name": "weight.gain",
                  "orientation": "v",
                  "text": "",
                  "type": "bar",
                  "x": [
                    "ADHD rate",
                    "ASD rate",
                    "ED rate",
                    "Loneliness rate",
                    "MDD rate",
                    "OCD rate",
                    "PDD rate"
                  ],
                  "y": [
                    0,
                    0,
                    1,
                    0.8222222222222222,
                    0,
                    0,
                    0
                  ]
                },
                {
                  "marker": {
                    "color": "rgba(219, 64, 82, 0.6)",
                    "line": {
                      "color": "rgba(219, 64, 82, 0.8999999999999999)",
                      "width": 1
                    }
                  },
                  "name": "introvert",
                  "orientation": "v",
                  "text": "",
                  "type": "bar",
                  "x": [
                    "ADHD rate",
                    "ASD rate",
                    "ED rate",
                    "Loneliness rate",
                    "MDD rate",
                    "OCD rate",
                    "PDD rate"
                  ],
                  "y": [
                    0,
                    1,
                    0,
                    1,
                    0,
                    0,
                    0
                  ]
                },
                {
                  "marker": {
                    "color": "rgba(0, 128, 128, 0.6)",
                    "line": {
                      "color": "rgba(0, 128, 128, 0.8999999999999999)",
                      "width": 1
                    }
                  },
                  "name": "popping.up.stressful.memory",
                  "orientation": "v",
                  "text": "",
                  "type": "bar",
                  "x": [
                    "ADHD rate",
                    "ASD rate",
                    "ED rate",
                    "Loneliness rate",
                    "MDD rate",
                    "OCD rate",
                    "PDD rate"
                  ],
                  "y": [
                    0,
                    0,
                    0,
                    0,
                    1,
                    1,
                    1
                  ]
                },
                {
                  "marker": {
                    "color": "rgba(255, 255, 51, 0.6)",
                    "line": {
                      "color": "rgba(255, 255, 51, 0.8999999999999999)",
                      "width": 1
                    }
                  },
                  "name": "nightmares",
                  "orientation": "v",
                  "text": "",
                  "type": "bar",
                  "x": [
                    "ADHD rate",
                    "ASD rate",
                    "ED rate",
                    "Loneliness rate",
                    "MDD rate",
                    "OCD rate",
                    "PDD rate"
                  ],
                  "y": [
                    0,
                    0.797752808988764,
                    0,
                    0,
                    0.6307692307692307,
                    0,
                    0.8166666666666667
                  ]
                },
                {
                  "marker": {
                    "color": "rgba(128, 128, 0, 0.6)",
                    "line": {
                      "color": "rgba(128, 128, 0, 0.8999999999999999)",
                      "width": 1
                    }
                  },
                  "name": "avoids.people.or.activities",
                  "orientation": "v",
                  "text": "",
                  "type": "bar",
                  "x": [
                    "ADHD rate",
                    "ASD rate",
                    "ED rate",
                    "Loneliness rate",
                    "MDD rate",
                    "OCD rate",
                    "PDD rate"
                  ],
                  "y": [
                    0,
                    1,
                    0,
                    0,
                    0.06153846153846154,
                    0,
                    0
                  ]
                },
                {
                  "marker": {
                    "color": "rgba(251, 128, 114, 0.6)",
                    "line": {
                      "color": "rgba(251, 128, 114, 0.8999999999999999)",
                      "width": 1
                    }
                  },
                  "name": "feeling.negative",
                  "orientation": "v",
                  "text": "",
                  "type": "bar",
                  "x": [
                    "ADHD rate",
                    "ASD rate",
                    "ED rate",
                    "Loneliness rate",
                    "MDD rate",
                    "OCD rate",
                    "PDD rate"
                  ],
                  "y": [
                    0,
                    0,
                    1,
                    0,
                    1,
                    0,
                    1
                  ]
                },
                {
                  "marker": {
                    "color": "rgba(251, 128, 114, 0.6)",
                    "line": {
                      "color": "rgba(251, 128, 114, 0.7999999999999998)",
                      "width": 1
                    }
                  },
                  "name": "trouble.concentrating",
                  "orientation": "v",
                  "text": "",
                  "type": "bar",
                  "x": [
                    "ADHD rate",
                    "ASD rate",
                    "ED rate",
                    "Loneliness rate",
                    "MDD rate",
                    "OCD rate",
                    "PDD rate"
                  ],
                  "y": [
                    1,
                    0.20224719101123595,
                    0,
                    0,
                    0.5692307692307692,
                    0.0967741935483871,
                    0.8166666666666667
                  ]
                },
                {
                  "marker": {
                    "color": "rgba(128, 177, 211, 0.6)",
                    "line": {
                      "color": "rgba(128, 177, 211, 0.7999999999999998)",
                      "width": 1
                    }
                  },
                  "name": "blaming.yourself",
                  "orientation": "v",
                  "text": "",
                  "type": "bar",
                  "x": [
                    "ADHD rate",
                    "ASD rate",
                    "ED rate",
                    "Loneliness rate",
                    "MDD rate",
                    "OCD rate",
                    "PDD rate"
                  ],
                  "y": [
                    0,
                    0,
                    0,
                    0,
                    0.26153846153846155,
                    0,
                    1
                  ]
                },
                {
                  "marker": {
                    "color": "rgba(255, 153, 51, 0.6)",
                    "line": {
                      "color": "rgba(255, 153, 51, 0.7999999999999998)",
                      "width": 1
                    }
                  },
                  "name": "hallucinations",
                  "orientation": "v",
                  "text": "",
                  "type": "bar",
                  "x": [
                    "ADHD rate",
                    "ASD rate",
                    "ED rate",
                    "Loneliness rate",
                    "MDD rate",
                    "OCD rate",
                    "PDD rate"
                  ],
                  "y": [
                    0,
                    0,
                    0,
                    0,
                    0,
                    0.0967741935483871,
                    0
                  ]
                },
                {
                  "marker": {
                    "color": "rgba(55, 128, 191, 0.6)",
                    "line": {
                      "color": "rgba(55, 128, 191, 0.7999999999999998)",
                      "width": 1
                    }
                  },
                  "name": "repetitive.behaviour",
                  "orientation": "v",
                  "text": "",
                  "type": "bar",
                  "x": [
                    "ADHD rate",
                    "ASD rate",
                    "ED rate",
                    "Loneliness rate",
                    "MDD rate",
                    "OCD rate",
                    "PDD rate"
                  ],
                  "y": [
                    0.4307692307692308,
                    0.9325842696629213,
                    0,
                    0,
                    0,
                    1,
                    0
                  ]
                },
                {
                  "marker": {
                    "color": "rgba(50, 171, 96, 0.6)",
                    "line": {
                      "color": "rgba(50, 171, 96, 0.7999999999999998)",
                      "width": 1
                    }
                  },
                  "name": "seasonally",
                  "orientation": "v",
                  "text": "",
                  "type": "bar",
                  "x": [
                    "ADHD rate",
                    "ASD rate",
                    "ED rate",
                    "Loneliness rate",
                    "MDD rate",
                    "OCD rate",
                    "PDD rate"
                  ],
                  "y": [
                    0,
                    0,
                    0,
                    0,
                    0,
                    0,
                    0
                  ]
                },
                {
                  "marker": {
                    "color": "rgba(128, 0, 128, 0.6)",
                    "line": {
                      "color": "rgba(128, 0, 128, 0.7999999999999998)",
                      "width": 1
                    }
                  },
                  "name": "increased.energy",
                  "orientation": "v",
                  "text": "",
                  "type": "bar",
                  "x": [
                    "ADHD rate",
                    "ASD rate",
                    "ED rate",
                    "Loneliness rate",
                    "MDD rate",
                    "OCD rate",
                    "PDD rate"
                  ],
                  "y": [
                    1,
                    0.0898876404494382,
                    0,
                    0,
                    0,
                    1,
                    0
                  ]
                }
              ],
              "layout": {
                "legend": {
                  "bgcolor": "#F5F6F9",
                  "font": {
                    "color": "#4D5663"
                  }
                },
                "paper_bgcolor": "#F5F6F9",
                "plot_bgcolor": "#F5F6F9",
                "template": {
                  "data": {
                    "bar": [
                      {
                        "error_x": {
                          "color": "#2a3f5f"
                        },
                        "error_y": {
                          "color": "#2a3f5f"
                        },
                        "marker": {
                          "line": {
                            "color": "#E5ECF6",
                            "width": 0.5
                          },
                          "pattern": {
                            "fillmode": "overlay",
                            "size": 10,
                            "solidity": 0.2
                          }
                        },
                        "type": "bar"
                      }
                    ],
                    "barpolar": [
                      {
                        "marker": {
                          "line": {
                            "color": "#E5ECF6",
                            "width": 0.5
                          },
                          "pattern": {
                            "fillmode": "overlay",
                            "size": 10,
                            "solidity": 0.2
                          }
                        },
                        "type": "barpolar"
                      }
                    ],
                    "carpet": [
                      {
                        "aaxis": {
                          "endlinecolor": "#2a3f5f",
                          "gridcolor": "white",
                          "linecolor": "white",
                          "minorgridcolor": "white",
                          "startlinecolor": "#2a3f5f"
                        },
                        "baxis": {
                          "endlinecolor": "#2a3f5f",
                          "gridcolor": "white",
                          "linecolor": "white",
                          "minorgridcolor": "white",
                          "startlinecolor": "#2a3f5f"
                        },
                        "type": "carpet"
                      }
                    ],
                    "choropleth": [
                      {
                        "colorbar": {
                          "outlinewidth": 0,
                          "ticks": ""
                        },
                        "type": "choropleth"
                      }
                    ],
                    "contour": [
                      {
                        "colorbar": {
                          "outlinewidth": 0,
                          "ticks": ""
                        },
                        "colorscale": [
                          [
                            0,
                            "#0d0887"
                          ],
                          [
                            0.1111111111111111,
                            "#46039f"
                          ],
                          [
                            0.2222222222222222,
                            "#7201a8"
                          ],
                          [
                            0.3333333333333333,
                            "#9c179e"
                          ],
                          [
                            0.4444444444444444,
                            "#bd3786"
                          ],
                          [
                            0.5555555555555556,
                            "#d8576b"
                          ],
                          [
                            0.6666666666666666,
                            "#ed7953"
                          ],
                          [
                            0.7777777777777778,
                            "#fb9f3a"
                          ],
                          [
                            0.8888888888888888,
                            "#fdca26"
                          ],
                          [
                            1,
                            "#f0f921"
                          ]
                        ],
                        "type": "contour"
                      }
                    ],
                    "contourcarpet": [
                      {
                        "colorbar": {
                          "outlinewidth": 0,
                          "ticks": ""
                        },
                        "type": "contourcarpet"
                      }
                    ],
                    "heatmap": [
                      {
                        "colorbar": {
                          "outlinewidth": 0,
                          "ticks": ""
                        },
                        "colorscale": [
                          [
                            0,
                            "#0d0887"
                          ],
                          [
                            0.1111111111111111,
                            "#46039f"
                          ],
                          [
                            0.2222222222222222,
                            "#7201a8"
                          ],
                          [
                            0.3333333333333333,
                            "#9c179e"
                          ],
                          [
                            0.4444444444444444,
                            "#bd3786"
                          ],
                          [
                            0.5555555555555556,
                            "#d8576b"
                          ],
                          [
                            0.6666666666666666,
                            "#ed7953"
                          ],
                          [
                            0.7777777777777778,
                            "#fb9f3a"
                          ],
                          [
                            0.8888888888888888,
                            "#fdca26"
                          ],
                          [
                            1,
                            "#f0f921"
                          ]
                        ],
                        "type": "heatmap"
                      }
                    ],
                    "heatmapgl": [
                      {
                        "colorbar": {
                          "outlinewidth": 0,
                          "ticks": ""
                        },
                        "colorscale": [
                          [
                            0,
                            "#0d0887"
                          ],
                          [
                            0.1111111111111111,
                            "#46039f"
                          ],
                          [
                            0.2222222222222222,
                            "#7201a8"
                          ],
                          [
                            0.3333333333333333,
                            "#9c179e"
                          ],
                          [
                            0.4444444444444444,
                            "#bd3786"
                          ],
                          [
                            0.5555555555555556,
                            "#d8576b"
                          ],
                          [
                            0.6666666666666666,
                            "#ed7953"
                          ],
                          [
                            0.7777777777777778,
                            "#fb9f3a"
                          ],
                          [
                            0.8888888888888888,
                            "#fdca26"
                          ],
                          [
                            1,
                            "#f0f921"
                          ]
                        ],
                        "type": "heatmapgl"
                      }
                    ],
                    "histogram": [
                      {
                        "marker": {
                          "pattern": {
                            "fillmode": "overlay",
                            "size": 10,
                            "solidity": 0.2
                          }
                        },
                        "type": "histogram"
                      }
                    ],
                    "histogram2d": [
                      {
                        "colorbar": {
                          "outlinewidth": 0,
                          "ticks": ""
                        },
                        "colorscale": [
                          [
                            0,
                            "#0d0887"
                          ],
                          [
                            0.1111111111111111,
                            "#46039f"
                          ],
                          [
                            0.2222222222222222,
                            "#7201a8"
                          ],
                          [
                            0.3333333333333333,
                            "#9c179e"
                          ],
                          [
                            0.4444444444444444,
                            "#bd3786"
                          ],
                          [
                            0.5555555555555556,
                            "#d8576b"
                          ],
                          [
                            0.6666666666666666,
                            "#ed7953"
                          ],
                          [
                            0.7777777777777778,
                            "#fb9f3a"
                          ],
                          [
                            0.8888888888888888,
                            "#fdca26"
                          ],
                          [
                            1,
                            "#f0f921"
                          ]
                        ],
                        "type": "histogram2d"
                      }
                    ],
                    "histogram2dcontour": [
                      {
                        "colorbar": {
                          "outlinewidth": 0,
                          "ticks": ""
                        },
                        "colorscale": [
                          [
                            0,
                            "#0d0887"
                          ],
                          [
                            0.1111111111111111,
                            "#46039f"
                          ],
                          [
                            0.2222222222222222,
                            "#7201a8"
                          ],
                          [
                            0.3333333333333333,
                            "#9c179e"
                          ],
                          [
                            0.4444444444444444,
                            "#bd3786"
                          ],
                          [
                            0.5555555555555556,
                            "#d8576b"
                          ],
                          [
                            0.6666666666666666,
                            "#ed7953"
                          ],
                          [
                            0.7777777777777778,
                            "#fb9f3a"
                          ],
                          [
                            0.8888888888888888,
                            "#fdca26"
                          ],
                          [
                            1,
                            "#f0f921"
                          ]
                        ],
                        "type": "histogram2dcontour"
                      }
                    ],
                    "mesh3d": [
                      {
                        "colorbar": {
                          "outlinewidth": 0,
                          "ticks": ""
                        },
                        "type": "mesh3d"
                      }
                    ],
                    "parcoords": [
                      {
                        "line": {
                          "colorbar": {
                            "outlinewidth": 0,
                            "ticks": ""
                          }
                        },
                        "type": "parcoords"
                      }
                    ],
                    "pie": [
                      {
                        "automargin": true,
                        "type": "pie"
                      }
                    ],
                    "scatter": [
                      {
                        "fillpattern": {
                          "fillmode": "overlay",
                          "size": 10,
                          "solidity": 0.2
                        },
                        "type": "scatter"
                      }
                    ],
                    "scatter3d": [
                      {
                        "line": {
                          "colorbar": {
                            "outlinewidth": 0,
                            "ticks": ""
                          }
                        },
                        "marker": {
                          "colorbar": {
                            "outlinewidth": 0,
                            "ticks": ""
                          }
                        },
                        "type": "scatter3d"
                      }
                    ],
                    "scattercarpet": [
                      {
                        "marker": {
                          "colorbar": {
                            "outlinewidth": 0,
                            "ticks": ""
                          }
                        },
                        "type": "scattercarpet"
                      }
                    ],
                    "scattergeo": [
                      {
                        "marker": {
                          "colorbar": {
                            "outlinewidth": 0,
                            "ticks": ""
                          }
                        },
                        "type": "scattergeo"
                      }
                    ],
                    "scattergl": [
                      {
                        "marker": {
                          "colorbar": {
                            "outlinewidth": 0,
                            "ticks": ""
                          }
                        },
                        "type": "scattergl"
                      }
                    ],
                    "scattermapbox": [
                      {
                        "marker": {
                          "colorbar": {
                            "outlinewidth": 0,
                            "ticks": ""
                          }
                        },
                        "type": "scattermapbox"
                      }
                    ],
                    "scatterpolar": [
                      {
                        "marker": {
                          "colorbar": {
                            "outlinewidth": 0,
                            "ticks": ""
                          }
                        },
                        "type": "scatterpolar"
                      }
                    ],
                    "scatterpolargl": [
                      {
                        "marker": {
                          "colorbar": {
                            "outlinewidth": 0,
                            "ticks": ""
                          }
                        },
                        "type": "scatterpolargl"
                      }
                    ],
                    "scatterternary": [
                      {
                        "marker": {
                          "colorbar": {
                            "outlinewidth": 0,
                            "ticks": ""
                          }
                        },
                        "type": "scatterternary"
                      }
                    ],
                    "surface": [
                      {
                        "colorbar": {
                          "outlinewidth": 0,
                          "ticks": ""
                        },
                        "colorscale": [
                          [
                            0,
                            "#0d0887"
                          ],
                          [
                            0.1111111111111111,
                            "#46039f"
                          ],
                          [
                            0.2222222222222222,
                            "#7201a8"
                          ],
                          [
                            0.3333333333333333,
                            "#9c179e"
                          ],
                          [
                            0.4444444444444444,
                            "#bd3786"
                          ],
                          [
                            0.5555555555555556,
                            "#d8576b"
                          ],
                          [
                            0.6666666666666666,
                            "#ed7953"
                          ],
                          [
                            0.7777777777777778,
                            "#fb9f3a"
                          ],
                          [
                            0.8888888888888888,
                            "#fdca26"
                          ],
                          [
                            1,
                            "#f0f921"
                          ]
                        ],
                        "type": "surface"
                      }
                    ],
                    "table": [
                      {
                        "cells": {
                          "fill": {
                            "color": "#EBF0F8"
                          },
                          "line": {
                            "color": "white"
                          }
                        },
                        "header": {
                          "fill": {
                            "color": "#C8D4E3"
                          },
                          "line": {
                            "color": "white"
                          }
                        },
                        "type": "table"
                      }
                    ]
                  },
                  "layout": {
                    "annotationdefaults": {
                      "arrowcolor": "#2a3f5f",
                      "arrowhead": 0,
                      "arrowwidth": 1
                    },
                    "autotypenumbers": "strict",
                    "coloraxis": {
                      "colorbar": {
                        "outlinewidth": 0,
                        "ticks": ""
                      }
                    },
                    "colorscale": {
                      "diverging": [
                        [
                          0,
                          "#8e0152"
                        ],
                        [
                          0.1,
                          "#c51b7d"
                        ],
                        [
                          0.2,
                          "#de77ae"
                        ],
                        [
                          0.3,
                          "#f1b6da"
                        ],
                        [
                          0.4,
                          "#fde0ef"
                        ],
                        [
                          0.5,
                          "#f7f7f7"
                        ],
                        [
                          0.6,
                          "#e6f5d0"
                        ],
                        [
                          0.7,
                          "#b8e186"
                        ],
                        [
                          0.8,
                          "#7fbc41"
                        ],
                        [
                          0.9,
                          "#4d9221"
                        ],
                        [
                          1,
                          "#276419"
                        ]
                      ],
                      "sequential": [
                        [
                          0,
                          "#0d0887"
                        ],
                        [
                          0.1111111111111111,
                          "#46039f"
                        ],
                        [
                          0.2222222222222222,
                          "#7201a8"
                        ],
                        [
                          0.3333333333333333,
                          "#9c179e"
                        ],
                        [
                          0.4444444444444444,
                          "#bd3786"
                        ],
                        [
                          0.5555555555555556,
                          "#d8576b"
                        ],
                        [
                          0.6666666666666666,
                          "#ed7953"
                        ],
                        [
                          0.7777777777777778,
                          "#fb9f3a"
                        ],
                        [
                          0.8888888888888888,
                          "#fdca26"
                        ],
                        [
                          1,
                          "#f0f921"
                        ]
                      ],
                      "sequentialminus": [
                        [
                          0,
                          "#0d0887"
                        ],
                        [
                          0.1111111111111111,
                          "#46039f"
                        ],
                        [
                          0.2222222222222222,
                          "#7201a8"
                        ],
                        [
                          0.3333333333333333,
                          "#9c179e"
                        ],
                        [
                          0.4444444444444444,
                          "#bd3786"
                        ],
                        [
                          0.5555555555555556,
                          "#d8576b"
                        ],
                        [
                          0.6666666666666666,
                          "#ed7953"
                        ],
                        [
                          0.7777777777777778,
                          "#fb9f3a"
                        ],
                        [
                          0.8888888888888888,
                          "#fdca26"
                        ],
                        [
                          1,
                          "#f0f921"
                        ]
                      ]
                    },
                    "colorway": [
                      "#636efa",
                      "#EF553B",
                      "#00cc96",
                      "#ab63fa",
                      "#FFA15A",
                      "#19d3f3",
                      "#FF6692",
                      "#B6E880",
                      "#FF97FF",
                      "#FECB52"
                    ],
                    "font": {
                      "color": "#2a3f5f"
                    },
                    "geo": {
                      "bgcolor": "white",
                      "lakecolor": "white",
                      "landcolor": "#E5ECF6",
                      "showlakes": true,
                      "showland": true,
                      "subunitcolor": "white"
                    },
                    "hoverlabel": {
                      "align": "left"
                    },
                    "hovermode": "closest",
                    "mapbox": {
                      "style": "light"
                    },
                    "paper_bgcolor": "white",
                    "plot_bgcolor": "#E5ECF6",
                    "polar": {
                      "angularaxis": {
                        "gridcolor": "white",
                        "linecolor": "white",
                        "ticks": ""
                      },
                      "bgcolor": "#E5ECF6",
                      "radialaxis": {
                        "gridcolor": "white",
                        "linecolor": "white",
                        "ticks": ""
                      }
                    },
                    "scene": {
                      "xaxis": {
                        "backgroundcolor": "#E5ECF6",
                        "gridcolor": "white",
                        "gridwidth": 2,
                        "linecolor": "white",
                        "showbackground": true,
                        "ticks": "",
                        "zerolinecolor": "white"
                      },
                      "yaxis": {
                        "backgroundcolor": "#E5ECF6",
                        "gridcolor": "white",
                        "gridwidth": 2,
                        "linecolor": "white",
                        "showbackground": true,
                        "ticks": "",
                        "zerolinecolor": "white"
                      },
                      "zaxis": {
                        "backgroundcolor": "#E5ECF6",
                        "gridcolor": "white",
                        "gridwidth": 2,
                        "linecolor": "white",
                        "showbackground": true,
                        "ticks": "",
                        "zerolinecolor": "white"
                      }
                    },
                    "shapedefaults": {
                      "line": {
                        "color": "#2a3f5f"
                      }
                    },
                    "ternary": {
                      "aaxis": {
                        "gridcolor": "white",
                        "linecolor": "white",
                        "ticks": ""
                      },
                      "baxis": {
                        "gridcolor": "white",
                        "linecolor": "white",
                        "ticks": ""
                      },
                      "bgcolor": "#E5ECF6",
                      "caxis": {
                        "gridcolor": "white",
                        "linecolor": "white",
                        "ticks": ""
                      }
                    },
                    "title": {
                      "x": 0.05
                    },
                    "xaxis": {
                      "automargin": true,
                      "gridcolor": "white",
                      "linecolor": "white",
                      "ticks": "",
                      "title": {
                        "standoff": 15
                      },
                      "zerolinecolor": "white",
                      "zerolinewidth": 2
                    },
                    "yaxis": {
                      "automargin": true,
                      "gridcolor": "white",
                      "linecolor": "white",
                      "ticks": "",
                      "title": {
                        "standoff": 15
                      },
                      "zerolinecolor": "white",
                      "zerolinewidth": 2
                    }
                  }
                },
                "title": {
                  "font": {
                    "color": "#4D5663"
                  },
                  "text": "Gejala yang berkaitan dengn Gangguan"
                },
                "xaxis": {
                  "gridcolor": "#E1E5ED",
                  "showgrid": true,
                  "tickfont": {
                    "color": "#4D5663"
                  },
                  "title": {
                    "font": {
                      "color": "#4D5663"
                    },
                    "text": ""
                  },
                  "zerolinecolor": "#E1E5ED"
                },
                "yaxis": {
                  "gridcolor": "#E1E5ED",
                  "showgrid": true,
                  "tickfont": {
                    "color": "#4D5663"
                  },
                  "title": {
                    "font": {
                      "color": "#4D5663"
                    },
                    "text": ""
                  },
                  "zerolinecolor": "#E1E5ED"
                }
              }
            },
            "text/html": [
              "<div>                            <div id=\"e774c1cc-8edd-4598-a08b-84334ef2e2ce\" class=\"plotly-graph-div\" style=\"height:525px; width:100%;\"></div>            <script type=\"text/javascript\">                require([\"plotly\"], function(Plotly) {                    window.PLOTLYENV=window.PLOTLYENV || {};\n",
              "                    window.PLOTLYENV.BASE_URL='https://plot.ly';                                    if (document.getElementById(\"e774c1cc-8edd-4598-a08b-84334ef2e2ce\")) {                    Plotly.newPlot(                        \"e774c1cc-8edd-4598-a08b-84334ef2e2ce\",                        [{\"marker\":{\"color\":\"rgba(255, 153, 51, 0.6)\",\"line\":{\"color\":\"rgba(255, 153, 51, 1.0)\",\"width\":1}},\"name\":\"panic\",\"orientation\":\"v\",\"text\":\"\",\"x\":[\"ADHD rate\",\"ASD rate\",\"ED rate\",\"Loneliness rate\",\"MDD rate\",\"OCD rate\",\"PDD rate\"],\"y\":[0.0,0.5617977528089888,0.0,0.0,0.5692307692307692,0.0,0.0],\"type\":\"bar\"},{\"marker\":{\"color\":\"rgba(55, 128, 191, 0.6)\",\"line\":{\"color\":\"rgba(55, 128, 191, 1.0)\",\"width\":1}},\"name\":\"breathing.rapidly\",\"orientation\":\"v\",\"text\":\"\",\"x\":[\"ADHD rate\",\"ASD rate\",\"ED rate\",\"Loneliness rate\",\"MDD rate\",\"OCD rate\",\"PDD rate\"],\"y\":[0.0,0.6741573033707865,1.0,0.0,0.4307692307692308,0.0,1.0],\"type\":\"bar\"},{\"marker\":{\"color\":\"rgba(50, 171, 96, 0.6)\",\"line\":{\"color\":\"rgba(50, 171, 96, 1.0)\",\"width\":1}},\"name\":\"sweating\",\"orientation\":\"v\",\"text\":\"\",\"x\":[\"ADHD rate\",\"ASD rate\",\"ED rate\",\"Loneliness rate\",\"MDD rate\",\"OCD rate\",\"PDD rate\"],\"y\":[0.0,0.3595505617977528,1.0,0.0,0.6307692307692307,0.0,0.0],\"type\":\"bar\"},{\"marker\":{\"color\":\"rgba(128, 0, 128, 0.6)\",\"line\":{\"color\":\"rgba(128, 0, 128, 1.0)\",\"width\":1}},\"name\":\"trouble.in.concentration\",\"orientation\":\"v\",\"text\":\"\",\"x\":[\"ADHD rate\",\"ASD rate\",\"ED rate\",\"Loneliness rate\",\"MDD rate\",\"OCD rate\",\"PDD rate\"],\"y\":[1.0,0.20224719101123595,0.0,0.0,0.06153846153846154,0.0967741935483871,0.0],\"type\":\"bar\"},{\"marker\":{\"color\":\"rgba(219, 64, 82, 0.6)\",\"line\":{\"color\":\"rgba(219, 64, 82, 1.0)\",\"width\":1}},\"name\":\"trouble.sleeping\",\"orientation\":\"v\",\"text\":\"\",\"x\":[\"ADHD rate\",\"ASD rate\",\"ED rate\",\"Loneliness rate\",\"MDD rate\",\"OCD rate\",\"PDD rate\"],\"y\":[0.5692307692307692,0.5617977528089888,0.0,0.0,0.9384615384615385,1.0,0.18333333333333332],\"type\":\"bar\"},{\"marker\":{\"color\":\"rgba(0, 128, 128, 0.6)\",\"line\":{\"color\":\"rgba(0, 128, 128, 1.0)\",\"width\":1}},\"name\":\"trouble.with.work\",\"orientation\":\"v\",\"text\":\"\",\"x\":[\"ADHD rate\",\"ASD rate\",\"ED rate\",\"Loneliness rate\",\"MDD rate\",\"OCD rate\",\"PDD rate\"],\"y\":[0.0,0.0898876404494382,0.0,0.3111111111111111,0.6307692307692307,0.0967741935483871,0.0],\"type\":\"bar\"},{\"marker\":{\"color\":\"rgba(255, 255, 51, 0.6)\",\"line\":{\"color\":\"rgba(255, 255, 51, 1.0)\",\"width\":1}},\"name\":\"hopelessness\",\"orientation\":\"v\",\"text\":\"\",\"x\":[\"ADHD rate\",\"ASD rate\",\"ED rate\",\"Loneliness rate\",\"MDD rate\",\"OCD rate\",\"PDD rate\"],\"y\":[0.0,0.0,0.0,0.0,0.9384615384615385,0.0,1.0],\"type\":\"bar\"},{\"marker\":{\"color\":\"rgba(128, 128, 0, 0.6)\",\"line\":{\"color\":\"rgba(128, 128, 0, 1.0)\",\"width\":1}},\"name\":\"anger\",\"orientation\":\"v\",\"text\":\"\",\"x\":[\"ADHD rate\",\"ASD rate\",\"ED rate\",\"Loneliness rate\",\"MDD rate\",\"OCD rate\",\"PDD rate\"],\"y\":[0.0,0.797752808988764,0.0,0.0,0.6307692307692307,0.0,0.8166666666666667],\"type\":\"bar\"},{\"marker\":{\"color\":\"rgba(251, 128, 114, 0.6)\",\"line\":{\"color\":\"rgba(251, 128, 114, 1.0)\",\"width\":1}},\"name\":\"over.react\",\"orientation\":\"v\",\"text\":\"\",\"x\":[\"ADHD rate\",\"ASD rate\",\"ED rate\",\"Loneliness rate\",\"MDD rate\",\"OCD rate\",\"PDD rate\"],\"y\":[0.0,0.6404494382022472,0.0,0.0,0.6307692307692307,0.0967741935483871,0.0],\"type\":\"bar\"},{\"marker\":{\"color\":\"rgba(128, 177, 211, 0.6)\",\"line\":{\"color\":\"rgba(128, 177, 211, 1.0)\",\"width\":1}},\"name\":\"change.in.eating\",\"orientation\":\"v\",\"text\":\"\",\"x\":[\"ADHD rate\",\"ASD rate\",\"ED rate\",\"Loneliness rate\",\"MDD rate\",\"OCD rate\",\"PDD rate\"],\"y\":[0.0,0.3595505617977528,1.0,0.0,0.5692307692307692,0.0,0.0],\"type\":\"bar\"},{\"marker\":{\"color\":\"rgba(128, 177, 211, 0.6)\",\"line\":{\"color\":\"rgba(128, 177, 211, 0.8999999999999999)\",\"width\":1}},\"name\":\"suicidal.thought\",\"orientation\":\"v\",\"text\":\"\",\"x\":[\"ADHD rate\",\"ASD rate\",\"ED rate\",\"Loneliness rate\",\"MDD rate\",\"OCD rate\",\"PDD rate\"],\"y\":[0.0,0.0,0.0,0.0,0.4307692307692308,0.0,1.0],\"type\":\"bar\"},{\"marker\":{\"color\":\"rgba(255, 153, 51, 0.6)\",\"line\":{\"color\":\"rgba(255, 153, 51, 0.8999999999999999)\",\"width\":1}},\"name\":\"feeling.tired\",\"orientation\":\"v\",\"text\":\"\",\"x\":[\"ADHD rate\",\"ASD rate\",\"ED rate\",\"Loneliness rate\",\"MDD rate\",\"OCD rate\",\"PDD rate\"],\"y\":[0.0,0.0,0.0,0.8222222222222222,0.6307692307692307,1.0,0.0],\"type\":\"bar\"},{\"marker\":{\"color\":\"rgba(55, 128, 191, 0.6)\",\"line\":{\"color\":\"rgba(55, 128, 191, 0.8999999999999999)\",\"width\":1}},\"name\":\"close.friend\",\"orientation\":\"v\",\"text\":\"\",\"x\":[\"ADHD rate\",\"ASD rate\",\"ED rate\",\"Loneliness rate\",\"MDD rate\",\"OCD rate\",\"PDD rate\"],\"y\":[0.0,0.0,1.0,0.6222222222222222,1.0,1.0,1.0],\"type\":\"bar\"},{\"marker\":{\"color\":\"rgba(50, 171, 96, 0.6)\",\"line\":{\"color\":\"rgba(50, 171, 96, 0.8999999999999999)\",\"width\":1}},\"name\":\"social.media.addiction\",\"orientation\":\"v\",\"text\":\"\",\"x\":[\"ADHD rate\",\"ASD rate\",\"ED rate\",\"Loneliness rate\",\"MDD rate\",\"OCD rate\",\"PDD rate\"],\"y\":[0.0,0.797752808988764,1.0,1.0,0.5692307692307692,0.0967741935483871,0.0],\"type\":\"bar\"},{\"marker\":{\"color\":\"rgba(128, 0, 128, 0.6)\",\"line\":{\"color\":\"rgba(128, 0, 128, 0.8999999999999999)\",\"width\":1}},\"name\":\"weight.gain\",\"orientation\":\"v\",\"text\":\"\",\"x\":[\"ADHD rate\",\"ASD rate\",\"ED rate\",\"Loneliness rate\",\"MDD rate\",\"OCD rate\",\"PDD rate\"],\"y\":[0.0,0.0,1.0,0.8222222222222222,0.0,0.0,0.0],\"type\":\"bar\"},{\"marker\":{\"color\":\"rgba(219, 64, 82, 0.6)\",\"line\":{\"color\":\"rgba(219, 64, 82, 0.8999999999999999)\",\"width\":1}},\"name\":\"introvert\",\"orientation\":\"v\",\"text\":\"\",\"x\":[\"ADHD rate\",\"ASD rate\",\"ED rate\",\"Loneliness rate\",\"MDD rate\",\"OCD rate\",\"PDD rate\"],\"y\":[0.0,1.0,0.0,1.0,0.0,0.0,0.0],\"type\":\"bar\"},{\"marker\":{\"color\":\"rgba(0, 128, 128, 0.6)\",\"line\":{\"color\":\"rgba(0, 128, 128, 0.8999999999999999)\",\"width\":1}},\"name\":\"popping.up.stressful.memory\",\"orientation\":\"v\",\"text\":\"\",\"x\":[\"ADHD rate\",\"ASD rate\",\"ED rate\",\"Loneliness rate\",\"MDD rate\",\"OCD rate\",\"PDD rate\"],\"y\":[0.0,0.0,0.0,0.0,1.0,1.0,1.0],\"type\":\"bar\"},{\"marker\":{\"color\":\"rgba(255, 255, 51, 0.6)\",\"line\":{\"color\":\"rgba(255, 255, 51, 0.8999999999999999)\",\"width\":1}},\"name\":\"nightmares\",\"orientation\":\"v\",\"text\":\"\",\"x\":[\"ADHD rate\",\"ASD rate\",\"ED rate\",\"Loneliness rate\",\"MDD rate\",\"OCD rate\",\"PDD rate\"],\"y\":[0.0,0.797752808988764,0.0,0.0,0.6307692307692307,0.0,0.8166666666666667],\"type\":\"bar\"},{\"marker\":{\"color\":\"rgba(128, 128, 0, 0.6)\",\"line\":{\"color\":\"rgba(128, 128, 0, 0.8999999999999999)\",\"width\":1}},\"name\":\"avoids.people.or.activities\",\"orientation\":\"v\",\"text\":\"\",\"x\":[\"ADHD rate\",\"ASD rate\",\"ED rate\",\"Loneliness rate\",\"MDD rate\",\"OCD rate\",\"PDD rate\"],\"y\":[0.0,1.0,0.0,0.0,0.06153846153846154,0.0,0.0],\"type\":\"bar\"},{\"marker\":{\"color\":\"rgba(251, 128, 114, 0.6)\",\"line\":{\"color\":\"rgba(251, 128, 114, 0.8999999999999999)\",\"width\":1}},\"name\":\"feeling.negative\",\"orientation\":\"v\",\"text\":\"\",\"x\":[\"ADHD rate\",\"ASD rate\",\"ED rate\",\"Loneliness rate\",\"MDD rate\",\"OCD rate\",\"PDD rate\"],\"y\":[0.0,0.0,1.0,0.0,1.0,0.0,1.0],\"type\":\"bar\"},{\"marker\":{\"color\":\"rgba(251, 128, 114, 0.6)\",\"line\":{\"color\":\"rgba(251, 128, 114, 0.7999999999999998)\",\"width\":1}},\"name\":\"trouble.concentrating\",\"orientation\":\"v\",\"text\":\"\",\"x\":[\"ADHD rate\",\"ASD rate\",\"ED rate\",\"Loneliness rate\",\"MDD rate\",\"OCD rate\",\"PDD rate\"],\"y\":[1.0,0.20224719101123595,0.0,0.0,0.5692307692307692,0.0967741935483871,0.8166666666666667],\"type\":\"bar\"},{\"marker\":{\"color\":\"rgba(128, 177, 211, 0.6)\",\"line\":{\"color\":\"rgba(128, 177, 211, 0.7999999999999998)\",\"width\":1}},\"name\":\"blaming.yourself\",\"orientation\":\"v\",\"text\":\"\",\"x\":[\"ADHD rate\",\"ASD rate\",\"ED rate\",\"Loneliness rate\",\"MDD rate\",\"OCD rate\",\"PDD rate\"],\"y\":[0.0,0.0,0.0,0.0,0.26153846153846155,0.0,1.0],\"type\":\"bar\"},{\"marker\":{\"color\":\"rgba(255, 153, 51, 0.6)\",\"line\":{\"color\":\"rgba(255, 153, 51, 0.7999999999999998)\",\"width\":1}},\"name\":\"hallucinations\",\"orientation\":\"v\",\"text\":\"\",\"x\":[\"ADHD rate\",\"ASD rate\",\"ED rate\",\"Loneliness rate\",\"MDD rate\",\"OCD rate\",\"PDD rate\"],\"y\":[0.0,0.0,0.0,0.0,0.0,0.0967741935483871,0.0],\"type\":\"bar\"},{\"marker\":{\"color\":\"rgba(55, 128, 191, 0.6)\",\"line\":{\"color\":\"rgba(55, 128, 191, 0.7999999999999998)\",\"width\":1}},\"name\":\"repetitive.behaviour\",\"orientation\":\"v\",\"text\":\"\",\"x\":[\"ADHD rate\",\"ASD rate\",\"ED rate\",\"Loneliness rate\",\"MDD rate\",\"OCD rate\",\"PDD rate\"],\"y\":[0.4307692307692308,0.9325842696629213,0.0,0.0,0.0,1.0,0.0],\"type\":\"bar\"},{\"marker\":{\"color\":\"rgba(50, 171, 96, 0.6)\",\"line\":{\"color\":\"rgba(50, 171, 96, 0.7999999999999998)\",\"width\":1}},\"name\":\"seasonally\",\"orientation\":\"v\",\"text\":\"\",\"x\":[\"ADHD rate\",\"ASD rate\",\"ED rate\",\"Loneliness rate\",\"MDD rate\",\"OCD rate\",\"PDD rate\"],\"y\":[0.0,0.0,0.0,0.0,0.0,0.0,0.0],\"type\":\"bar\"},{\"marker\":{\"color\":\"rgba(128, 0, 128, 0.6)\",\"line\":{\"color\":\"rgba(128, 0, 128, 0.7999999999999998)\",\"width\":1}},\"name\":\"increased.energy\",\"orientation\":\"v\",\"text\":\"\",\"x\":[\"ADHD rate\",\"ASD rate\",\"ED rate\",\"Loneliness rate\",\"MDD rate\",\"OCD rate\",\"PDD rate\"],\"y\":[1.0,0.0898876404494382,0.0,0.0,0.0,1.0,0.0],\"type\":\"bar\"}],                        {\"legend\":{\"bgcolor\":\"#F5F6F9\",\"font\":{\"color\":\"#4D5663\"}},\"paper_bgcolor\":\"#F5F6F9\",\"plot_bgcolor\":\"#F5F6F9\",\"template\":{\"data\":{\"barpolar\":[{\"marker\":{\"line\":{\"color\":\"#E5ECF6\",\"width\":0.5},\"pattern\":{\"fillmode\":\"overlay\",\"size\":10,\"solidity\":0.2}},\"type\":\"barpolar\"}],\"bar\":[{\"error_x\":{\"color\":\"#2a3f5f\"},\"error_y\":{\"color\":\"#2a3f5f\"},\"marker\":{\"line\":{\"color\":\"#E5ECF6\",\"width\":0.5},\"pattern\":{\"fillmode\":\"overlay\",\"size\":10,\"solidity\":0.2}},\"type\":\"bar\"}],\"carpet\":[{\"aaxis\":{\"endlinecolor\":\"#2a3f5f\",\"gridcolor\":\"white\",\"linecolor\":\"white\",\"minorgridcolor\":\"white\",\"startlinecolor\":\"#2a3f5f\"},\"baxis\":{\"endlinecolor\":\"#2a3f5f\",\"gridcolor\":\"white\",\"linecolor\":\"white\",\"minorgridcolor\":\"white\",\"startlinecolor\":\"#2a3f5f\"},\"type\":\"carpet\"}],\"choropleth\":[{\"colorbar\":{\"outlinewidth\":0,\"ticks\":\"\"},\"type\":\"choropleth\"}],\"contourcarpet\":[{\"colorbar\":{\"outlinewidth\":0,\"ticks\":\"\"},\"type\":\"contourcarpet\"}],\"contour\":[{\"colorbar\":{\"outlinewidth\":0,\"ticks\":\"\"},\"colorscale\":[[0.0,\"#0d0887\"],[0.1111111111111111,\"#46039f\"],[0.2222222222222222,\"#7201a8\"],[0.3333333333333333,\"#9c179e\"],[0.4444444444444444,\"#bd3786\"],[0.5555555555555556,\"#d8576b\"],[0.6666666666666666,\"#ed7953\"],[0.7777777777777778,\"#fb9f3a\"],[0.8888888888888888,\"#fdca26\"],[1.0,\"#f0f921\"]],\"type\":\"contour\"}],\"heatmapgl\":[{\"colorbar\":{\"outlinewidth\":0,\"ticks\":\"\"},\"colorscale\":[[0.0,\"#0d0887\"],[0.1111111111111111,\"#46039f\"],[0.2222222222222222,\"#7201a8\"],[0.3333333333333333,\"#9c179e\"],[0.4444444444444444,\"#bd3786\"],[0.5555555555555556,\"#d8576b\"],[0.6666666666666666,\"#ed7953\"],[0.7777777777777778,\"#fb9f3a\"],[0.8888888888888888,\"#fdca26\"],[1.0,\"#f0f921\"]],\"type\":\"heatmapgl\"}],\"heatmap\":[{\"colorbar\":{\"outlinewidth\":0,\"ticks\":\"\"},\"colorscale\":[[0.0,\"#0d0887\"],[0.1111111111111111,\"#46039f\"],[0.2222222222222222,\"#7201a8\"],[0.3333333333333333,\"#9c179e\"],[0.4444444444444444,\"#bd3786\"],[0.5555555555555556,\"#d8576b\"],[0.6666666666666666,\"#ed7953\"],[0.7777777777777778,\"#fb9f3a\"],[0.8888888888888888,\"#fdca26\"],[1.0,\"#f0f921\"]],\"type\":\"heatmap\"}],\"histogram2dcontour\":[{\"colorbar\":{\"outlinewidth\":0,\"ticks\":\"\"},\"colorscale\":[[0.0,\"#0d0887\"],[0.1111111111111111,\"#46039f\"],[0.2222222222222222,\"#7201a8\"],[0.3333333333333333,\"#9c179e\"],[0.4444444444444444,\"#bd3786\"],[0.5555555555555556,\"#d8576b\"],[0.6666666666666666,\"#ed7953\"],[0.7777777777777778,\"#fb9f3a\"],[0.8888888888888888,\"#fdca26\"],[1.0,\"#f0f921\"]],\"type\":\"histogram2dcontour\"}],\"histogram2d\":[{\"colorbar\":{\"outlinewidth\":0,\"ticks\":\"\"},\"colorscale\":[[0.0,\"#0d0887\"],[0.1111111111111111,\"#46039f\"],[0.2222222222222222,\"#7201a8\"],[0.3333333333333333,\"#9c179e\"],[0.4444444444444444,\"#bd3786\"],[0.5555555555555556,\"#d8576b\"],[0.6666666666666666,\"#ed7953\"],[0.7777777777777778,\"#fb9f3a\"],[0.8888888888888888,\"#fdca26\"],[1.0,\"#f0f921\"]],\"type\":\"histogram2d\"}],\"histogram\":[{\"marker\":{\"pattern\":{\"fillmode\":\"overlay\",\"size\":10,\"solidity\":0.2}},\"type\":\"histogram\"}],\"mesh3d\":[{\"colorbar\":{\"outlinewidth\":0,\"ticks\":\"\"},\"type\":\"mesh3d\"}],\"parcoords\":[{\"line\":{\"colorbar\":{\"outlinewidth\":0,\"ticks\":\"\"}},\"type\":\"parcoords\"}],\"pie\":[{\"automargin\":true,\"type\":\"pie\"}],\"scatter3d\":[{\"line\":{\"colorbar\":{\"outlinewidth\":0,\"ticks\":\"\"}},\"marker\":{\"colorbar\":{\"outlinewidth\":0,\"ticks\":\"\"}},\"type\":\"scatter3d\"}],\"scattercarpet\":[{\"marker\":{\"colorbar\":{\"outlinewidth\":0,\"ticks\":\"\"}},\"type\":\"scattercarpet\"}],\"scattergeo\":[{\"marker\":{\"colorbar\":{\"outlinewidth\":0,\"ticks\":\"\"}},\"type\":\"scattergeo\"}],\"scattergl\":[{\"marker\":{\"colorbar\":{\"outlinewidth\":0,\"ticks\":\"\"}},\"type\":\"scattergl\"}],\"scattermapbox\":[{\"marker\":{\"colorbar\":{\"outlinewidth\":0,\"ticks\":\"\"}},\"type\":\"scattermapbox\"}],\"scatterpolargl\":[{\"marker\":{\"colorbar\":{\"outlinewidth\":0,\"ticks\":\"\"}},\"type\":\"scatterpolargl\"}],\"scatterpolar\":[{\"marker\":{\"colorbar\":{\"outlinewidth\":0,\"ticks\":\"\"}},\"type\":\"scatterpolar\"}],\"scatter\":[{\"fillpattern\":{\"fillmode\":\"overlay\",\"size\":10,\"solidity\":0.2},\"type\":\"scatter\"}],\"scatterternary\":[{\"marker\":{\"colorbar\":{\"outlinewidth\":0,\"ticks\":\"\"}},\"type\":\"scatterternary\"}],\"surface\":[{\"colorbar\":{\"outlinewidth\":0,\"ticks\":\"\"},\"colorscale\":[[0.0,\"#0d0887\"],[0.1111111111111111,\"#46039f\"],[0.2222222222222222,\"#7201a8\"],[0.3333333333333333,\"#9c179e\"],[0.4444444444444444,\"#bd3786\"],[0.5555555555555556,\"#d8576b\"],[0.6666666666666666,\"#ed7953\"],[0.7777777777777778,\"#fb9f3a\"],[0.8888888888888888,\"#fdca26\"],[1.0,\"#f0f921\"]],\"type\":\"surface\"}],\"table\":[{\"cells\":{\"fill\":{\"color\":\"#EBF0F8\"},\"line\":{\"color\":\"white\"}},\"header\":{\"fill\":{\"color\":\"#C8D4E3\"},\"line\":{\"color\":\"white\"}},\"type\":\"table\"}]},\"layout\":{\"annotationdefaults\":{\"arrowcolor\":\"#2a3f5f\",\"arrowhead\":0,\"arrowwidth\":1},\"autotypenumbers\":\"strict\",\"coloraxis\":{\"colorbar\":{\"outlinewidth\":0,\"ticks\":\"\"}},\"colorscale\":{\"diverging\":[[0,\"#8e0152\"],[0.1,\"#c51b7d\"],[0.2,\"#de77ae\"],[0.3,\"#f1b6da\"],[0.4,\"#fde0ef\"],[0.5,\"#f7f7f7\"],[0.6,\"#e6f5d0\"],[0.7,\"#b8e186\"],[0.8,\"#7fbc41\"],[0.9,\"#4d9221\"],[1,\"#276419\"]],\"sequential\":[[0.0,\"#0d0887\"],[0.1111111111111111,\"#46039f\"],[0.2222222222222222,\"#7201a8\"],[0.3333333333333333,\"#9c179e\"],[0.4444444444444444,\"#bd3786\"],[0.5555555555555556,\"#d8576b\"],[0.6666666666666666,\"#ed7953\"],[0.7777777777777778,\"#fb9f3a\"],[0.8888888888888888,\"#fdca26\"],[1.0,\"#f0f921\"]],\"sequentialminus\":[[0.0,\"#0d0887\"],[0.1111111111111111,\"#46039f\"],[0.2222222222222222,\"#7201a8\"],[0.3333333333333333,\"#9c179e\"],[0.4444444444444444,\"#bd3786\"],[0.5555555555555556,\"#d8576b\"],[0.6666666666666666,\"#ed7953\"],[0.7777777777777778,\"#fb9f3a\"],[0.8888888888888888,\"#fdca26\"],[1.0,\"#f0f921\"]]},\"colorway\":[\"#636efa\",\"#EF553B\",\"#00cc96\",\"#ab63fa\",\"#FFA15A\",\"#19d3f3\",\"#FF6692\",\"#B6E880\",\"#FF97FF\",\"#FECB52\"],\"font\":{\"color\":\"#2a3f5f\"},\"geo\":{\"bgcolor\":\"white\",\"lakecolor\":\"white\",\"landcolor\":\"#E5ECF6\",\"showlakes\":true,\"showland\":true,\"subunitcolor\":\"white\"},\"hoverlabel\":{\"align\":\"left\"},\"hovermode\":\"closest\",\"mapbox\":{\"style\":\"light\"},\"paper_bgcolor\":\"white\",\"plot_bgcolor\":\"#E5ECF6\",\"polar\":{\"angularaxis\":{\"gridcolor\":\"white\",\"linecolor\":\"white\",\"ticks\":\"\"},\"bgcolor\":\"#E5ECF6\",\"radialaxis\":{\"gridcolor\":\"white\",\"linecolor\":\"white\",\"ticks\":\"\"}},\"scene\":{\"xaxis\":{\"backgroundcolor\":\"#E5ECF6\",\"gridcolor\":\"white\",\"gridwidth\":2,\"linecolor\":\"white\",\"showbackground\":true,\"ticks\":\"\",\"zerolinecolor\":\"white\"},\"yaxis\":{\"backgroundcolor\":\"#E5ECF6\",\"gridcolor\":\"white\",\"gridwidth\":2,\"linecolor\":\"white\",\"showbackground\":true,\"ticks\":\"\",\"zerolinecolor\":\"white\"},\"zaxis\":{\"backgroundcolor\":\"#E5ECF6\",\"gridcolor\":\"white\",\"gridwidth\":2,\"linecolor\":\"white\",\"showbackground\":true,\"ticks\":\"\",\"zerolinecolor\":\"white\"}},\"shapedefaults\":{\"line\":{\"color\":\"#2a3f5f\"}},\"ternary\":{\"aaxis\":{\"gridcolor\":\"white\",\"linecolor\":\"white\",\"ticks\":\"\"},\"baxis\":{\"gridcolor\":\"white\",\"linecolor\":\"white\",\"ticks\":\"\"},\"bgcolor\":\"#E5ECF6\",\"caxis\":{\"gridcolor\":\"white\",\"linecolor\":\"white\",\"ticks\":\"\"}},\"title\":{\"x\":0.05},\"xaxis\":{\"automargin\":true,\"gridcolor\":\"white\",\"linecolor\":\"white\",\"ticks\":\"\",\"title\":{\"standoff\":15},\"zerolinecolor\":\"white\",\"zerolinewidth\":2},\"yaxis\":{\"automargin\":true,\"gridcolor\":\"white\",\"linecolor\":\"white\",\"ticks\":\"\",\"title\":{\"standoff\":15},\"zerolinecolor\":\"white\",\"zerolinewidth\":2}}},\"title\":{\"font\":{\"color\":\"#4D5663\"},\"text\":\"Gejala yang berkaitan dengn Gangguan\"},\"xaxis\":{\"gridcolor\":\"#E1E5ED\",\"showgrid\":true,\"tickfont\":{\"color\":\"#4D5663\"},\"title\":{\"font\":{\"color\":\"#4D5663\"},\"text\":\"\"},\"zerolinecolor\":\"#E1E5ED\"},\"yaxis\":{\"gridcolor\":\"#E1E5ED\",\"showgrid\":true,\"tickfont\":{\"color\":\"#4D5663\"},\"title\":{\"font\":{\"color\":\"#4D5663\"},\"text\":\"\"},\"zerolinecolor\":\"#E1E5ED\"}},                        {\"showLink\": true, \"linkText\": \"Export to plot.ly\", \"plotlyServerURL\": \"https://plot.ly\", \"responsive\": true}                    ).then(function(){\n",
              "                            \n",
              "var gd = document.getElementById('e774c1cc-8edd-4598-a08b-84334ef2e2ce');\n",
              "var x = new MutationObserver(function (mutations, observer) {{\n",
              "        var display = window.getComputedStyle(gd).display;\n",
              "        if (!display || display === 'none') {{\n",
              "            console.log([gd, 'removed!']);\n",
              "            Plotly.purge(gd);\n",
              "            observer.disconnect();\n",
              "        }}\n",
              "}});\n",
              "\n",
              "// Listen for the removal of the full notebook cells\n",
              "var notebookContainer = gd.closest('#notebook-container');\n",
              "if (notebookContainer) {{\n",
              "    x.observe(notebookContainer, {childList: true});\n",
              "}}\n",
              "\n",
              "// Listen for the clearing of the current output cell\n",
              "var outputEl = gd.closest('.output');\n",
              "if (outputEl) {{\n",
              "    x.observe(outputEl, {childList: true});\n",
              "}}\n",
              "\n",
              "                        })                };                });            </script>        </div>"
            ]
          },
          "metadata": {},
          "output_type": "display_data"
        }
      ],
      "source": [
        "byDisorderRate['ADHD':'PTSD'].iloc[:, 1:27].iplot(kind='bar', title='Gejala yang berkaitan dengn Gangguan')"
      ]
    },
    {
      "cell_type": "code",
      "execution_count": 25,
      "metadata": {
        "colab": {
          "base_uri": "https://localhost:8080/",
          "height": 542
        },
        "id": "RqpADapCaJOG",
        "outputId": "dfaea06a-21dc-49ce-b7f7-4bc9f6d723fe"
      },
      "outputs": [
        {
          "data": {
            "application/vnd.plotly.v1+json": {
              "config": {
                "linkText": "Export to plot.ly",
                "plotlyServerURL": "https://plot.ly",
                "showLink": true
              },
              "data": [
                {
                  "marker": {
                    "color": "rgba(255, 153, 51, 0.6)",
                    "line": {
                      "color": "rgba(255, 153, 51, 1.0)",
                      "width": 1
                    }
                  },
                  "name": "panic",
                  "orientation": "v",
                  "text": "",
                  "type": "bar",
                  "x": [
                    "PTSD rate",
                    "anxiety rate",
                    "bipolar rate",
                    "psychot depresn rate",
                    "sleep disord rate"
                  ],
                  "y": [
                    0.9347826086956522,
                    0.5074626865671642,
                    0,
                    0.37037037037037035,
                    0
                  ]
                },
                {
                  "marker": {
                    "color": "rgba(55, 128, 191, 0.6)",
                    "line": {
                      "color": "rgba(55, 128, 191, 1.0)",
                      "width": 1
                    }
                  },
                  "name": "breathing.rapidly",
                  "orientation": "v",
                  "text": "",
                  "type": "bar",
                  "x": [
                    "PTSD rate",
                    "anxiety rate",
                    "bipolar rate",
                    "psychot depresn rate",
                    "sleep disord rate"
                  ],
                  "y": [
                    0.9347826086956522,
                    1,
                    0,
                    1,
                    0
                  ]
                },
                {
                  "marker": {
                    "color": "rgba(50, 171, 96, 0.6)",
                    "line": {
                      "color": "rgba(50, 171, 96, 1.0)",
                      "width": 1
                    }
                  },
                  "name": "sweating",
                  "orientation": "v",
                  "text": "",
                  "type": "bar",
                  "x": [
                    "PTSD rate",
                    "anxiety rate",
                    "bipolar rate",
                    "psychot depresn rate",
                    "sleep disord rate"
                  ],
                  "y": [
                    0.45652173913043476,
                    1,
                    0,
                    0.3333333333333333,
                    0
                  ]
                },
                {
                  "marker": {
                    "color": "rgba(128, 0, 128, 0.6)",
                    "line": {
                      "color": "rgba(128, 0, 128, 1.0)",
                      "width": 1
                    }
                  },
                  "name": "trouble.in.concentration",
                  "orientation": "v",
                  "text": "",
                  "type": "bar",
                  "x": [
                    "PTSD rate",
                    "anxiety rate",
                    "bipolar rate",
                    "psychot depresn rate",
                    "sleep disord rate"
                  ],
                  "y": [
                    1,
                    0.5074626865671642,
                    0.8372093023255814,
                    1,
                    0
                  ]
                },
                {
                  "marker": {
                    "color": "rgba(219, 64, 82, 0.6)",
                    "line": {
                      "color": "rgba(219, 64, 82, 1.0)",
                      "width": 1
                    }
                  },
                  "name": "trouble.sleeping",
                  "orientation": "v",
                  "text": "",
                  "type": "bar",
                  "x": [
                    "PTSD rate",
                    "anxiety rate",
                    "bipolar rate",
                    "psychot depresn rate",
                    "sleep disord rate"
                  ],
                  "y": [
                    1,
                    1,
                    1,
                    1,
                    1
                  ]
                },
                {
                  "marker": {
                    "color": "rgba(0, 128, 128, 0.6)",
                    "line": {
                      "color": "rgba(0, 128, 128, 1.0)",
                      "width": 1
                    }
                  },
                  "name": "trouble.with.work",
                  "orientation": "v",
                  "text": "",
                  "type": "bar",
                  "x": [
                    "PTSD rate",
                    "anxiety rate",
                    "bipolar rate",
                    "psychot depresn rate",
                    "sleep disord rate"
                  ],
                  "y": [
                    0.4782608695652174,
                    0.5074626865671642,
                    0,
                    1,
                    0.7352941176470589
                  ]
                },
                {
                  "marker": {
                    "color": "rgba(255, 255, 51, 0.6)",
                    "line": {
                      "color": "rgba(255, 255, 51, 1.0)",
                      "width": 1
                    }
                  },
                  "name": "hopelessness",
                  "orientation": "v",
                  "text": "",
                  "type": "bar",
                  "x": [
                    "PTSD rate",
                    "anxiety rate",
                    "bipolar rate",
                    "psychot depresn rate",
                    "sleep disord rate"
                  ],
                  "y": [
                    0,
                    0,
                    0,
                    1,
                    0
                  ]
                },
                {
                  "marker": {
                    "color": "rgba(128, 128, 0, 0.6)",
                    "line": {
                      "color": "rgba(128, 128, 0, 1.0)",
                      "width": 1
                    }
                  },
                  "name": "anger",
                  "orientation": "v",
                  "text": "",
                  "type": "bar",
                  "x": [
                    "PTSD rate",
                    "anxiety rate",
                    "bipolar rate",
                    "psychot depresn rate",
                    "sleep disord rate"
                  ],
                  "y": [
                    0.9347826086956522,
                    0,
                    0,
                    0.1111111111111111,
                    0
                  ]
                },
                {
                  "marker": {
                    "color": "rgba(251, 128, 114, 0.6)",
                    "line": {
                      "color": "rgba(251, 128, 114, 1.0)",
                      "width": 1
                    }
                  },
                  "name": "over.react",
                  "orientation": "v",
                  "text": "",
                  "type": "bar",
                  "x": [
                    "PTSD rate",
                    "anxiety rate",
                    "bipolar rate",
                    "psychot depresn rate",
                    "sleep disord rate"
                  ],
                  "y": [
                    0.45652173913043476,
                    0,
                    1,
                    0.1111111111111111,
                    0
                  ]
                },
                {
                  "marker": {
                    "color": "rgba(128, 177, 211, 0.6)",
                    "line": {
                      "color": "rgba(128, 177, 211, 1.0)",
                      "width": 1
                    }
                  },
                  "name": "change.in.eating",
                  "orientation": "v",
                  "text": "",
                  "type": "bar",
                  "x": [
                    "PTSD rate",
                    "anxiety rate",
                    "bipolar rate",
                    "psychot depresn rate",
                    "sleep disord rate"
                  ],
                  "y": [
                    0.4782608695652174,
                    0,
                    0,
                    0,
                    0
                  ]
                },
                {
                  "marker": {
                    "color": "rgba(128, 177, 211, 0.6)",
                    "line": {
                      "color": "rgba(128, 177, 211, 0.8999999999999999)",
                      "width": 1
                    }
                  },
                  "name": "suicidal.thought",
                  "orientation": "v",
                  "text": "",
                  "type": "bar",
                  "x": [
                    "PTSD rate",
                    "anxiety rate",
                    "bipolar rate",
                    "psychot depresn rate",
                    "sleep disord rate"
                  ],
                  "y": [
                    0,
                    0,
                    0,
                    1,
                    0
                  ]
                },
                {
                  "marker": {
                    "color": "rgba(255, 153, 51, 0.6)",
                    "line": {
                      "color": "rgba(255, 153, 51, 0.8999999999999999)",
                      "width": 1
                    }
                  },
                  "name": "feeling.tired",
                  "orientation": "v",
                  "text": "",
                  "type": "bar",
                  "x": [
                    "PTSD rate",
                    "anxiety rate",
                    "bipolar rate",
                    "psychot depresn rate",
                    "sleep disord rate"
                  ],
                  "y": [
                    0.06521739130434782,
                    0.4925373134328358,
                    0,
                    1,
                    1
                  ]
                },
                {
                  "marker": {
                    "color": "rgba(55, 128, 191, 0.6)",
                    "line": {
                      "color": "rgba(55, 128, 191, 0.8999999999999999)",
                      "width": 1
                    }
                  },
                  "name": "close.friend",
                  "orientation": "v",
                  "text": "",
                  "type": "bar",
                  "x": [
                    "PTSD rate",
                    "anxiety rate",
                    "bipolar rate",
                    "psychot depresn rate",
                    "sleep disord rate"
                  ],
                  "y": [
                    1,
                    1,
                    1,
                    0,
                    1
                  ]
                },
                {
                  "marker": {
                    "color": "rgba(50, 171, 96, 0.6)",
                    "line": {
                      "color": "rgba(50, 171, 96, 0.8999999999999999)",
                      "width": 1
                    }
                  },
                  "name": "social.media.addiction",
                  "orientation": "v",
                  "text": "",
                  "type": "bar",
                  "x": [
                    "PTSD rate",
                    "anxiety rate",
                    "bipolar rate",
                    "psychot depresn rate",
                    "sleep disord rate"
                  ],
                  "y": [
                    1,
                    1,
                    1,
                    0.1111111111111111,
                    0.2647058823529412
                  ]
                },
                {
                  "marker": {
                    "color": "rgba(128, 0, 128, 0.6)",
                    "line": {
                      "color": "rgba(128, 0, 128, 0.8999999999999999)",
                      "width": 1
                    }
                  },
                  "name": "weight.gain",
                  "orientation": "v",
                  "text": "",
                  "type": "bar",
                  "x": [
                    "PTSD rate",
                    "anxiety rate",
                    "bipolar rate",
                    "psychot depresn rate",
                    "sleep disord rate"
                  ],
                  "y": [
                    0,
                    0.4925373134328358,
                    0,
                    0,
                    0
                  ]
                },
                {
                  "marker": {
                    "color": "rgba(219, 64, 82, 0.6)",
                    "line": {
                      "color": "rgba(219, 64, 82, 0.8999999999999999)",
                      "width": 1
                    }
                  },
                  "name": "introvert",
                  "orientation": "v",
                  "text": "",
                  "type": "bar",
                  "x": [
                    "PTSD rate",
                    "anxiety rate",
                    "bipolar rate",
                    "psychot depresn rate",
                    "sleep disord rate"
                  ],
                  "y": [
                    0,
                    0,
                    0,
                    1,
                    0
                  ]
                },
                {
                  "marker": {
                    "color": "rgba(0, 128, 128, 0.6)",
                    "line": {
                      "color": "rgba(0, 128, 128, 0.8999999999999999)",
                      "width": 1
                    }
                  },
                  "name": "popping.up.stressful.memory",
                  "orientation": "v",
                  "text": "",
                  "type": "bar",
                  "x": [
                    "PTSD rate",
                    "anxiety rate",
                    "bipolar rate",
                    "psychot depresn rate",
                    "sleep disord rate"
                  ],
                  "y": [
                    1,
                    0.4925373134328358,
                    0,
                    0.8888888888888888,
                    1
                  ]
                },
                {
                  "marker": {
                    "color": "rgba(255, 255, 51, 0.6)",
                    "line": {
                      "color": "rgba(255, 255, 51, 0.8999999999999999)",
                      "width": 1
                    }
                  },
                  "name": "nightmares",
                  "orientation": "v",
                  "text": "",
                  "type": "bar",
                  "x": [
                    "PTSD rate",
                    "anxiety rate",
                    "bipolar rate",
                    "psychot depresn rate",
                    "sleep disord rate"
                  ],
                  "y": [
                    1,
                    0,
                    0,
                    0.1111111111111111,
                    0
                  ]
                },
                {
                  "marker": {
                    "color": "rgba(128, 128, 0, 0.6)",
                    "line": {
                      "color": "rgba(128, 128, 0, 0.8999999999999999)",
                      "width": 1
                    }
                  },
                  "name": "avoids.people.or.activities",
                  "orientation": "v",
                  "text": "",
                  "type": "bar",
                  "x": [
                    "PTSD rate",
                    "anxiety rate",
                    "bipolar rate",
                    "psychot depresn rate",
                    "sleep disord rate"
                  ],
                  "y": [
                    0.4782608695652174,
                    1,
                    0.5348837209302325,
                    1,
                    0
                  ]
                },
                {
                  "marker": {
                    "color": "rgba(251, 128, 114, 0.6)",
                    "line": {
                      "color": "rgba(251, 128, 114, 0.8999999999999999)",
                      "width": 1
                    }
                  },
                  "name": "feeling.negative",
                  "orientation": "v",
                  "text": "",
                  "type": "bar",
                  "x": [
                    "PTSD rate",
                    "anxiety rate",
                    "bipolar rate",
                    "psychot depresn rate",
                    "sleep disord rate"
                  ],
                  "y": [
                    0,
                    0,
                    0,
                    1,
                    0
                  ]
                },
                {
                  "marker": {
                    "color": "rgba(251, 128, 114, 0.6)",
                    "line": {
                      "color": "rgba(251, 128, 114, 0.7999999999999998)",
                      "width": 1
                    }
                  },
                  "name": "trouble.concentrating",
                  "orientation": "v",
                  "text": "",
                  "type": "bar",
                  "x": [
                    "PTSD rate",
                    "anxiety rate",
                    "bipolar rate",
                    "psychot depresn rate",
                    "sleep disord rate"
                  ],
                  "y": [
                    0.15217391304347827,
                    0,
                    0.46511627906976744,
                    1,
                    1
                  ]
                },
                {
                  "marker": {
                    "color": "rgba(128, 177, 211, 0.6)",
                    "line": {
                      "color": "rgba(128, 177, 211, 0.7999999999999998)",
                      "width": 1
                    }
                  },
                  "name": "blaming.yourself",
                  "orientation": "v",
                  "text": "",
                  "type": "bar",
                  "x": [
                    "PTSD rate",
                    "anxiety rate",
                    "bipolar rate",
                    "psychot depresn rate",
                    "sleep disord rate"
                  ],
                  "y": [
                    0.9347826086956522,
                    0,
                    0.8372093023255814,
                    0,
                    0
                  ]
                },
                {
                  "marker": {
                    "color": "rgba(255, 153, 51, 0.6)",
                    "line": {
                      "color": "rgba(255, 153, 51, 0.7999999999999998)",
                      "width": 1
                    }
                  },
                  "name": "hallucinations",
                  "orientation": "v",
                  "text": "",
                  "type": "bar",
                  "x": [
                    "PTSD rate",
                    "anxiety rate",
                    "bipolar rate",
                    "psychot depresn rate",
                    "sleep disord rate"
                  ],
                  "y": [
                    0.5652173913043478,
                    0,
                    0,
                    1,
                    0.2647058823529412
                  ]
                },
                {
                  "marker": {
                    "color": "rgba(55, 128, 191, 0.6)",
                    "line": {
                      "color": "rgba(55, 128, 191, 0.7999999999999998)",
                      "width": 1
                    }
                  },
                  "name": "repetitive.behaviour",
                  "orientation": "v",
                  "text": "",
                  "type": "bar",
                  "x": [
                    "PTSD rate",
                    "anxiety rate",
                    "bipolar rate",
                    "psychot depresn rate",
                    "sleep disord rate"
                  ],
                  "y": [
                    0.8478260869565217,
                    0,
                    0,
                    0.1111111111111111,
                    0
                  ]
                },
                {
                  "marker": {
                    "color": "rgba(50, 171, 96, 0.6)",
                    "line": {
                      "color": "rgba(50, 171, 96, 0.7999999999999998)",
                      "width": 1
                    }
                  },
                  "name": "seasonally",
                  "orientation": "v",
                  "text": "",
                  "type": "bar",
                  "x": [
                    "PTSD rate",
                    "anxiety rate",
                    "bipolar rate",
                    "psychot depresn rate",
                    "sleep disord rate"
                  ],
                  "y": [
                    0,
                    0,
                    0,
                    0,
                    0
                  ]
                },
                {
                  "marker": {
                    "color": "rgba(128, 0, 128, 0.6)",
                    "line": {
                      "color": "rgba(128, 0, 128, 0.7999999999999998)",
                      "width": 1
                    }
                  },
                  "name": "increased.energy",
                  "orientation": "v",
                  "text": "",
                  "type": "bar",
                  "x": [
                    "PTSD rate",
                    "anxiety rate",
                    "bipolar rate",
                    "psychot depresn rate",
                    "sleep disord rate"
                  ],
                  "y": [
                    0,
                    0,
                    1,
                    0,
                    0
                  ]
                }
              ],
              "layout": {
                "legend": {
                  "bgcolor": "#F5F6F9",
                  "font": {
                    "color": "#4D5663"
                  }
                },
                "paper_bgcolor": "#F5F6F9",
                "plot_bgcolor": "#F5F6F9",
                "template": {
                  "data": {
                    "bar": [
                      {
                        "error_x": {
                          "color": "#2a3f5f"
                        },
                        "error_y": {
                          "color": "#2a3f5f"
                        },
                        "marker": {
                          "line": {
                            "color": "#E5ECF6",
                            "width": 0.5
                          },
                          "pattern": {
                            "fillmode": "overlay",
                            "size": 10,
                            "solidity": 0.2
                          }
                        },
                        "type": "bar"
                      }
                    ],
                    "barpolar": [
                      {
                        "marker": {
                          "line": {
                            "color": "#E5ECF6",
                            "width": 0.5
                          },
                          "pattern": {
                            "fillmode": "overlay",
                            "size": 10,
                            "solidity": 0.2
                          }
                        },
                        "type": "barpolar"
                      }
                    ],
                    "carpet": [
                      {
                        "aaxis": {
                          "endlinecolor": "#2a3f5f",
                          "gridcolor": "white",
                          "linecolor": "white",
                          "minorgridcolor": "white",
                          "startlinecolor": "#2a3f5f"
                        },
                        "baxis": {
                          "endlinecolor": "#2a3f5f",
                          "gridcolor": "white",
                          "linecolor": "white",
                          "minorgridcolor": "white",
                          "startlinecolor": "#2a3f5f"
                        },
                        "type": "carpet"
                      }
                    ],
                    "choropleth": [
                      {
                        "colorbar": {
                          "outlinewidth": 0,
                          "ticks": ""
                        },
                        "type": "choropleth"
                      }
                    ],
                    "contour": [
                      {
                        "colorbar": {
                          "outlinewidth": 0,
                          "ticks": ""
                        },
                        "colorscale": [
                          [
                            0,
                            "#0d0887"
                          ],
                          [
                            0.1111111111111111,
                            "#46039f"
                          ],
                          [
                            0.2222222222222222,
                            "#7201a8"
                          ],
                          [
                            0.3333333333333333,
                            "#9c179e"
                          ],
                          [
                            0.4444444444444444,
                            "#bd3786"
                          ],
                          [
                            0.5555555555555556,
                            "#d8576b"
                          ],
                          [
                            0.6666666666666666,
                            "#ed7953"
                          ],
                          [
                            0.7777777777777778,
                            "#fb9f3a"
                          ],
                          [
                            0.8888888888888888,
                            "#fdca26"
                          ],
                          [
                            1,
                            "#f0f921"
                          ]
                        ],
                        "type": "contour"
                      }
                    ],
                    "contourcarpet": [
                      {
                        "colorbar": {
                          "outlinewidth": 0,
                          "ticks": ""
                        },
                        "type": "contourcarpet"
                      }
                    ],
                    "heatmap": [
                      {
                        "colorbar": {
                          "outlinewidth": 0,
                          "ticks": ""
                        },
                        "colorscale": [
                          [
                            0,
                            "#0d0887"
                          ],
                          [
                            0.1111111111111111,
                            "#46039f"
                          ],
                          [
                            0.2222222222222222,
                            "#7201a8"
                          ],
                          [
                            0.3333333333333333,
                            "#9c179e"
                          ],
                          [
                            0.4444444444444444,
                            "#bd3786"
                          ],
                          [
                            0.5555555555555556,
                            "#d8576b"
                          ],
                          [
                            0.6666666666666666,
                            "#ed7953"
                          ],
                          [
                            0.7777777777777778,
                            "#fb9f3a"
                          ],
                          [
                            0.8888888888888888,
                            "#fdca26"
                          ],
                          [
                            1,
                            "#f0f921"
                          ]
                        ],
                        "type": "heatmap"
                      }
                    ],
                    "heatmapgl": [
                      {
                        "colorbar": {
                          "outlinewidth": 0,
                          "ticks": ""
                        },
                        "colorscale": [
                          [
                            0,
                            "#0d0887"
                          ],
                          [
                            0.1111111111111111,
                            "#46039f"
                          ],
                          [
                            0.2222222222222222,
                            "#7201a8"
                          ],
                          [
                            0.3333333333333333,
                            "#9c179e"
                          ],
                          [
                            0.4444444444444444,
                            "#bd3786"
                          ],
                          [
                            0.5555555555555556,
                            "#d8576b"
                          ],
                          [
                            0.6666666666666666,
                            "#ed7953"
                          ],
                          [
                            0.7777777777777778,
                            "#fb9f3a"
                          ],
                          [
                            0.8888888888888888,
                            "#fdca26"
                          ],
                          [
                            1,
                            "#f0f921"
                          ]
                        ],
                        "type": "heatmapgl"
                      }
                    ],
                    "histogram": [
                      {
                        "marker": {
                          "pattern": {
                            "fillmode": "overlay",
                            "size": 10,
                            "solidity": 0.2
                          }
                        },
                        "type": "histogram"
                      }
                    ],
                    "histogram2d": [
                      {
                        "colorbar": {
                          "outlinewidth": 0,
                          "ticks": ""
                        },
                        "colorscale": [
                          [
                            0,
                            "#0d0887"
                          ],
                          [
                            0.1111111111111111,
                            "#46039f"
                          ],
                          [
                            0.2222222222222222,
                            "#7201a8"
                          ],
                          [
                            0.3333333333333333,
                            "#9c179e"
                          ],
                          [
                            0.4444444444444444,
                            "#bd3786"
                          ],
                          [
                            0.5555555555555556,
                            "#d8576b"
                          ],
                          [
                            0.6666666666666666,
                            "#ed7953"
                          ],
                          [
                            0.7777777777777778,
                            "#fb9f3a"
                          ],
                          [
                            0.8888888888888888,
                            "#fdca26"
                          ],
                          [
                            1,
                            "#f0f921"
                          ]
                        ],
                        "type": "histogram2d"
                      }
                    ],
                    "histogram2dcontour": [
                      {
                        "colorbar": {
                          "outlinewidth": 0,
                          "ticks": ""
                        },
                        "colorscale": [
                          [
                            0,
                            "#0d0887"
                          ],
                          [
                            0.1111111111111111,
                            "#46039f"
                          ],
                          [
                            0.2222222222222222,
                            "#7201a8"
                          ],
                          [
                            0.3333333333333333,
                            "#9c179e"
                          ],
                          [
                            0.4444444444444444,
                            "#bd3786"
                          ],
                          [
                            0.5555555555555556,
                            "#d8576b"
                          ],
                          [
                            0.6666666666666666,
                            "#ed7953"
                          ],
                          [
                            0.7777777777777778,
                            "#fb9f3a"
                          ],
                          [
                            0.8888888888888888,
                            "#fdca26"
                          ],
                          [
                            1,
                            "#f0f921"
                          ]
                        ],
                        "type": "histogram2dcontour"
                      }
                    ],
                    "mesh3d": [
                      {
                        "colorbar": {
                          "outlinewidth": 0,
                          "ticks": ""
                        },
                        "type": "mesh3d"
                      }
                    ],
                    "parcoords": [
                      {
                        "line": {
                          "colorbar": {
                            "outlinewidth": 0,
                            "ticks": ""
                          }
                        },
                        "type": "parcoords"
                      }
                    ],
                    "pie": [
                      {
                        "automargin": true,
                        "type": "pie"
                      }
                    ],
                    "scatter": [
                      {
                        "fillpattern": {
                          "fillmode": "overlay",
                          "size": 10,
                          "solidity": 0.2
                        },
                        "type": "scatter"
                      }
                    ],
                    "scatter3d": [
                      {
                        "line": {
                          "colorbar": {
                            "outlinewidth": 0,
                            "ticks": ""
                          }
                        },
                        "marker": {
                          "colorbar": {
                            "outlinewidth": 0,
                            "ticks": ""
                          }
                        },
                        "type": "scatter3d"
                      }
                    ],
                    "scattercarpet": [
                      {
                        "marker": {
                          "colorbar": {
                            "outlinewidth": 0,
                            "ticks": ""
                          }
                        },
                        "type": "scattercarpet"
                      }
                    ],
                    "scattergeo": [
                      {
                        "marker": {
                          "colorbar": {
                            "outlinewidth": 0,
                            "ticks": ""
                          }
                        },
                        "type": "scattergeo"
                      }
                    ],
                    "scattergl": [
                      {
                        "marker": {
                          "colorbar": {
                            "outlinewidth": 0,
                            "ticks": ""
                          }
                        },
                        "type": "scattergl"
                      }
                    ],
                    "scattermapbox": [
                      {
                        "marker": {
                          "colorbar": {
                            "outlinewidth": 0,
                            "ticks": ""
                          }
                        },
                        "type": "scattermapbox"
                      }
                    ],
                    "scatterpolar": [
                      {
                        "marker": {
                          "colorbar": {
                            "outlinewidth": 0,
                            "ticks": ""
                          }
                        },
                        "type": "scatterpolar"
                      }
                    ],
                    "scatterpolargl": [
                      {
                        "marker": {
                          "colorbar": {
                            "outlinewidth": 0,
                            "ticks": ""
                          }
                        },
                        "type": "scatterpolargl"
                      }
                    ],
                    "scatterternary": [
                      {
                        "marker": {
                          "colorbar": {
                            "outlinewidth": 0,
                            "ticks": ""
                          }
                        },
                        "type": "scatterternary"
                      }
                    ],
                    "surface": [
                      {
                        "colorbar": {
                          "outlinewidth": 0,
                          "ticks": ""
                        },
                        "colorscale": [
                          [
                            0,
                            "#0d0887"
                          ],
                          [
                            0.1111111111111111,
                            "#46039f"
                          ],
                          [
                            0.2222222222222222,
                            "#7201a8"
                          ],
                          [
                            0.3333333333333333,
                            "#9c179e"
                          ],
                          [
                            0.4444444444444444,
                            "#bd3786"
                          ],
                          [
                            0.5555555555555556,
                            "#d8576b"
                          ],
                          [
                            0.6666666666666666,
                            "#ed7953"
                          ],
                          [
                            0.7777777777777778,
                            "#fb9f3a"
                          ],
                          [
                            0.8888888888888888,
                            "#fdca26"
                          ],
                          [
                            1,
                            "#f0f921"
                          ]
                        ],
                        "type": "surface"
                      }
                    ],
                    "table": [
                      {
                        "cells": {
                          "fill": {
                            "color": "#EBF0F8"
                          },
                          "line": {
                            "color": "white"
                          }
                        },
                        "header": {
                          "fill": {
                            "color": "#C8D4E3"
                          },
                          "line": {
                            "color": "white"
                          }
                        },
                        "type": "table"
                      }
                    ]
                  },
                  "layout": {
                    "annotationdefaults": {
                      "arrowcolor": "#2a3f5f",
                      "arrowhead": 0,
                      "arrowwidth": 1
                    },
                    "autotypenumbers": "strict",
                    "coloraxis": {
                      "colorbar": {
                        "outlinewidth": 0,
                        "ticks": ""
                      }
                    },
                    "colorscale": {
                      "diverging": [
                        [
                          0,
                          "#8e0152"
                        ],
                        [
                          0.1,
                          "#c51b7d"
                        ],
                        [
                          0.2,
                          "#de77ae"
                        ],
                        [
                          0.3,
                          "#f1b6da"
                        ],
                        [
                          0.4,
                          "#fde0ef"
                        ],
                        [
                          0.5,
                          "#f7f7f7"
                        ],
                        [
                          0.6,
                          "#e6f5d0"
                        ],
                        [
                          0.7,
                          "#b8e186"
                        ],
                        [
                          0.8,
                          "#7fbc41"
                        ],
                        [
                          0.9,
                          "#4d9221"
                        ],
                        [
                          1,
                          "#276419"
                        ]
                      ],
                      "sequential": [
                        [
                          0,
                          "#0d0887"
                        ],
                        [
                          0.1111111111111111,
                          "#46039f"
                        ],
                        [
                          0.2222222222222222,
                          "#7201a8"
                        ],
                        [
                          0.3333333333333333,
                          "#9c179e"
                        ],
                        [
                          0.4444444444444444,
                          "#bd3786"
                        ],
                        [
                          0.5555555555555556,
                          "#d8576b"
                        ],
                        [
                          0.6666666666666666,
                          "#ed7953"
                        ],
                        [
                          0.7777777777777778,
                          "#fb9f3a"
                        ],
                        [
                          0.8888888888888888,
                          "#fdca26"
                        ],
                        [
                          1,
                          "#f0f921"
                        ]
                      ],
                      "sequentialminus": [
                        [
                          0,
                          "#0d0887"
                        ],
                        [
                          0.1111111111111111,
                          "#46039f"
                        ],
                        [
                          0.2222222222222222,
                          "#7201a8"
                        ],
                        [
                          0.3333333333333333,
                          "#9c179e"
                        ],
                        [
                          0.4444444444444444,
                          "#bd3786"
                        ],
                        [
                          0.5555555555555556,
                          "#d8576b"
                        ],
                        [
                          0.6666666666666666,
                          "#ed7953"
                        ],
                        [
                          0.7777777777777778,
                          "#fb9f3a"
                        ],
                        [
                          0.8888888888888888,
                          "#fdca26"
                        ],
                        [
                          1,
                          "#f0f921"
                        ]
                      ]
                    },
                    "colorway": [
                      "#636efa",
                      "#EF553B",
                      "#00cc96",
                      "#ab63fa",
                      "#FFA15A",
                      "#19d3f3",
                      "#FF6692",
                      "#B6E880",
                      "#FF97FF",
                      "#FECB52"
                    ],
                    "font": {
                      "color": "#2a3f5f"
                    },
                    "geo": {
                      "bgcolor": "white",
                      "lakecolor": "white",
                      "landcolor": "#E5ECF6",
                      "showlakes": true,
                      "showland": true,
                      "subunitcolor": "white"
                    },
                    "hoverlabel": {
                      "align": "left"
                    },
                    "hovermode": "closest",
                    "mapbox": {
                      "style": "light"
                    },
                    "paper_bgcolor": "white",
                    "plot_bgcolor": "#E5ECF6",
                    "polar": {
                      "angularaxis": {
                        "gridcolor": "white",
                        "linecolor": "white",
                        "ticks": ""
                      },
                      "bgcolor": "#E5ECF6",
                      "radialaxis": {
                        "gridcolor": "white",
                        "linecolor": "white",
                        "ticks": ""
                      }
                    },
                    "scene": {
                      "xaxis": {
                        "backgroundcolor": "#E5ECF6",
                        "gridcolor": "white",
                        "gridwidth": 2,
                        "linecolor": "white",
                        "showbackground": true,
                        "ticks": "",
                        "zerolinecolor": "white"
                      },
                      "yaxis": {
                        "backgroundcolor": "#E5ECF6",
                        "gridcolor": "white",
                        "gridwidth": 2,
                        "linecolor": "white",
                        "showbackground": true,
                        "ticks": "",
                        "zerolinecolor": "white"
                      },
                      "zaxis": {
                        "backgroundcolor": "#E5ECF6",
                        "gridcolor": "white",
                        "gridwidth": 2,
                        "linecolor": "white",
                        "showbackground": true,
                        "ticks": "",
                        "zerolinecolor": "white"
                      }
                    },
                    "shapedefaults": {
                      "line": {
                        "color": "#2a3f5f"
                      }
                    },
                    "ternary": {
                      "aaxis": {
                        "gridcolor": "white",
                        "linecolor": "white",
                        "ticks": ""
                      },
                      "baxis": {
                        "gridcolor": "white",
                        "linecolor": "white",
                        "ticks": ""
                      },
                      "bgcolor": "#E5ECF6",
                      "caxis": {
                        "gridcolor": "white",
                        "linecolor": "white",
                        "ticks": ""
                      }
                    },
                    "title": {
                      "x": 0.05
                    },
                    "xaxis": {
                      "automargin": true,
                      "gridcolor": "white",
                      "linecolor": "white",
                      "ticks": "",
                      "title": {
                        "standoff": 15
                      },
                      "zerolinecolor": "white",
                      "zerolinewidth": 2
                    },
                    "yaxis": {
                      "automargin": true,
                      "gridcolor": "white",
                      "linecolor": "white",
                      "ticks": "",
                      "title": {
                        "standoff": 15
                      },
                      "zerolinecolor": "white",
                      "zerolinewidth": 2
                    }
                  }
                },
                "title": {
                  "font": {
                    "color": "#4D5663"
                  },
                  "text": "Gejala yang berkaitan dengn Gangguan"
                },
                "xaxis": {
                  "gridcolor": "#E1E5ED",
                  "showgrid": true,
                  "tickfont": {
                    "color": "#4D5663"
                  },
                  "title": {
                    "font": {
                      "color": "#4D5663"
                    },
                    "text": ""
                  },
                  "zerolinecolor": "#E1E5ED"
                },
                "yaxis": {
                  "gridcolor": "#E1E5ED",
                  "showgrid": true,
                  "tickfont": {
                    "color": "#4D5663"
                  },
                  "title": {
                    "font": {
                      "color": "#4D5663"
                    },
                    "text": ""
                  },
                  "zerolinecolor": "#E1E5ED"
                }
              }
            },
            "text/html": [
              "<div>                            <div id=\"b74756b1-0c62-4824-9d48-b761b490d7e4\" class=\"plotly-graph-div\" style=\"height:525px; width:100%;\"></div>            <script type=\"text/javascript\">                require([\"plotly\"], function(Plotly) {                    window.PLOTLYENV=window.PLOTLYENV || {};\n",
              "                    window.PLOTLYENV.BASE_URL='https://plot.ly';                                    if (document.getElementById(\"b74756b1-0c62-4824-9d48-b761b490d7e4\")) {                    Plotly.newPlot(                        \"b74756b1-0c62-4824-9d48-b761b490d7e4\",                        [{\"marker\":{\"color\":\"rgba(255, 153, 51, 0.6)\",\"line\":{\"color\":\"rgba(255, 153, 51, 1.0)\",\"width\":1}},\"name\":\"panic\",\"orientation\":\"v\",\"text\":\"\",\"x\":[\"PTSD rate\",\"anxiety rate\",\"bipolar rate\",\"psychot depresn rate\",\"sleep disord rate\"],\"y\":[0.9347826086956522,0.5074626865671642,0.0,0.37037037037037035,0.0],\"type\":\"bar\"},{\"marker\":{\"color\":\"rgba(55, 128, 191, 0.6)\",\"line\":{\"color\":\"rgba(55, 128, 191, 1.0)\",\"width\":1}},\"name\":\"breathing.rapidly\",\"orientation\":\"v\",\"text\":\"\",\"x\":[\"PTSD rate\",\"anxiety rate\",\"bipolar rate\",\"psychot depresn rate\",\"sleep disord rate\"],\"y\":[0.9347826086956522,1.0,0.0,1.0,0.0],\"type\":\"bar\"},{\"marker\":{\"color\":\"rgba(50, 171, 96, 0.6)\",\"line\":{\"color\":\"rgba(50, 171, 96, 1.0)\",\"width\":1}},\"name\":\"sweating\",\"orientation\":\"v\",\"text\":\"\",\"x\":[\"PTSD rate\",\"anxiety rate\",\"bipolar rate\",\"psychot depresn rate\",\"sleep disord rate\"],\"y\":[0.45652173913043476,1.0,0.0,0.3333333333333333,0.0],\"type\":\"bar\"},{\"marker\":{\"color\":\"rgba(128, 0, 128, 0.6)\",\"line\":{\"color\":\"rgba(128, 0, 128, 1.0)\",\"width\":1}},\"name\":\"trouble.in.concentration\",\"orientation\":\"v\",\"text\":\"\",\"x\":[\"PTSD rate\",\"anxiety rate\",\"bipolar rate\",\"psychot depresn rate\",\"sleep disord rate\"],\"y\":[1.0,0.5074626865671642,0.8372093023255814,1.0,0.0],\"type\":\"bar\"},{\"marker\":{\"color\":\"rgba(219, 64, 82, 0.6)\",\"line\":{\"color\":\"rgba(219, 64, 82, 1.0)\",\"width\":1}},\"name\":\"trouble.sleeping\",\"orientation\":\"v\",\"text\":\"\",\"x\":[\"PTSD rate\",\"anxiety rate\",\"bipolar rate\",\"psychot depresn rate\",\"sleep disord rate\"],\"y\":[1.0,1.0,1.0,1.0,1.0],\"type\":\"bar\"},{\"marker\":{\"color\":\"rgba(0, 128, 128, 0.6)\",\"line\":{\"color\":\"rgba(0, 128, 128, 1.0)\",\"width\":1}},\"name\":\"trouble.with.work\",\"orientation\":\"v\",\"text\":\"\",\"x\":[\"PTSD rate\",\"anxiety rate\",\"bipolar rate\",\"psychot depresn rate\",\"sleep disord rate\"],\"y\":[0.4782608695652174,0.5074626865671642,0.0,1.0,0.7352941176470589],\"type\":\"bar\"},{\"marker\":{\"color\":\"rgba(255, 255, 51, 0.6)\",\"line\":{\"color\":\"rgba(255, 255, 51, 1.0)\",\"width\":1}},\"name\":\"hopelessness\",\"orientation\":\"v\",\"text\":\"\",\"x\":[\"PTSD rate\",\"anxiety rate\",\"bipolar rate\",\"psychot depresn rate\",\"sleep disord rate\"],\"y\":[0.0,0.0,0.0,1.0,0.0],\"type\":\"bar\"},{\"marker\":{\"color\":\"rgba(128, 128, 0, 0.6)\",\"line\":{\"color\":\"rgba(128, 128, 0, 1.0)\",\"width\":1}},\"name\":\"anger\",\"orientation\":\"v\",\"text\":\"\",\"x\":[\"PTSD rate\",\"anxiety rate\",\"bipolar rate\",\"psychot depresn rate\",\"sleep disord rate\"],\"y\":[0.9347826086956522,0.0,0.0,0.1111111111111111,0.0],\"type\":\"bar\"},{\"marker\":{\"color\":\"rgba(251, 128, 114, 0.6)\",\"line\":{\"color\":\"rgba(251, 128, 114, 1.0)\",\"width\":1}},\"name\":\"over.react\",\"orientation\":\"v\",\"text\":\"\",\"x\":[\"PTSD rate\",\"anxiety rate\",\"bipolar rate\",\"psychot depresn rate\",\"sleep disord rate\"],\"y\":[0.45652173913043476,0.0,1.0,0.1111111111111111,0.0],\"type\":\"bar\"},{\"marker\":{\"color\":\"rgba(128, 177, 211, 0.6)\",\"line\":{\"color\":\"rgba(128, 177, 211, 1.0)\",\"width\":1}},\"name\":\"change.in.eating\",\"orientation\":\"v\",\"text\":\"\",\"x\":[\"PTSD rate\",\"anxiety rate\",\"bipolar rate\",\"psychot depresn rate\",\"sleep disord rate\"],\"y\":[0.4782608695652174,0.0,0.0,0.0,0.0],\"type\":\"bar\"},{\"marker\":{\"color\":\"rgba(128, 177, 211, 0.6)\",\"line\":{\"color\":\"rgba(128, 177, 211, 0.8999999999999999)\",\"width\":1}},\"name\":\"suicidal.thought\",\"orientation\":\"v\",\"text\":\"\",\"x\":[\"PTSD rate\",\"anxiety rate\",\"bipolar rate\",\"psychot depresn rate\",\"sleep disord rate\"],\"y\":[0.0,0.0,0.0,1.0,0.0],\"type\":\"bar\"},{\"marker\":{\"color\":\"rgba(255, 153, 51, 0.6)\",\"line\":{\"color\":\"rgba(255, 153, 51, 0.8999999999999999)\",\"width\":1}},\"name\":\"feeling.tired\",\"orientation\":\"v\",\"text\":\"\",\"x\":[\"PTSD rate\",\"anxiety rate\",\"bipolar rate\",\"psychot depresn rate\",\"sleep disord rate\"],\"y\":[0.06521739130434782,0.4925373134328358,0.0,1.0,1.0],\"type\":\"bar\"},{\"marker\":{\"color\":\"rgba(55, 128, 191, 0.6)\",\"line\":{\"color\":\"rgba(55, 128, 191, 0.8999999999999999)\",\"width\":1}},\"name\":\"close.friend\",\"orientation\":\"v\",\"text\":\"\",\"x\":[\"PTSD rate\",\"anxiety rate\",\"bipolar rate\",\"psychot depresn rate\",\"sleep disord rate\"],\"y\":[1.0,1.0,1.0,0.0,1.0],\"type\":\"bar\"},{\"marker\":{\"color\":\"rgba(50, 171, 96, 0.6)\",\"line\":{\"color\":\"rgba(50, 171, 96, 0.8999999999999999)\",\"width\":1}},\"name\":\"social.media.addiction\",\"orientation\":\"v\",\"text\":\"\",\"x\":[\"PTSD rate\",\"anxiety rate\",\"bipolar rate\",\"psychot depresn rate\",\"sleep disord rate\"],\"y\":[1.0,1.0,1.0,0.1111111111111111,0.2647058823529412],\"type\":\"bar\"},{\"marker\":{\"color\":\"rgba(128, 0, 128, 0.6)\",\"line\":{\"color\":\"rgba(128, 0, 128, 0.8999999999999999)\",\"width\":1}},\"name\":\"weight.gain\",\"orientation\":\"v\",\"text\":\"\",\"x\":[\"PTSD rate\",\"anxiety rate\",\"bipolar rate\",\"psychot depresn rate\",\"sleep disord rate\"],\"y\":[0.0,0.4925373134328358,0.0,0.0,0.0],\"type\":\"bar\"},{\"marker\":{\"color\":\"rgba(219, 64, 82, 0.6)\",\"line\":{\"color\":\"rgba(219, 64, 82, 0.8999999999999999)\",\"width\":1}},\"name\":\"introvert\",\"orientation\":\"v\",\"text\":\"\",\"x\":[\"PTSD rate\",\"anxiety rate\",\"bipolar rate\",\"psychot depresn rate\",\"sleep disord rate\"],\"y\":[0.0,0.0,0.0,1.0,0.0],\"type\":\"bar\"},{\"marker\":{\"color\":\"rgba(0, 128, 128, 0.6)\",\"line\":{\"color\":\"rgba(0, 128, 128, 0.8999999999999999)\",\"width\":1}},\"name\":\"popping.up.stressful.memory\",\"orientation\":\"v\",\"text\":\"\",\"x\":[\"PTSD rate\",\"anxiety rate\",\"bipolar rate\",\"psychot depresn rate\",\"sleep disord rate\"],\"y\":[1.0,0.4925373134328358,0.0,0.8888888888888888,1.0],\"type\":\"bar\"},{\"marker\":{\"color\":\"rgba(255, 255, 51, 0.6)\",\"line\":{\"color\":\"rgba(255, 255, 51, 0.8999999999999999)\",\"width\":1}},\"name\":\"nightmares\",\"orientation\":\"v\",\"text\":\"\",\"x\":[\"PTSD rate\",\"anxiety rate\",\"bipolar rate\",\"psychot depresn rate\",\"sleep disord rate\"],\"y\":[1.0,0.0,0.0,0.1111111111111111,0.0],\"type\":\"bar\"},{\"marker\":{\"color\":\"rgba(128, 128, 0, 0.6)\",\"line\":{\"color\":\"rgba(128, 128, 0, 0.8999999999999999)\",\"width\":1}},\"name\":\"avoids.people.or.activities\",\"orientation\":\"v\",\"text\":\"\",\"x\":[\"PTSD rate\",\"anxiety rate\",\"bipolar rate\",\"psychot depresn rate\",\"sleep disord rate\"],\"y\":[0.4782608695652174,1.0,0.5348837209302325,1.0,0.0],\"type\":\"bar\"},{\"marker\":{\"color\":\"rgba(251, 128, 114, 0.6)\",\"line\":{\"color\":\"rgba(251, 128, 114, 0.8999999999999999)\",\"width\":1}},\"name\":\"feeling.negative\",\"orientation\":\"v\",\"text\":\"\",\"x\":[\"PTSD rate\",\"anxiety rate\",\"bipolar rate\",\"psychot depresn rate\",\"sleep disord rate\"],\"y\":[0.0,0.0,0.0,1.0,0.0],\"type\":\"bar\"},{\"marker\":{\"color\":\"rgba(251, 128, 114, 0.6)\",\"line\":{\"color\":\"rgba(251, 128, 114, 0.7999999999999998)\",\"width\":1}},\"name\":\"trouble.concentrating\",\"orientation\":\"v\",\"text\":\"\",\"x\":[\"PTSD rate\",\"anxiety rate\",\"bipolar rate\",\"psychot depresn rate\",\"sleep disord rate\"],\"y\":[0.15217391304347827,0.0,0.46511627906976744,1.0,1.0],\"type\":\"bar\"},{\"marker\":{\"color\":\"rgba(128, 177, 211, 0.6)\",\"line\":{\"color\":\"rgba(128, 177, 211, 0.7999999999999998)\",\"width\":1}},\"name\":\"blaming.yourself\",\"orientation\":\"v\",\"text\":\"\",\"x\":[\"PTSD rate\",\"anxiety rate\",\"bipolar rate\",\"psychot depresn rate\",\"sleep disord rate\"],\"y\":[0.9347826086956522,0.0,0.8372093023255814,0.0,0.0],\"type\":\"bar\"},{\"marker\":{\"color\":\"rgba(255, 153, 51, 0.6)\",\"line\":{\"color\":\"rgba(255, 153, 51, 0.7999999999999998)\",\"width\":1}},\"name\":\"hallucinations\",\"orientation\":\"v\",\"text\":\"\",\"x\":[\"PTSD rate\",\"anxiety rate\",\"bipolar rate\",\"psychot depresn rate\",\"sleep disord rate\"],\"y\":[0.5652173913043478,0.0,0.0,1.0,0.2647058823529412],\"type\":\"bar\"},{\"marker\":{\"color\":\"rgba(55, 128, 191, 0.6)\",\"line\":{\"color\":\"rgba(55, 128, 191, 0.7999999999999998)\",\"width\":1}},\"name\":\"repetitive.behaviour\",\"orientation\":\"v\",\"text\":\"\",\"x\":[\"PTSD rate\",\"anxiety rate\",\"bipolar rate\",\"psychot depresn rate\",\"sleep disord rate\"],\"y\":[0.8478260869565217,0.0,0.0,0.1111111111111111,0.0],\"type\":\"bar\"},{\"marker\":{\"color\":\"rgba(50, 171, 96, 0.6)\",\"line\":{\"color\":\"rgba(50, 171, 96, 0.7999999999999998)\",\"width\":1}},\"name\":\"seasonally\",\"orientation\":\"v\",\"text\":\"\",\"x\":[\"PTSD rate\",\"anxiety rate\",\"bipolar rate\",\"psychot depresn rate\",\"sleep disord rate\"],\"y\":[0.0,0.0,0.0,0.0,0.0],\"type\":\"bar\"},{\"marker\":{\"color\":\"rgba(128, 0, 128, 0.6)\",\"line\":{\"color\":\"rgba(128, 0, 128, 0.7999999999999998)\",\"width\":1}},\"name\":\"increased.energy\",\"orientation\":\"v\",\"text\":\"\",\"x\":[\"PTSD rate\",\"anxiety rate\",\"bipolar rate\",\"psychot depresn rate\",\"sleep disord rate\"],\"y\":[0.0,0.0,1.0,0.0,0.0],\"type\":\"bar\"}],                        {\"legend\":{\"bgcolor\":\"#F5F6F9\",\"font\":{\"color\":\"#4D5663\"}},\"paper_bgcolor\":\"#F5F6F9\",\"plot_bgcolor\":\"#F5F6F9\",\"template\":{\"data\":{\"barpolar\":[{\"marker\":{\"line\":{\"color\":\"#E5ECF6\",\"width\":0.5},\"pattern\":{\"fillmode\":\"overlay\",\"size\":10,\"solidity\":0.2}},\"type\":\"barpolar\"}],\"bar\":[{\"error_x\":{\"color\":\"#2a3f5f\"},\"error_y\":{\"color\":\"#2a3f5f\"},\"marker\":{\"line\":{\"color\":\"#E5ECF6\",\"width\":0.5},\"pattern\":{\"fillmode\":\"overlay\",\"size\":10,\"solidity\":0.2}},\"type\":\"bar\"}],\"carpet\":[{\"aaxis\":{\"endlinecolor\":\"#2a3f5f\",\"gridcolor\":\"white\",\"linecolor\":\"white\",\"minorgridcolor\":\"white\",\"startlinecolor\":\"#2a3f5f\"},\"baxis\":{\"endlinecolor\":\"#2a3f5f\",\"gridcolor\":\"white\",\"linecolor\":\"white\",\"minorgridcolor\":\"white\",\"startlinecolor\":\"#2a3f5f\"},\"type\":\"carpet\"}],\"choropleth\":[{\"colorbar\":{\"outlinewidth\":0,\"ticks\":\"\"},\"type\":\"choropleth\"}],\"contourcarpet\":[{\"colorbar\":{\"outlinewidth\":0,\"ticks\":\"\"},\"type\":\"contourcarpet\"}],\"contour\":[{\"colorbar\":{\"outlinewidth\":0,\"ticks\":\"\"},\"colorscale\":[[0.0,\"#0d0887\"],[0.1111111111111111,\"#46039f\"],[0.2222222222222222,\"#7201a8\"],[0.3333333333333333,\"#9c179e\"],[0.4444444444444444,\"#bd3786\"],[0.5555555555555556,\"#d8576b\"],[0.6666666666666666,\"#ed7953\"],[0.7777777777777778,\"#fb9f3a\"],[0.8888888888888888,\"#fdca26\"],[1.0,\"#f0f921\"]],\"type\":\"contour\"}],\"heatmapgl\":[{\"colorbar\":{\"outlinewidth\":0,\"ticks\":\"\"},\"colorscale\":[[0.0,\"#0d0887\"],[0.1111111111111111,\"#46039f\"],[0.2222222222222222,\"#7201a8\"],[0.3333333333333333,\"#9c179e\"],[0.4444444444444444,\"#bd3786\"],[0.5555555555555556,\"#d8576b\"],[0.6666666666666666,\"#ed7953\"],[0.7777777777777778,\"#fb9f3a\"],[0.8888888888888888,\"#fdca26\"],[1.0,\"#f0f921\"]],\"type\":\"heatmapgl\"}],\"heatmap\":[{\"colorbar\":{\"outlinewidth\":0,\"ticks\":\"\"},\"colorscale\":[[0.0,\"#0d0887\"],[0.1111111111111111,\"#46039f\"],[0.2222222222222222,\"#7201a8\"],[0.3333333333333333,\"#9c179e\"],[0.4444444444444444,\"#bd3786\"],[0.5555555555555556,\"#d8576b\"],[0.6666666666666666,\"#ed7953\"],[0.7777777777777778,\"#fb9f3a\"],[0.8888888888888888,\"#fdca26\"],[1.0,\"#f0f921\"]],\"type\":\"heatmap\"}],\"histogram2dcontour\":[{\"colorbar\":{\"outlinewidth\":0,\"ticks\":\"\"},\"colorscale\":[[0.0,\"#0d0887\"],[0.1111111111111111,\"#46039f\"],[0.2222222222222222,\"#7201a8\"],[0.3333333333333333,\"#9c179e\"],[0.4444444444444444,\"#bd3786\"],[0.5555555555555556,\"#d8576b\"],[0.6666666666666666,\"#ed7953\"],[0.7777777777777778,\"#fb9f3a\"],[0.8888888888888888,\"#fdca26\"],[1.0,\"#f0f921\"]],\"type\":\"histogram2dcontour\"}],\"histogram2d\":[{\"colorbar\":{\"outlinewidth\":0,\"ticks\":\"\"},\"colorscale\":[[0.0,\"#0d0887\"],[0.1111111111111111,\"#46039f\"],[0.2222222222222222,\"#7201a8\"],[0.3333333333333333,\"#9c179e\"],[0.4444444444444444,\"#bd3786\"],[0.5555555555555556,\"#d8576b\"],[0.6666666666666666,\"#ed7953\"],[0.7777777777777778,\"#fb9f3a\"],[0.8888888888888888,\"#fdca26\"],[1.0,\"#f0f921\"]],\"type\":\"histogram2d\"}],\"histogram\":[{\"marker\":{\"pattern\":{\"fillmode\":\"overlay\",\"size\":10,\"solidity\":0.2}},\"type\":\"histogram\"}],\"mesh3d\":[{\"colorbar\":{\"outlinewidth\":0,\"ticks\":\"\"},\"type\":\"mesh3d\"}],\"parcoords\":[{\"line\":{\"colorbar\":{\"outlinewidth\":0,\"ticks\":\"\"}},\"type\":\"parcoords\"}],\"pie\":[{\"automargin\":true,\"type\":\"pie\"}],\"scatter3d\":[{\"line\":{\"colorbar\":{\"outlinewidth\":0,\"ticks\":\"\"}},\"marker\":{\"colorbar\":{\"outlinewidth\":0,\"ticks\":\"\"}},\"type\":\"scatter3d\"}],\"scattercarpet\":[{\"marker\":{\"colorbar\":{\"outlinewidth\":0,\"ticks\":\"\"}},\"type\":\"scattercarpet\"}],\"scattergeo\":[{\"marker\":{\"colorbar\":{\"outlinewidth\":0,\"ticks\":\"\"}},\"type\":\"scattergeo\"}],\"scattergl\":[{\"marker\":{\"colorbar\":{\"outlinewidth\":0,\"ticks\":\"\"}},\"type\":\"scattergl\"}],\"scattermapbox\":[{\"marker\":{\"colorbar\":{\"outlinewidth\":0,\"ticks\":\"\"}},\"type\":\"scattermapbox\"}],\"scatterpolargl\":[{\"marker\":{\"colorbar\":{\"outlinewidth\":0,\"ticks\":\"\"}},\"type\":\"scatterpolargl\"}],\"scatterpolar\":[{\"marker\":{\"colorbar\":{\"outlinewidth\":0,\"ticks\":\"\"}},\"type\":\"scatterpolar\"}],\"scatter\":[{\"fillpattern\":{\"fillmode\":\"overlay\",\"size\":10,\"solidity\":0.2},\"type\":\"scatter\"}],\"scatterternary\":[{\"marker\":{\"colorbar\":{\"outlinewidth\":0,\"ticks\":\"\"}},\"type\":\"scatterternary\"}],\"surface\":[{\"colorbar\":{\"outlinewidth\":0,\"ticks\":\"\"},\"colorscale\":[[0.0,\"#0d0887\"],[0.1111111111111111,\"#46039f\"],[0.2222222222222222,\"#7201a8\"],[0.3333333333333333,\"#9c179e\"],[0.4444444444444444,\"#bd3786\"],[0.5555555555555556,\"#d8576b\"],[0.6666666666666666,\"#ed7953\"],[0.7777777777777778,\"#fb9f3a\"],[0.8888888888888888,\"#fdca26\"],[1.0,\"#f0f921\"]],\"type\":\"surface\"}],\"table\":[{\"cells\":{\"fill\":{\"color\":\"#EBF0F8\"},\"line\":{\"color\":\"white\"}},\"header\":{\"fill\":{\"color\":\"#C8D4E3\"},\"line\":{\"color\":\"white\"}},\"type\":\"table\"}]},\"layout\":{\"annotationdefaults\":{\"arrowcolor\":\"#2a3f5f\",\"arrowhead\":0,\"arrowwidth\":1},\"autotypenumbers\":\"strict\",\"coloraxis\":{\"colorbar\":{\"outlinewidth\":0,\"ticks\":\"\"}},\"colorscale\":{\"diverging\":[[0,\"#8e0152\"],[0.1,\"#c51b7d\"],[0.2,\"#de77ae\"],[0.3,\"#f1b6da\"],[0.4,\"#fde0ef\"],[0.5,\"#f7f7f7\"],[0.6,\"#e6f5d0\"],[0.7,\"#b8e186\"],[0.8,\"#7fbc41\"],[0.9,\"#4d9221\"],[1,\"#276419\"]],\"sequential\":[[0.0,\"#0d0887\"],[0.1111111111111111,\"#46039f\"],[0.2222222222222222,\"#7201a8\"],[0.3333333333333333,\"#9c179e\"],[0.4444444444444444,\"#bd3786\"],[0.5555555555555556,\"#d8576b\"],[0.6666666666666666,\"#ed7953\"],[0.7777777777777778,\"#fb9f3a\"],[0.8888888888888888,\"#fdca26\"],[1.0,\"#f0f921\"]],\"sequentialminus\":[[0.0,\"#0d0887\"],[0.1111111111111111,\"#46039f\"],[0.2222222222222222,\"#7201a8\"],[0.3333333333333333,\"#9c179e\"],[0.4444444444444444,\"#bd3786\"],[0.5555555555555556,\"#d8576b\"],[0.6666666666666666,\"#ed7953\"],[0.7777777777777778,\"#fb9f3a\"],[0.8888888888888888,\"#fdca26\"],[1.0,\"#f0f921\"]]},\"colorway\":[\"#636efa\",\"#EF553B\",\"#00cc96\",\"#ab63fa\",\"#FFA15A\",\"#19d3f3\",\"#FF6692\",\"#B6E880\",\"#FF97FF\",\"#FECB52\"],\"font\":{\"color\":\"#2a3f5f\"},\"geo\":{\"bgcolor\":\"white\",\"lakecolor\":\"white\",\"landcolor\":\"#E5ECF6\",\"showlakes\":true,\"showland\":true,\"subunitcolor\":\"white\"},\"hoverlabel\":{\"align\":\"left\"},\"hovermode\":\"closest\",\"mapbox\":{\"style\":\"light\"},\"paper_bgcolor\":\"white\",\"plot_bgcolor\":\"#E5ECF6\",\"polar\":{\"angularaxis\":{\"gridcolor\":\"white\",\"linecolor\":\"white\",\"ticks\":\"\"},\"bgcolor\":\"#E5ECF6\",\"radialaxis\":{\"gridcolor\":\"white\",\"linecolor\":\"white\",\"ticks\":\"\"}},\"scene\":{\"xaxis\":{\"backgroundcolor\":\"#E5ECF6\",\"gridcolor\":\"white\",\"gridwidth\":2,\"linecolor\":\"white\",\"showbackground\":true,\"ticks\":\"\",\"zerolinecolor\":\"white\"},\"yaxis\":{\"backgroundcolor\":\"#E5ECF6\",\"gridcolor\":\"white\",\"gridwidth\":2,\"linecolor\":\"white\",\"showbackground\":true,\"ticks\":\"\",\"zerolinecolor\":\"white\"},\"zaxis\":{\"backgroundcolor\":\"#E5ECF6\",\"gridcolor\":\"white\",\"gridwidth\":2,\"linecolor\":\"white\",\"showbackground\":true,\"ticks\":\"\",\"zerolinecolor\":\"white\"}},\"shapedefaults\":{\"line\":{\"color\":\"#2a3f5f\"}},\"ternary\":{\"aaxis\":{\"gridcolor\":\"white\",\"linecolor\":\"white\",\"ticks\":\"\"},\"baxis\":{\"gridcolor\":\"white\",\"linecolor\":\"white\",\"ticks\":\"\"},\"bgcolor\":\"#E5ECF6\",\"caxis\":{\"gridcolor\":\"white\",\"linecolor\":\"white\",\"ticks\":\"\"}},\"title\":{\"x\":0.05},\"xaxis\":{\"automargin\":true,\"gridcolor\":\"white\",\"linecolor\":\"white\",\"ticks\":\"\",\"title\":{\"standoff\":15},\"zerolinecolor\":\"white\",\"zerolinewidth\":2},\"yaxis\":{\"automargin\":true,\"gridcolor\":\"white\",\"linecolor\":\"white\",\"ticks\":\"\",\"title\":{\"standoff\":15},\"zerolinecolor\":\"white\",\"zerolinewidth\":2}}},\"title\":{\"font\":{\"color\":\"#4D5663\"},\"text\":\"Gejala yang berkaitan dengn Gangguan\"},\"xaxis\":{\"gridcolor\":\"#E1E5ED\",\"showgrid\":true,\"tickfont\":{\"color\":\"#4D5663\"},\"title\":{\"font\":{\"color\":\"#4D5663\"},\"text\":\"\"},\"zerolinecolor\":\"#E1E5ED\"},\"yaxis\":{\"gridcolor\":\"#E1E5ED\",\"showgrid\":true,\"tickfont\":{\"color\":\"#4D5663\"},\"title\":{\"font\":{\"color\":\"#4D5663\"},\"text\":\"\"},\"zerolinecolor\":\"#E1E5ED\"}},                        {\"showLink\": true, \"linkText\": \"Export to plot.ly\", \"plotlyServerURL\": \"https://plot.ly\", \"responsive\": true}                    ).then(function(){\n",
              "                            \n",
              "var gd = document.getElementById('b74756b1-0c62-4824-9d48-b761b490d7e4');\n",
              "var x = new MutationObserver(function (mutations, observer) {{\n",
              "        var display = window.getComputedStyle(gd).display;\n",
              "        if (!display || display === 'none') {{\n",
              "            console.log([gd, 'removed!']);\n",
              "            Plotly.purge(gd);\n",
              "            observer.disconnect();\n",
              "        }}\n",
              "}});\n",
              "\n",
              "// Listen for the removal of the full notebook cells\n",
              "var notebookContainer = gd.closest('#notebook-container');\n",
              "if (notebookContainer) {{\n",
              "    x.observe(notebookContainer, {childList: true});\n",
              "}}\n",
              "\n",
              "// Listen for the clearing of the current output cell\n",
              "var outputEl = gd.closest('.output');\n",
              "if (outputEl) {{\n",
              "    x.observe(outputEl, {childList: true});\n",
              "}}\n",
              "\n",
              "                        })                };                });            </script>        </div>"
            ]
          },
          "metadata": {},
          "output_type": "display_data"
        }
      ],
      "source": [
        "byDisorderRate['PTSD':].iloc[:, 1:27].iplot(kind='bar', title='Gejala yang berkaitan dengn Gangguan')"
      ]
    }
  ],
  "metadata": {
    "colab": {
      "provenance": []
    },
    "kernelspec": {
      "display_name": "Python 3",
      "name": "python3"
    },
    "language_info": {
      "codemirror_mode": {
        "name": "ipython",
        "version": 3
      },
      "file_extension": ".py",
      "mimetype": "text/x-python",
      "name": "python",
      "nbconvert_exporter": "python",
      "pygments_lexer": "ipython3",
      "version": "3.10.6"
    }
  },
  "nbformat": 4,
  "nbformat_minor": 0
}
